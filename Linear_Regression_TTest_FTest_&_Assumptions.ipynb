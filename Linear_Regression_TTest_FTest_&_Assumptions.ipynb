{
  "cells": [
    {
      "cell_type": "markdown",
      "metadata": {
        "id": "view-in-github",
        "colab_type": "text"
      },
      "source": [
        "<a href=\"https://colab.research.google.com/github/mukul-mschauhan/Machine-Learning-Projects/blob/master/Linear_Regression_TTest_FTest_%26_Assumptions.ipynb\" target=\"_parent\"><img src=\"https://colab.research.google.com/assets/colab-badge.svg\" alt=\"Open In Colab\"/></a>"
      ]
    },
    {
      "cell_type": "markdown",
      "metadata": {
        "id": "nv5qrNWJzlPJ"
      },
      "source": [
        "### Linear Regression\n",
        "\n",
        "* Lets Understand the importance of F Test in Regression\n",
        "* T tests for Slope\n",
        "* Linear Regression Assumptions\n",
        "\n",
        "\n",
        "### Deploying a Regression\n",
        "\n",
        "* Import the Data\n",
        "* Univariate Analysis\n",
        "* Bivariate Analysis\n",
        "* Missing Values\n",
        "* Outlier Analysis and Removal of Outliers.\n",
        "* Transformation & Scaling (If required)\n",
        "* **Data Preprocessing Stage**\n",
        "\n",
        "It means that the data is ready for Modelling\n",
        "\n",
        "* Modelling\n",
        "* Linear Regression\n",
        "* Lasso & Ridge Regression\n",
        "* Decision Trees, Random Forests, KNN Regressor, Naive Bayes, Bagging, Boosting\n",
        "* Ensemble Techniques - Random Forests, Stacking..\n",
        "* Hyperparameter Tuning & Use Lot of CVs.."
      ]
    },
    {
      "cell_type": "code",
      "execution_count": 1,
      "metadata": {
        "id": "tzjKbgxgzlPQ"
      },
      "outputs": [],
      "source": [
        "import pandas as pd\n",
        "import numpy as np\n",
        "import scipy.stats as stats\n",
        "from statsmodels.formula.api import ols\n",
        "import matplotlib.pyplot as plt\n",
        "import seaborn as sns\n",
        "from sklearn.metrics import mean_squared_error, mean_absolute_error\n",
        "from warnings import filterwarnings\n",
        "filterwarnings('ignore')"
      ]
    },
    {
      "cell_type": "code",
      "execution_count": 2,
      "metadata": {
        "id": "rUNq3fTpzlPY"
      },
      "outputs": [],
      "source": [
        "premium = pd.DataFrame({\"Mileage\":[15,14,17,7,10,7,20,21,18,11,7.9,8.6,12.3,17.1,19.4],\n",
        "                        \"Engine\":[1.8,1.2,1.2,1.8,1.6,1.4,1.2,1.6,1.2,1.6,1.4,1.6,1.2,1.6,1.2],\n",
        "                        \"Age\":[2,10,8,3,4,3,7,6,2,5,3,3,2,1,6],\n",
        "                        \"Premium\":[392.5,46.2,15.7,422.2,119.4,170.9,56.9,77.5,214,65.3,250,220,217.5,140.88,97.25]})"
      ]
    },
    {
      "cell_type": "code",
      "execution_count": 4,
      "metadata": {
        "colab": {
          "base_uri": "https://localhost:8080/"
        },
        "id": "OEg-Bx58zlPd",
        "outputId": "27d455b6-82b8-42dc-936a-8b304b4511cb"
      },
      "outputs": [
        {
          "output_type": "stream",
          "name": "stdout",
          "text": [
            "                            OLS Regression Results                            \n",
            "==============================================================================\n",
            "Dep. Variable:                Premium   R-squared:                       0.226\n",
            "Model:                            OLS   Adj. R-squared:                  0.166\n",
            "Method:                 Least Squares   F-statistic:                     3.789\n",
            "Date:                Sat, 23 Nov 2024   Prob (F-statistic):             0.0735\n",
            "Time:                        02:17:09   Log-Likelihood:                -90.831\n",
            "No. Observations:                  15   AIC:                             185.7\n",
            "Df Residuals:                      13   BIC:                             187.1\n",
            "Df Model:                           1                                         \n",
            "Covariance Type:            nonrobust                                         \n",
            "==============================================================================\n",
            "                 coef    std err          t      P>|t|      [0.025      0.975]\n",
            "------------------------------------------------------------------------------\n",
            "Intercept    327.0860     87.035      3.758      0.002     139.057     515.115\n",
            "Mileage      -11.6905      6.006     -1.947      0.074     -24.665       1.284\n",
            "==============================================================================\n",
            "Omnibus:                        3.225   Durbin-Watson:                   2.347\n",
            "Prob(Omnibus):                  0.199   Jarque-Bera (JB):                1.770\n",
            "Skew:                           0.841   Prob(JB):                        0.413\n",
            "Kurtosis:                       3.057   Cond. No.                         44.3\n",
            "==============================================================================\n",
            "\n",
            "Notes:\n",
            "[1] Standard Errors assume that the covariance matrix of the errors is correctly specified.\n"
          ]
        }
      ],
      "source": [
        "# Build the model using Mileage and Premium\n",
        "model = ols(\"Premium~Mileage\", data = premium).fit()\n",
        "\n",
        "print(model.summary())"
      ]
    },
    {
      "cell_type": "markdown",
      "metadata": {
        "id": "_gRaD4LmzlPj"
      },
      "source": [
        "### Hypothesis Testing: Anova for Regression\n",
        "\n",
        "* H0: F test assumes that the model coefficients are 0.\n",
        "* H1: F test assumes that the model coefficients aren't 0.\n",
        "\n",
        "* F test is a test of significance in regression. If the pvalue > 0.05 then we fail to reject the Ho.\n",
        "* It means that the feature used to build the model is not significant.\n",
        "* It means that it is not a significant contributor to the model.\n",
        "\n",
        "#### Difference between F test & T Test in Regression\n",
        "\n",
        "* F test shows the overall significance (considering all the variables) where as T Test shows whether each and every feature is individually important or statistically significant.\n",
        "\n",
        "### Calculate F Statistic\n",
        "\n",
        "F Stats = MSR/MSE\n",
        "\n",
        "* Mean Square Regression = Sum of Square Regression/Predictor Count)\n",
        "* Mean Square Error = SSE/(n-p-1)\n",
        "\n"
      ]
    },
    {
      "cell_type": "code",
      "execution_count": 5,
      "metadata": {
        "id": "LGWKzTcdzlPn"
      },
      "outputs": [],
      "source": [
        "# Sum of Sq Regression = yhat-ybar\n",
        "# SSE\n",
        "\n",
        "yhat = -11.6905*premium[\"Mileage\"]+327.0860 # Y hat\n",
        "\n",
        "SSE = np.sum((premium[\"Premium\"] - yhat)**2) # SSE = yi-yhat\n",
        "\n",
        "SSR = np.sum((yhat-premium[\"Premium\"].mean())**2) # SSR = yhat - ybar"
      ]
    },
    {
      "cell_type": "code",
      "execution_count": 6,
      "metadata": {
        "colab": {
          "base_uri": "https://localhost:8080/"
        },
        "id": "b4payz_kzlPo",
        "outputId": "e78a6137-0e74-4d7c-bc38-ecc9f5386bcc"
      },
      "outputs": [
        {
          "output_type": "stream",
          "name": "stdout",
          "text": [
            "FTest Statistic:  3.789239534705334\n",
            "PValue(F):  0.0735202665782958\n"
          ]
        }
      ],
      "source": [
        "# Mean Square Regression\n",
        "MSR = SSR/1 # here 1 is the no of predictors::Mileage\n",
        "\n",
        "# Mean Square Error\n",
        "n = premium.shape[0]\n",
        "\n",
        "MSE = SSE/(n-1-1) #n-p-1\n",
        "\n",
        "Fstats = MSR/MSE\n",
        "\n",
        "print(\"FTest Statistic: \", Fstats)\n",
        "\n",
        "# Pvalue\n",
        "\n",
        "print(\"PValue(F): \",1 - stats.f.cdf(Fstats, 1, n-1-1)) # Dfn, DFd\n",
        "\n",
        "# Inference: F Test suggests that Mileage is not a Significant Variable."
      ]
    },
    {
      "cell_type": "markdown",
      "metadata": {
        "id": "doWOeo5hzlPp"
      },
      "source": [
        "### Hypothesis Testing: Slope\n",
        "\n",
        "* HO: Beta1 = 0. It means that the Predictor is not contributing significantly.\n",
        "* H1: Beta 1 !=0. The Feature is significant for the Model.\n",
        "\n",
        "Note: T tests are always a two tail test thus, when we calculate the PValue,\n",
        "we have to Multiply by 2."
      ]
    },
    {
      "cell_type": "code",
      "execution_count": 7,
      "metadata": {
        "colab": {
          "base_uri": "https://localhost:8080/"
        },
        "id": "CG6A_jfnzlPq",
        "outputId": "f692bc09-c0f1-4c42-fa5e-4f39e5e33518"
      },
      "outputs": [
        {
          "output_type": "stream",
          "name": "stdout",
          "text": [
            "T Test Statistic -1.9464701964701965\n",
            "Pr(t-stats) 0.07353681873117468\n"
          ]
        }
      ],
      "source": [
        "# Calculate the T Test Statistic Value\n",
        "# tstats = Model Coefficient/Std Error\n",
        "\n",
        "# Pvalue as per the table - 0.074\n",
        "\n",
        "tstats = -11.6905/6.006 #(Coeff/Std Error)\n",
        "print(\"T Test Statistic\", tstats)\n",
        "\n",
        "df = premium.shape[0] - 2 # n-2\n",
        "\n",
        "print(\"Pr(t-stats)\", (1-stats.t.cdf(np.abs(tstats), df))*2)\n",
        "\n",
        "# Inference: If the PValue is less than 0.05, we reject Ho meaning that\n",
        "# Variable is significant.\n",
        "\n",
        "# As a groundrule, we always check the PValue of all the Predictors\n",
        "# to decide if the variables are contributing towards the model."
      ]
    },
    {
      "cell_type": "markdown",
      "metadata": {
        "id": "lQLBNjG2zlPs"
      },
      "source": [
        "### Confidence Interval for Slope"
      ]
    },
    {
      "cell_type": "code",
      "execution_count": 8,
      "metadata": {
        "colab": {
          "base_uri": "https://localhost:8080/"
        },
        "id": "vmYra4RQzlPt",
        "outputId": "10e1ede9-a96e-44e2-9a12-b1a3fde991fc"
      },
      "outputs": [
        {
          "output_type": "stream",
          "name": "stdout",
          "text": [
            "TCritical:  2.160368656461013\n",
            "Confidence Interval 0.025 -24.6657\n",
            "Confidence Interval 0.975 1.2847\n"
          ]
        }
      ],
      "source": [
        "alpha_by_two = 0.05/2\n",
        "\n",
        "df = premium.shape[0]-2\n",
        "\n",
        "# xbar +/-tcrit*SE\n",
        "\n",
        "# xbar - Model Coefficient\n",
        "\n",
        "beta1 = -11.6905\n",
        "se = 6.006\n",
        "\n",
        "tcrit = np.abs(stats.t.ppf(alpha_by_two, df))\n",
        "print(\"TCritical: \", tcrit)\n",
        "\n",
        "print(\"Confidence Interval 0.025\", np.round(beta1-tcrit*se,4))\n",
        "print(\"Confidence Interval 0.975\", np.round(beta1+tcrit*se,4))"
      ]
    },
    {
      "cell_type": "markdown",
      "metadata": {
        "id": "SvHvuLQrzlPw"
      },
      "source": [
        "## Linear Regression Assumptions\n",
        "\n",
        "Fit the Model and Check the Assumptions\n",
        "\n"
      ]
    },
    {
      "cell_type": "code",
      "execution_count": 9,
      "metadata": {
        "colab": {
          "base_uri": "https://localhost:8080/"
        },
        "id": "nHPRod10zlPx",
        "outputId": "78ae998f-e36f-4e06-93b8-5ebd3646b973"
      },
      "outputs": [
        {
          "output_type": "stream",
          "name": "stdout",
          "text": [
            "                            OLS Regression Results                            \n",
            "==============================================================================\n",
            "Dep. Variable:                Premium   R-squared:                       0.591\n",
            "Model:                            OLS   Adj. R-squared:                  0.480\n",
            "Method:                 Least Squares   F-statistic:                     5.309\n",
            "Date:                Sat, 23 Nov 2024   Prob (F-statistic):             0.0166\n",
            "Time:                        02:17:32   Log-Likelihood:                -86.035\n",
            "No. Observations:                  15   AIC:                             180.1\n",
            "Df Residuals:                      11   BIC:                             182.9\n",
            "Df Model:                           3                                         \n",
            "Covariance Type:            nonrobust                                         \n",
            "==============================================================================\n",
            "                 coef    std err          t      P>|t|      [0.025      0.975]\n",
            "------------------------------------------------------------------------------\n",
            "Intercept    138.3977    218.865      0.632      0.540    -343.321     620.116\n",
            "Mileage       -4.8756      5.252     -0.928      0.373     -16.436       6.684\n",
            "Engine       137.6328    118.936      1.157      0.272    -124.143     399.409\n",
            "Age          -23.7176     10.444     -2.271      0.044     -46.704      -0.731\n",
            "==============================================================================\n",
            "Omnibus:                        0.101   Durbin-Watson:                   2.374\n",
            "Prob(Omnibus):                  0.951   Jarque-Bera (JB):                0.285\n",
            "Skew:                           0.143   Prob(JB):                        0.867\n",
            "Kurtosis:                       2.388   Cond. No.                         167.\n",
            "==============================================================================\n",
            "\n",
            "Notes:\n",
            "[1] Standard Errors assume that the covariance matrix of the errors is correctly specified.\n"
          ]
        }
      ],
      "source": [
        "model = ols(\"Premium~Mileage+Engine+Age\", data = premium).fit()\n",
        "\n",
        "print(model.summary())"
      ]
    },
    {
      "cell_type": "markdown",
      "metadata": {
        "id": "Vw1kzQuIzlPy"
      },
      "source": [
        "# Linear Regression Assumptions\n",
        "\n",
        "* Linearity - The Data should be **linear** in nature. It means that the predictors should have a linear relationship with the Target variable.\n",
        "\n",
        "* Normality - The Data should be **normal**. It means after fitting the model, the residuals/errors should be normally distributed.\n",
        "\n",
        "* Multicollinearity - The **predictor variables should not have a strong correlation** amongst themselves. Having a strong correlation with target variable is awesome but amongst predictors is a sign of multicollinearity.\n",
        "\n",
        "* Heteroskedasticity - It simply means **unequal variances**. The residuals should not have unequal variances.\n",
        "\n",
        "* Autocorrelation - The **errors should not be autocorrelated**. If there is autocorrelation, we would run into assumption that the feature is significant where in reality, it won't be."
      ]
    },
    {
      "cell_type": "code",
      "execution_count": 10,
      "metadata": {
        "colab": {
          "base_uri": "https://localhost:8080/"
        },
        "id": "X35UNHbmzlP0",
        "outputId": "7a628b6e-7a43-49df-cce1-a1c753525250"
      },
      "outputs": [
        {
          "output_type": "execute_result",
          "data": {
            "text/plain": [
              "(4.677948550044168, 0.11587562145871068)"
            ]
          },
          "metadata": {},
          "execution_count": 10
        }
      ],
      "source": [
        "# Linear Assumption:: Rainbow Test\n",
        "\n",
        "# Ho: Data is Linear or the Model shows signs of Linearity.\n",
        "# H1: Models is not linear. Since it is not linear so regression cannot be applied.\n",
        "\n",
        "import statsmodels.api as sma\n",
        "\n",
        "sma.stats.diagnostic.linear_rainbow(model) # test stats, pvalue.\n",
        "\n",
        "# Rule: PValue< 0.05: Reject the Ho.\n",
        "# Inf: Data is Linear."
      ]
    },
    {
      "cell_type": "code",
      "source": [
        "def test_linearity(model):\n",
        "  import statsmodels.api as sma\n",
        "  teststats, pvalue = sma.stats.diagnostic.linear_rainbow(model)\n",
        "  return(pvalue)"
      ],
      "metadata": {
        "id": "uB2nDPRGz4Nz"
      },
      "execution_count": 18,
      "outputs": []
    },
    {
      "cell_type": "markdown",
      "metadata": {
        "id": "voCcQz04zlP1"
      },
      "source": [
        "### Residual Plot\n",
        "\n",
        "* A Residual Plot shows the **Residuals on Y axis** and **Fitted Values(Predicted Values) on the X-Axis.**\n",
        "* If the points in Residual Plot are randomly scattered showing no pattern then LR is a well built model.\n",
        "* If the Residual Plot shows some pattern then LR is not a good fit. We must deploy another model.\n"
      ]
    },
    {
      "cell_type": "code",
      "execution_count": 13,
      "metadata": {
        "colab": {
          "base_uri": "https://localhost:8080/",
          "height": 472
        },
        "id": "nBewblPRzlP2",
        "outputId": "d63e9bf8-2749-4c69-83fb-c610127c7fef"
      },
      "outputs": [
        {
          "output_type": "display_data",
          "data": {
            "text/plain": [
              "<Figure size 640x480 with 1 Axes>"
            ],
            "image/png": "[encoded data removed]"
          },
          "metadata": {}
        }
      ],
      "source": [
        "# Residual and Fitted Values\n",
        "residual = model.resid #(Error: Act-Pred)\n",
        "fitted = model.fittedvalues # predicted values\n",
        "\n",
        "# Plotting the Residuals.\n",
        "sns.set_style(\"whitegrid\") # theme of the plot\n",
        "\n",
        "sns.residplot(x = fitted, y = residual, color = \"m\") # plt.scatter(fitted, residual, color = \"m\")\n",
        "plt.xlabel(\"Fitted Values\")\n",
        "plt.ylabel(\"Residuals\")\n",
        "plt.title(\"Residual Plot\")\n",
        "plt.show()\n",
        "\n",
        "# Inference: The plot is showing randomness with no pattern and hence, LR is a good fit."
      ]
    },
    {
      "cell_type": "markdown",
      "metadata": {
        "id": "8dL8od9MzlP4"
      },
      "source": [
        "## 02nd Assumption: Normality | Tests: Shapiro Wilk test of Normality & Jarque Bera Test\n",
        "\n",
        "* Probplot\n",
        "\n",
        "* Shapiro Wilk Test of Normality - Applicable till 5000 Rows of Data.\n",
        "* Jarque Bera Test of Normality (>5000 Rows) - Large Datasets\n",
        "\n",
        "* **These tests are telling us if the sample pulled out randomly are normally distributed or not.**\n",
        "\n",
        "* Ho: Data is normal\n",
        "* H1: Ho is False: Data or Residuals are not normally distributed.\n",
        "\n",
        "* Inference: If the PValue<0.05, We reject the Ho meaning that the Data is not Normal.\n",
        "\n"
      ]
    },
    {
      "cell_type": "code",
      "execution_count": 14,
      "metadata": {
        "colab": {
          "base_uri": "https://localhost:8080/"
        },
        "id": "7Umz-LoNzlP5",
        "outputId": "d0872a09-02cb-43fa-e756-0632a896aa90"
      },
      "outputs": [
        {
          "output_type": "execute_result",
          "data": {
            "text/plain": [
              "ShapiroResult(statistic=0.9564692767483918, pvalue=0.6313230983602043)"
            ]
          },
          "metadata": {},
          "execution_count": 14
        }
      ],
      "source": [
        "# Shapiro Wilk Test of Normality: TGT & Residual.\n",
        "\n",
        "stats.shapiro(model.resid) # Residuals are Normally Distributed.\n",
        "#stats.shapiro(premium[\"Premium\"]) # Tgt Variable is normally Distributed."
      ]
    },
    {
      "cell_type": "code",
      "execution_count": 16,
      "metadata": {
        "colab": {
          "base_uri": "https://localhost:8080/",
          "height": 472
        },
        "id": "aHLuxQANzlP6",
        "outputId": "77371bce-d589-48ff-f7ef-744599f82232"
      },
      "outputs": [
        {
          "output_type": "display_data",
          "data": {
            "text/plain": [
              "<Figure size 640x480 with 1 Axes>"
            ],
            "image/png": "[encoded data removed]"
          },
          "metadata": {}
        }
      ],
      "source": [
        "# Probplot\n",
        "from scipy.stats import probplot\n",
        "\n",
        "probplot(model.resid, plot = plt)\n",
        "plt.show()\n",
        "\n",
        "# Inferece: Since most of the points are closer to the red line hence, the data is normally distributed.\n",
        "# If the points deviated from the red line, we can conclude that the data is not normally distributed."
      ]
    },
    {
      "cell_type": "code",
      "execution_count": 17,
      "metadata": {
        "colab": {
          "base_uri": "https://localhost:8080/"
        },
        "id": "naMyiRdjzlP7",
        "outputId": "cbc5a2b5-4518-414f-899d-a82ac33d1fb1"
      },
      "outputs": [
        {
          "output_type": "stream",
          "name": "stdout",
          "text": [
            "Test Stats:  0.28527941900123077\n",
            "PValue - Jarque Bera:  0.867066408414917\n"
          ]
        }
      ],
      "source": [
        "# Jarque Bera Test\n",
        "\n",
        "# JB test of normality\n",
        "# Samples pulled out are normally distributed.\n",
        "# Meant for Samples greater than 5K rows of the data.\n",
        "# This Test uses Skewness and Kurtosis to find that the data is normal.\n",
        "# For a Normally Distributed Data, skewness is 0 and Kurtosis is 3.\n",
        "# Any Deviation from these values is considered to be not normal.\n",
        "\n",
        "# Ho: Data is Normal & H1: Data is not Normal.\n",
        "\n",
        "# Applying Jarqe Bera Test on Residuals\n",
        "print(\"Test Stats: \", stats.jarque_bera(model.resid)[0])\n",
        "print(\"PValue - Jarque Bera: \", stats.jarque_bera(model.resid)[1])"
      ]
    },
    {
      "cell_type": "code",
      "source": [
        "def test_normality(model):\n",
        "  residuals = model.resid\n",
        "  teststats, pvalue = stats.jarque_bera(residuals)\n",
        "  return(pvalue)"
      ],
      "metadata": {
        "id": "llq-8Ypn0nNR"
      },
      "execution_count": null,
      "outputs": []
    },
    {
      "cell_type": "markdown",
      "metadata": {
        "id": "GHA4Smc-zlP9"
      },
      "source": [
        "### 03: Assumption of Multicollinearity | Condition No, Correlationplot, Variance Inflation Factor (VIF)\n",
        "\n",
        "* Correlationplot - Create a Heatmap that has correl values for all the variables. We can easily see if there is a strong correlation between the predictors.\n",
        "\n",
        "* Condition No: **<100: No Multicollinearity, 100-1000: Moderate Multicollinearity, >1000: High**\n",
        "* Condition no will tell you if there is Multicollinearity or not but if we really wanna know what all variables are multicollinear, I need to apply VIF.\n",
        "\n",
        "#### Why there is a Multicollinearity (Causes)\n",
        "\n",
        "* It exists because maybe the data was not captured correctly.\n",
        "* For e.g. Income vs Expenses, No of Gadgets vs Income. These things cannot be removed from data.\n",
        "* It is also seen because of the **variable extracted/created as a part of Feature Engineering.**\n",
        "* For e.g. BMI on the basis on weight and height. This variable might be important for the model, however, this leads to introduction of Multicollinearity in the data.\n",
        "* Temp in Celsius & Temp in Farenheit.. (0.90 Correlation)\n",
        "* **Dummy Variable Trap - Gender (Male/Female):: Gender_Male(0,1) & Gender_Female(0,1). You can have only 1F.**\n",
        "* Insufficient Data...\n",
        "\n",
        "\n",
        "#### Is this a Problem\n",
        "\n",
        "* It is a big problem because if the variables are highly correlated, we would never come to know the contribution of the variables individually.\n",
        "\n",
        "* It is because Multicollinearity does not really impact the overall efficiency of the model but it does impact the calculation of SE, T-Test Stat and in turn, PValue. In a nutshell, the model will lose reliability in determining the effects of the predictors on the target.\n",
        "\n",
        "* What is to be done - Drop one Variable out of the Two.\n",
        "\n",
        "\n",
        "### Role of VIF\n",
        "\n",
        "* VIF determines the strength of the correlation between the predictors(ind var). It will take one variable as target vs other predictors (mileage: tgt and age and engine: predictors)\n",
        "* It is calculated using a variable as target and regressing it against predictors.\n",
        "* Note: The Original Target Variable is not used in VIF Calculation.\n",
        "* VIF score tells us how that vairable is explained by other predictors.\n",
        "\n",
        "* **Thumb Rule: VIF = 1, No Collinearity, 1-5: Moderate, > 5: Highly Collinear**\n",
        "\n",
        "Tip: Try Feature Selection. Sequential Feature Selector - mlxtend \"r2\" | CV -10, 15\n"
      ]
    },
    {
      "cell_type": "code",
      "execution_count": 35,
      "metadata": {
        "colab": {
          "base_uri": "https://localhost:8080/",
          "height": 143
        },
        "id": "T7TYAwR7zlQE",
        "outputId": "14e935aa-6930-417b-f2db-ad9caf3475a0"
      },
      "outputs": [
        {
          "output_type": "execute_result",
          "data": {
            "text/plain": [
              "  Features       VIF\n",
              "0  Mileage  8.641017\n",
              "1   Engine  6.172812\n",
              "2      Age  4.359966"
            ],
            "text/html": [
              "\n",
              "  <div id=\"df-87afd9d9-59ed-437a-933d-ed51a2f30e8b\" class=\"colab-df-container\">\n",
              "    <div>\n",
              "<style scoped>\n",
              "    .dataframe tbody tr th:only-of-type {\n",
              "        vertical-align: middle;\n",
              "    }\n",
              "\n",
              "    .dataframe tbody tr th {\n",
              "        vertical-align: top;\n",
              "    }\n",
              "\n",
              "    .dataframe thead th {\n",
              "        text-align: right;\n",
              "    }\n",
              "</style>\n",
              "<table border=\"1\" class=\"dataframe\">\n",
              "  <thead>\n",
              "    <tr style=\"text-align: right;\">\n",
              "      <th></th>\n",
              "      <th>Features</th>\n",
              "      <th>VIF</th>\n",
              "    </tr>\n",
              "  </thead>\n",
              "  <tbody>\n",
              "    <tr>\n",
              "      <th>0</th>\n",
              "      <td>Mileage</td>\n",
              "      <td>8.641017</td>\n",
              "    </tr>\n",
              "    <tr>\n",
              "      <th>1</th>\n",
              "      <td>Engine</td>\n",
              "      <td>6.172812</td>\n",
              "    </tr>\n",
              "    <tr>\n",
              "      <th>2</th>\n",
              "      <td>Age</td>\n",
              "      <td>4.359966</td>\n",
              "    </tr>\n",
              "  </tbody>\n",
              "</table>\n",
              "</div>\n",
              "    <div class=\"colab-df-buttons\">\n",
              "\n",
              "  <div class=\"colab-df-container\">\n",
              "    <button class=\"colab-df-convert\" onclick=\"convertToInteractive('df-87afd9d9-59ed-437a-933d-ed51a2f30e8b')\"\n",
              "            title=\"Convert this dataframe to an interactive table.\"\n",
              "            style=\"display:none;\">\n",
              "\n",
              "  <svg xmlns=\"http://www.w3.org/2000/svg\" height=\"24px\" viewBox=\"0 -960 960 960\">\n",
              "    <path d=\"M120-120v-720h720v720H120Zm60-500h600v-160H180v160Zm220 220h160v-160H400v160Zm0 220h160v-160H400v160ZM180-400h160v-160H180v160Zm440 0h160v-160H620v160ZM180-180h160v-160H180v160Zm440 0h160v-160H620v160Z\"/>\n",
              "  </svg>\n",
              "    </button>\n",
              "\n",
              "  <style>\n",
              "    .colab-df-container {\n",
              "      display:flex;\n",
              "      gap: 12px;\n",
              "    }\n",
              "\n",
              "    .colab-df-convert {\n",
              "      background-color: #E8F0FE;\n",
              "      border: none;\n",
              "      border-radius: 50%;\n",
              "      cursor: pointer;\n",
              "      display: none;\n",
              "      fill: #1967D2;\n",
              "      height: 32px;\n",
              "      padding: 0 0 0 0;\n",
              "      width: 32px;\n",
              "    }\n",
              "\n",
              "    .colab-df-convert:hover {\n",
              "      background-color: #E2EBFA;\n",
              "      box-shadow: 0px 1px 2px rgba(60, 64, 67, 0.3), 0px 1px 3px 1px rgba(60, 64, 67, 0.15);\n",
              "      fill: #174EA6;\n",
              "    }\n",
              "\n",
              "    .colab-df-buttons div {\n",
              "      margin-bottom: 4px;\n",
              "    }\n",
              "\n",
              "    [theme=dark] .colab-df-convert {\n",
              "      background-color: #3B4455;\n",
              "      fill: #D2E3FC;\n",
              "    }\n",
              "\n",
              "    [theme=dark] .colab-df-convert:hover {\n",
              "      background-color: #434B5C;\n",
              "      box-shadow: 0px 1px 3px 1px rgba(0, 0, 0, 0.15);\n",
              "      filter: drop-shadow(0px 1px 2px rgba(0, 0, 0, 0.3));\n",
              "      fill: #FFFFFF;\n",
              "    }\n",
              "  </style>\n",
              "\n",
              "    <script>\n",
              "      const buttonEl =\n",
              "        document.querySelector('#df-87afd9d9-59ed-437a-933d-ed51a2f30e8b button.colab-df-convert');\n",
              "      buttonEl.style.display =\n",
              "        google.colab.kernel.accessAllowed ? 'block' : 'none';\n",
              "\n",
              "      async function convertToInteractive(key) {\n",
              "        const element = document.querySelector('#df-87afd9d9-59ed-437a-933d-ed51a2f30e8b');\n",
              "        const dataTable =\n",
              "          await google.colab.kernel.invokeFunction('convertToInteractive',\n",
              "                                                    [key], {});\n",
              "        if (!dataTable) return;\n",
              "\n",
              "        const docLinkHtml = 'Like what you see? Visit the ' +\n",
              "          '<a target=\"_blank\" href=https://colab.research.google.com/notebooks/data_table.ipynb>data table notebook</a>'\n",
              "          + ' to learn more about interactive tables.';\n",
              "        element.innerHTML = '';\n",
              "        dataTable['output_type'] = 'display_data';\n",
              "        await google.colab.output.renderOutput(dataTable, element);\n",
              "        const docLink = document.createElement('div');\n",
              "        docLink.innerHTML = docLinkHtml;\n",
              "        element.appendChild(docLink);\n",
              "      }\n",
              "    </script>\n",
              "  </div>\n",
              "\n",
              "\n",
              "<div id=\"df-7d72de16-9185-4572-9dcc-7a57814b3e74\">\n",
              "  <button class=\"colab-df-quickchart\" onclick=\"quickchart('df-7d72de16-9185-4572-9dcc-7a57814b3e74')\"\n",
              "            title=\"Suggest charts\"\n",
              "            style=\"display:none;\">\n",
              "\n",
              "<svg xmlns=\"http://www.w3.org/2000/svg\" height=\"24px\"viewBox=\"0 0 24 24\"\n",
              "     width=\"24px\">\n",
              "    <g>\n",
              "        <path d=\"M19 3H5c-1.1 0-2 .9-2 2v14c0 1.1.9 2 2 2h14c1.1 0 2-.9 2-2V5c0-1.1-.9-2-2-2zM9 17H7v-7h2v7zm4 0h-2V7h2v10zm4 0h-2v-4h2v4z\"/>\n",
              "    </g>\n",
              "</svg>\n",
              "  </button>\n",
              "\n",
              "<style>\n",
              "  .colab-df-quickchart {\n",
              "      --bg-color: #E8F0FE;\n",
              "      --fill-color: #1967D2;\n",
              "      --hover-bg-color: #E2EBFA;\n",
              "      --hover-fill-color: #174EA6;\n",
              "      --disabled-fill-color: #AAA;\n",
              "      --disabled-bg-color: #DDD;\n",
              "  }\n",
              "\n",
              "  [theme=dark] .colab-df-quickchart {\n",
              "      --bg-color: #3B4455;\n",
              "      --fill-color: #D2E3FC;\n",
              "      --hover-bg-color: #434B5C;\n",
              "      --hover-fill-color: #FFFFFF;\n",
              "      --disabled-bg-color: #3B4455;\n",
              "      --disabled-fill-color: #666;\n",
              "  }\n",
              "\n",
              "  .colab-df-quickchart {\n",
              "    background-color: var(--bg-color);\n",
              "    border: none;\n",
              "    border-radius: 50%;\n",
              "    cursor: pointer;\n",
              "    display: none;\n",
              "    fill: var(--fill-color);\n",
              "    height: 32px;\n",
              "    padding: 0;\n",
              "    width: 32px;\n",
              "  }\n",
              "\n",
              "  .colab-df-quickchart:hover {\n",
              "    background-color: var(--hover-bg-color);\n",
              "    box-shadow: 0 1px 2px rgba(60, 64, 67, 0.3), 0 1px 3px 1px rgba(60, 64, 67, 0.15);\n",
              "    fill: var(--button-hover-fill-color);\n",
              "  }\n",
              "\n",
              "  .colab-df-quickchart-complete:disabled,\n",
              "  .colab-df-quickchart-complete:disabled:hover {\n",
              "    background-color: var(--disabled-bg-color);\n",
              "    fill: var(--disabled-fill-color);\n",
              "    box-shadow: none;\n",
              "  }\n",
              "\n",
              "  .colab-df-spinner {\n",
              "    border: 2px solid var(--fill-color);\n",
              "    border-color: transparent;\n",
              "    border-bottom-color: var(--fill-color);\n",
              "    animation:\n",
              "      spin 1s steps(1) infinite;\n",
              "  }\n",
              "\n",
              "  @keyframes spin {\n",
              "    0% {\n",
              "      border-color: transparent;\n",
              "      border-bottom-color: var(--fill-color);\n",
              "      border-left-color: var(--fill-color);\n",
              "    }\n",
              "    20% {\n",
              "      border-color: transparent;\n",
              "      border-left-color: var(--fill-color);\n",
              "      border-top-color: var(--fill-color);\n",
              "    }\n",
              "    30% {\n",
              "      border-color: transparent;\n",
              "      border-left-color: var(--fill-color);\n",
              "      border-top-color: var(--fill-color);\n",
              "      border-right-color: var(--fill-color);\n",
              "    }\n",
              "    40% {\n",
              "      border-color: transparent;\n",
              "      border-right-color: var(--fill-color);\n",
              "      border-top-color: var(--fill-color);\n",
              "    }\n",
              "    60% {\n",
              "      border-color: transparent;\n",
              "      border-right-color: var(--fill-color);\n",
              "    }\n",
              "    80% {\n",
              "      border-color: transparent;\n",
              "      border-right-color: var(--fill-color);\n",
              "      border-bottom-color: var(--fill-color);\n",
              "    }\n",
              "    90% {\n",
              "      border-color: transparent;\n",
              "      border-bottom-color: var(--fill-color);\n",
              "    }\n",
              "  }\n",
              "</style>\n",
              "\n",
              "  <script>\n",
              "    async function quickchart(key) {\n",
              "      const quickchartButtonEl =\n",
              "        document.querySelector('#' + key + ' button');\n",
              "      quickchartButtonEl.disabled = true;  // To prevent multiple clicks.\n",
              "      quickchartButtonEl.classList.add('colab-df-spinner');\n",
              "      try {\n",
              "        const charts = await google.colab.kernel.invokeFunction(\n",
              "            'suggestCharts', [key], {});\n",
              "      } catch (error) {\n",
              "        console.error('Error during call to suggestCharts:', error);\n",
              "      }\n",
              "      quickchartButtonEl.classList.remove('colab-df-spinner');\n",
              "      quickchartButtonEl.classList.add('colab-df-quickchart-complete');\n",
              "    }\n",
              "    (() => {\n",
              "      let quickchartButtonEl =\n",
              "        document.querySelector('#df-7d72de16-9185-4572-9dcc-7a57814b3e74 button');\n",
              "      quickchartButtonEl.style.display =\n",
              "        google.colab.kernel.accessAllowed ? 'block' : 'none';\n",
              "    })();\n",
              "  </script>\n",
              "</div>\n",
              "\n",
              "    </div>\n",
              "  </div>\n"
            ],
            "application/vnd.google.colaboratory.intrinsic+json": {
              "type": "dataframe",
              "summary": "{\n  \"name\": \"pd\",\n  \"rows\": 3,\n  \"fields\": [\n    {\n      \"column\": \"Features\",\n      \"properties\": {\n        \"dtype\": \"string\",\n        \"num_unique_values\": 3,\n        \"samples\": [\n          \"Mileage\",\n          \"Engine\",\n          \"Age\"\n        ],\n        \"semantic_type\": \"\",\n        \"description\": \"\"\n      }\n    },\n    {\n      \"column\": \"VIF\",\n      \"properties\": {\n        \"dtype\": \"number\",\n        \"std\": 2.1488692509116234,\n        \"min\": 4.359966458273324,\n        \"max\": 8.64101669337503,\n        \"num_unique_values\": 3,\n        \"samples\": [\n          8.64101669337503,\n          6.172812104477315,\n          4.359966458273324\n        ],\n        \"semantic_type\": \"\",\n        \"description\": \"\"\n      }\n    }\n  ]\n}"
            }
          },
          "metadata": {},
          "execution_count": 35
        }
      ],
      "source": [
        "# Calculate the VIF (1/(1-R2))\n",
        "from statsmodels.stats.outliers_influence import variance_inflation_factor\n",
        "\n",
        "# VIF is applied on Predictors\n",
        "x = premium.drop(\"Premium\", axis = 1) #Now, I will remove Mileage too...\n",
        "\n",
        "mylist =[]\n",
        "\n",
        "for i in range(x.shape[1]):\n",
        "    mylist.append(variance_inflation_factor(x.values, i)) # values of the data, instance\n",
        "\n",
        "\n",
        "pd.DataFrame({\"Features\":x.columns, \"VIF\": mylist})"
      ]
    },
    {
      "cell_type": "code",
      "source": [
        "def test_multicollinearity(df, tgt):\n",
        "  from statsmodels.stats.outliers_influence import variance_inflation_factor\n",
        "\n",
        "  # VIF is applied on Predictors\n",
        "  x = df.drop(tgt, axis = 1)\n",
        "  mylist =[]\n",
        "  for i in range(x.shape[1]):\n",
        "    mylist.append(variance_inflation_factor(x.values, i)) # values of the data, instance\n",
        "\n",
        "  vif_df = pd.DataFrame({\"Features\": x.columns, \"VIF\": mylist})\n",
        "  return(vif_df)"
      ],
      "metadata": {
        "id": "0Owdehup06FD"
      },
      "execution_count": 36,
      "outputs": []
    },
    {
      "cell_type": "code",
      "source": [
        "test_multicollinearity(premium, tgt = \"Premium\")"
      ],
      "metadata": {
        "colab": {
          "base_uri": "https://localhost:8080/",
          "height": 143
        },
        "id": "N2FuhcQm1zu_",
        "outputId": "59a28f80-83eb-4ac6-be9b-fe885177bf7b"
      },
      "execution_count": 37,
      "outputs": [
        {
          "output_type": "execute_result",
          "data": {
            "text/plain": [
              "  Features       VIF\n",
              "0  Mileage  8.641017\n",
              "1   Engine  6.172812\n",
              "2      Age  4.359966"
            ],
            "text/html": [
              "\n",
              "  <div id=\"df-05322567-c7a6-480d-bb0f-67ad558a251c\" class=\"colab-df-container\">\n",
              "    <div>\n",
              "<style scoped>\n",
              "    .dataframe tbody tr th:only-of-type {\n",
              "        vertical-align: middle;\n",
              "    }\n",
              "\n",
              "    .dataframe tbody tr th {\n",
              "        vertical-align: top;\n",
              "    }\n",
              "\n",
              "    .dataframe thead th {\n",
              "        text-align: right;\n",
              "    }\n",
              "</style>\n",
              "<table border=\"1\" class=\"dataframe\">\n",
              "  <thead>\n",
              "    <tr style=\"text-align: right;\">\n",
              "      <th></th>\n",
              "      <th>Features</th>\n",
              "      <th>VIF</th>\n",
              "    </tr>\n",
              "  </thead>\n",
              "  <tbody>\n",
              "    <tr>\n",
              "      <th>0</th>\n",
              "      <td>Mileage</td>\n",
              "      <td>8.641017</td>\n",
              "    </tr>\n",
              "    <tr>\n",
              "      <th>1</th>\n",
              "      <td>Engine</td>\n",
              "      <td>6.172812</td>\n",
              "    </tr>\n",
              "    <tr>\n",
              "      <th>2</th>\n",
              "      <td>Age</td>\n",
              "      <td>4.359966</td>\n",
              "    </tr>\n",
              "  </tbody>\n",
              "</table>\n",
              "</div>\n",
              "    <div class=\"colab-df-buttons\">\n",
              "\n",
              "  <div class=\"colab-df-container\">\n",
              "    <button class=\"colab-df-convert\" onclick=\"convertToInteractive('df-05322567-c7a6-480d-bb0f-67ad558a251c')\"\n",
              "            title=\"Convert this dataframe to an interactive table.\"\n",
              "            style=\"display:none;\">\n",
              "\n",
              "  <svg xmlns=\"http://www.w3.org/2000/svg\" height=\"24px\" viewBox=\"0 -960 960 960\">\n",
              "    <path d=\"M120-120v-720h720v720H120Zm60-500h600v-160H180v160Zm220 220h160v-160H400v160Zm0 220h160v-160H400v160ZM180-400h160v-160H180v160Zm440 0h160v-160H620v160ZM180-180h160v-160H180v160Zm440 0h160v-160H620v160Z\"/>\n",
              "  </svg>\n",
              "    </button>\n",
              "\n",
              "  <style>\n",
              "    .colab-df-container {\n",
              "      display:flex;\n",
              "      gap: 12px;\n",
              "    }\n",
              "\n",
              "    .colab-df-convert {\n",
              "      background-color: #E8F0FE;\n",
              "      border: none;\n",
              "      border-radius: 50%;\n",
              "      cursor: pointer;\n",
              "      display: none;\n",
              "      fill: #1967D2;\n",
              "      height: 32px;\n",
              "      padding: 0 0 0 0;\n",
              "      width: 32px;\n",
              "    }\n",
              "\n",
              "    .colab-df-convert:hover {\n",
              "      background-color: #E2EBFA;\n",
              "      box-shadow: 0px 1px 2px rgba(60, 64, 67, 0.3), 0px 1px 3px 1px rgba(60, 64, 67, 0.15);\n",
              "      fill: #174EA6;\n",
              "    }\n",
              "\n",
              "    .colab-df-buttons div {\n",
              "      margin-bottom: 4px;\n",
              "    }\n",
              "\n",
              "    [theme=dark] .colab-df-convert {\n",
              "      background-color: #3B4455;\n",
              "      fill: #D2E3FC;\n",
              "    }\n",
              "\n",
              "    [theme=dark] .colab-df-convert:hover {\n",
              "      background-color: #434B5C;\n",
              "      box-shadow: 0px 1px 3px 1px rgba(0, 0, 0, 0.15);\n",
              "      filter: drop-shadow(0px 1px 2px rgba(0, 0, 0, 0.3));\n",
              "      fill: #FFFFFF;\n",
              "    }\n",
              "  </style>\n",
              "\n",
              "    <script>\n",
              "      const buttonEl =\n",
              "        document.querySelector('#df-05322567-c7a6-480d-bb0f-67ad558a251c button.colab-df-convert');\n",
              "      buttonEl.style.display =\n",
              "        google.colab.kernel.accessAllowed ? 'block' : 'none';\n",
              "\n",
              "      async function convertToInteractive(key) {\n",
              "        const element = document.querySelector('#df-05322567-c7a6-480d-bb0f-67ad558a251c');\n",
              "        const dataTable =\n",
              "          await google.colab.kernel.invokeFunction('convertToInteractive',\n",
              "                                                    [key], {});\n",
              "        if (!dataTable) return;\n",
              "\n",
              "        const docLinkHtml = 'Like what you see? Visit the ' +\n",
              "          '<a target=\"_blank\" href=https://colab.research.google.com/notebooks/data_table.ipynb>data table notebook</a>'\n",
              "          + ' to learn more about interactive tables.';\n",
              "        element.innerHTML = '';\n",
              "        dataTable['output_type'] = 'display_data';\n",
              "        await google.colab.output.renderOutput(dataTable, element);\n",
              "        const docLink = document.createElement('div');\n",
              "        docLink.innerHTML = docLinkHtml;\n",
              "        element.appendChild(docLink);\n",
              "      }\n",
              "    </script>\n",
              "  </div>\n",
              "\n",
              "\n",
              "<div id=\"df-71020f3c-5b51-4ede-9302-227b0ca663be\">\n",
              "  <button class=\"colab-df-quickchart\" onclick=\"quickchart('df-71020f3c-5b51-4ede-9302-227b0ca663be')\"\n",
              "            title=\"Suggest charts\"\n",
              "            style=\"display:none;\">\n",
              "\n",
              "<svg xmlns=\"http://www.w3.org/2000/svg\" height=\"24px\"viewBox=\"0 0 24 24\"\n",
              "     width=\"24px\">\n",
              "    <g>\n",
              "        <path d=\"M19 3H5c-1.1 0-2 .9-2 2v14c0 1.1.9 2 2 2h14c1.1 0 2-.9 2-2V5c0-1.1-.9-2-2-2zM9 17H7v-7h2v7zm4 0h-2V7h2v10zm4 0h-2v-4h2v4z\"/>\n",
              "    </g>\n",
              "</svg>\n",
              "  </button>\n",
              "\n",
              "<style>\n",
              "  .colab-df-quickchart {\n",
              "      --bg-color: #E8F0FE;\n",
              "      --fill-color: #1967D2;\n",
              "      --hover-bg-color: #E2EBFA;\n",
              "      --hover-fill-color: #174EA6;\n",
              "      --disabled-fill-color: #AAA;\n",
              "      --disabled-bg-color: #DDD;\n",
              "  }\n",
              "\n",
              "  [theme=dark] .colab-df-quickchart {\n",
              "      --bg-color: #3B4455;\n",
              "      --fill-color: #D2E3FC;\n",
              "      --hover-bg-color: #434B5C;\n",
              "      --hover-fill-color: #FFFFFF;\n",
              "      --disabled-bg-color: #3B4455;\n",
              "      --disabled-fill-color: #666;\n",
              "  }\n",
              "\n",
              "  .colab-df-quickchart {\n",
              "    background-color: var(--bg-color);\n",
              "    border: none;\n",
              "    border-radius: 50%;\n",
              "    cursor: pointer;\n",
              "    display: none;\n",
              "    fill: var(--fill-color);\n",
              "    height: 32px;\n",
              "    padding: 0;\n",
              "    width: 32px;\n",
              "  }\n",
              "\n",
              "  .colab-df-quickchart:hover {\n",
              "    background-color: var(--hover-bg-color);\n",
              "    box-shadow: 0 1px 2px rgba(60, 64, 67, 0.3), 0 1px 3px 1px rgba(60, 64, 67, 0.15);\n",
              "    fill: var(--button-hover-fill-color);\n",
              "  }\n",
              "\n",
              "  .colab-df-quickchart-complete:disabled,\n",
              "  .colab-df-quickchart-complete:disabled:hover {\n",
              "    background-color: var(--disabled-bg-color);\n",
              "    fill: var(--disabled-fill-color);\n",
              "    box-shadow: none;\n",
              "  }\n",
              "\n",
              "  .colab-df-spinner {\n",
              "    border: 2px solid var(--fill-color);\n",
              "    border-color: transparent;\n",
              "    border-bottom-color: var(--fill-color);\n",
              "    animation:\n",
              "      spin 1s steps(1) infinite;\n",
              "  }\n",
              "\n",
              "  @keyframes spin {\n",
              "    0% {\n",
              "      border-color: transparent;\n",
              "      border-bottom-color: var(--fill-color);\n",
              "      border-left-color: var(--fill-color);\n",
              "    }\n",
              "    20% {\n",
              "      border-color: transparent;\n",
              "      border-left-color: var(--fill-color);\n",
              "      border-top-color: var(--fill-color);\n",
              "    }\n",
              "    30% {\n",
              "      border-color: transparent;\n",
              "      border-left-color: var(--fill-color);\n",
              "      border-top-color: var(--fill-color);\n",
              "      border-right-color: var(--fill-color);\n",
              "    }\n",
              "    40% {\n",
              "      border-color: transparent;\n",
              "      border-right-color: var(--fill-color);\n",
              "      border-top-color: var(--fill-color);\n",
              "    }\n",
              "    60% {\n",
              "      border-color: transparent;\n",
              "      border-right-color: var(--fill-color);\n",
              "    }\n",
              "    80% {\n",
              "      border-color: transparent;\n",
              "      border-right-color: var(--fill-color);\n",
              "      border-bottom-color: var(--fill-color);\n",
              "    }\n",
              "    90% {\n",
              "      border-color: transparent;\n",
              "      border-bottom-color: var(--fill-color);\n",
              "    }\n",
              "  }\n",
              "</style>\n",
              "\n",
              "  <script>\n",
              "    async function quickchart(key) {\n",
              "      const quickchartButtonEl =\n",
              "        document.querySelector('#' + key + ' button');\n",
              "      quickchartButtonEl.disabled = true;  // To prevent multiple clicks.\n",
              "      quickchartButtonEl.classList.add('colab-df-spinner');\n",
              "      try {\n",
              "        const charts = await google.colab.kernel.invokeFunction(\n",
              "            'suggestCharts', [key], {});\n",
              "      } catch (error) {\n",
              "        console.error('Error during call to suggestCharts:', error);\n",
              "      }\n",
              "      quickchartButtonEl.classList.remove('colab-df-spinner');\n",
              "      quickchartButtonEl.classList.add('colab-df-quickchart-complete');\n",
              "    }\n",
              "    (() => {\n",
              "      let quickchartButtonEl =\n",
              "        document.querySelector('#df-71020f3c-5b51-4ede-9302-227b0ca663be button');\n",
              "      quickchartButtonEl.style.display =\n",
              "        google.colab.kernel.accessAllowed ? 'block' : 'none';\n",
              "    })();\n",
              "  </script>\n",
              "</div>\n",
              "\n",
              "    </div>\n",
              "  </div>\n"
            ],
            "application/vnd.google.colaboratory.intrinsic+json": {
              "type": "dataframe",
              "summary": "{\n  \"name\": \"test_multicollinearity(premium, tgt = \\\"Premium\\\")\",\n  \"rows\": 3,\n  \"fields\": [\n    {\n      \"column\": \"Features\",\n      \"properties\": {\n        \"dtype\": \"string\",\n        \"num_unique_values\": 3,\n        \"samples\": [\n          \"Mileage\",\n          \"Engine\",\n          \"Age\"\n        ],\n        \"semantic_type\": \"\",\n        \"description\": \"\"\n      }\n    },\n    {\n      \"column\": \"VIF\",\n      \"properties\": {\n        \"dtype\": \"number\",\n        \"std\": 2.1488692509116234,\n        \"min\": 4.359966458273324,\n        \"max\": 8.64101669337503,\n        \"num_unique_values\": 3,\n        \"samples\": [\n          8.64101669337503,\n          6.172812104477315,\n          4.359966458273324\n        ],\n        \"semantic_type\": \"\",\n        \"description\": \"\"\n      }\n    }\n  ]\n}"
            }
          },
          "metadata": {},
          "execution_count": 37
        }
      ]
    },
    {
      "cell_type": "code",
      "execution_count": null,
      "metadata": {
        "id": "Hum1go6BzlQF",
        "outputId": "9f60a58b-7436-487e-de21-229a0930025c"
      },
      "outputs": [
        {
          "data": {
            "text/plain": [
              "<matplotlib.axes._subplots.AxesSubplot at 0x1759e20f8e0>"
            ]
          },
          "execution_count": 14,
          "metadata": {},
          "output_type": "execute_result"
        },
        {
          "data": {
            "image/png": "[encoded data removed]",
            "text/plain": [
              "<Figure size 432x288 with 2 Axes>"
            ]
          },
          "metadata": {},
          "output_type": "display_data"
        }
      ],
      "source": [
        "# Correlation plot\n",
        "sns.heatmap(x.corr(), annot = True, cmap = \"YlGnBu\")"
      ]
    },
    {
      "cell_type": "code",
      "execution_count": 52,
      "metadata": {
        "colab": {
          "base_uri": "https://localhost:8080/",
          "height": 470
        },
        "id": "4LYi0RPczlQG",
        "outputId": "bdf02a44-ea70-4743-bace-5b3bb9a5628a"
      },
      "outputs": [
        {
          "output_type": "execute_result",
          "data": {
            "text/plain": [
              "<class 'statsmodels.iolib.summary.Summary'>\n",
              "\"\"\"\n",
              "                            OLS Regression Results                            \n",
              "==============================================================================\n",
              "Dep. Variable:                Premium   R-squared:                       0.559\n",
              "Model:                            OLS   Adj. R-squared:                  0.486\n",
              "Method:                 Least Squares   F-statistic:                     7.621\n",
              "Date:                Sat, 23 Nov 2024   Prob (F-statistic):            0.00731\n",
              "Time:                        02:36:02   Log-Likelihood:                -86.600\n",
              "No. Observations:                  15   AIC:                             179.2\n",
              "Df Residuals:                      12   BIC:                             181.3\n",
              "Df Model:                           2                                         \n",
              "Covariance Type:            nonrobust                                         \n",
              "==============================================================================\n",
              "                 coef    std err          t      P>|t|      [0.025      0.975]\n",
              "------------------------------------------------------------------------------\n",
              "Intercept     39.1681    189.882      0.206      0.840    -374.548     452.884\n",
              "Age          -25.8293     10.134     -2.549      0.026     -47.909      -3.749\n",
              "Engine       166.5562    114.119      1.459      0.170     -82.087     415.200\n",
              "==============================================================================\n",
              "Omnibus:                        0.077   Durbin-Watson:                   2.446\n",
              "Prob(Omnibus):                  0.962   Jarque-Bera (JB):                0.139\n",
              "Skew:                           0.109   Prob(JB):                        0.933\n",
              "Kurtosis:                       2.582   Cond. No.                         51.2\n",
              "==============================================================================\n",
              "\n",
              "Notes:\n",
              "[1] Standard Errors assume that the covariance matrix of the errors is correctly specified.\n",
              "\"\"\""
            ],
            "text/html": [
              "<table class=\"simpletable\">\n",
              "<caption>OLS Regression Results</caption>\n",
              "<tr>\n",
              "  <th>Dep. Variable:</th>         <td>Premium</td>     <th>  R-squared:         </th> <td>   0.559</td>\n",
              "</tr>\n",
              "<tr>\n",
              "  <th>Model:</th>                   <td>OLS</td>       <th>  Adj. R-squared:    </th> <td>   0.486</td>\n",
              "</tr>\n",
              "<tr>\n",
              "  <th>Method:</th>             <td>Least Squares</td>  <th>  F-statistic:       </th> <td>   7.621</td>\n",
              "</tr>\n",
              "<tr>\n",
              "  <th>Date:</th>             <td>Sat, 23 Nov 2024</td> <th>  Prob (F-statistic):</th>  <td>0.00731</td>\n",
              "</tr>\n",
              "<tr>\n",
              "  <th>Time:</th>                 <td>02:36:02</td>     <th>  Log-Likelihood:    </th> <td> -86.600</td>\n",
              "</tr>\n",
              "<tr>\n",
              "  <th>No. Observations:</th>      <td>    15</td>      <th>  AIC:               </th> <td>   179.2</td>\n",
              "</tr>\n",
              "<tr>\n",
              "  <th>Df Residuals:</th>          <td>    12</td>      <th>  BIC:               </th> <td>   181.3</td>\n",
              "</tr>\n",
              "<tr>\n",
              "  <th>Df Model:</th>              <td>     2</td>      <th>                     </th>     <td> </td>   \n",
              "</tr>\n",
              "<tr>\n",
              "  <th>Covariance Type:</th>      <td>nonrobust</td>    <th>                     </th>     <td> </td>   \n",
              "</tr>\n",
              "</table>\n",
              "<table class=\"simpletable\">\n",
              "<tr>\n",
              "      <td></td>         <th>coef</th>     <th>std err</th>      <th>t</th>      <th>P>|t|</th>  <th>[0.025</th>    <th>0.975]</th>  \n",
              "</tr>\n",
              "<tr>\n",
              "  <th>Intercept</th> <td>   39.1681</td> <td>  189.882</td> <td>    0.206</td> <td> 0.840</td> <td> -374.548</td> <td>  452.884</td>\n",
              "</tr>\n",
              "<tr>\n",
              "  <th>Age</th>       <td>  -25.8293</td> <td>   10.134</td> <td>   -2.549</td> <td> 0.026</td> <td>  -47.909</td> <td>   -3.749</td>\n",
              "</tr>\n",
              "<tr>\n",
              "  <th>Engine</th>    <td>  166.5562</td> <td>  114.119</td> <td>    1.459</td> <td> 0.170</td> <td>  -82.087</td> <td>  415.200</td>\n",
              "</tr>\n",
              "</table>\n",
              "<table class=\"simpletable\">\n",
              "<tr>\n",
              "  <th>Omnibus:</th>       <td> 0.077</td> <th>  Durbin-Watson:     </th> <td>   2.446</td>\n",
              "</tr>\n",
              "<tr>\n",
              "  <th>Prob(Omnibus):</th> <td> 0.962</td> <th>  Jarque-Bera (JB):  </th> <td>   0.139</td>\n",
              "</tr>\n",
              "<tr>\n",
              "  <th>Skew:</th>          <td> 0.109</td> <th>  Prob(JB):          </th> <td>   0.933</td>\n",
              "</tr>\n",
              "<tr>\n",
              "  <th>Kurtosis:</th>      <td> 2.582</td> <th>  Cond. No.          </th> <td>    51.2</td>\n",
              "</tr>\n",
              "</table><br/><br/>Notes:<br/>[1] Standard Errors assume that the covariance matrix of the errors is correctly specified."
            ],
            "text/latex": "\\begin{center}\n\\begin{tabular}{lclc}\n\\toprule\n\\textbf{Dep. Variable:}    &     Premium      & \\textbf{  R-squared:         } &     0.559   \\\\\n\\textbf{Model:}            &       OLS        & \\textbf{  Adj. R-squared:    } &     0.486   \\\\\n\\textbf{Method:}           &  Least Squares   & \\textbf{  F-statistic:       } &     7.621   \\\\\n\\textbf{Date:}             & Sat, 23 Nov 2024 & \\textbf{  Prob (F-statistic):} &  0.00731    \\\\\n\\textbf{Time:}             &     02:36:02     & \\textbf{  Log-Likelihood:    } &   -86.600   \\\\\n\\textbf{No. Observations:} &          15      & \\textbf{  AIC:               } &     179.2   \\\\\n\\textbf{Df Residuals:}     &          12      & \\textbf{  BIC:               } &     181.3   \\\\\n\\textbf{Df Model:}         &           2      & \\textbf{                     } &             \\\\\n\\textbf{Covariance Type:}  &    nonrobust     & \\textbf{                     } &             \\\\\n\\bottomrule\n\\end{tabular}\n\\begin{tabular}{lcccccc}\n                   & \\textbf{coef} & \\textbf{std err} & \\textbf{t} & \\textbf{P$> |$t$|$} & \\textbf{[0.025} & \\textbf{0.975]}  \\\\\n\\midrule\n\\textbf{Intercept} &      39.1681  &      189.882     &     0.206  &         0.840        &     -374.548    &      452.884     \\\\\n\\textbf{Age}       &     -25.8293  &       10.134     &    -2.549  &         0.026        &      -47.909    &       -3.749     \\\\\n\\textbf{Engine}    &     166.5562  &      114.119     &     1.459  &         0.170        &      -82.087    &      415.200     \\\\\n\\bottomrule\n\\end{tabular}\n\\begin{tabular}{lclc}\n\\textbf{Omnibus:}       &  0.077 & \\textbf{  Durbin-Watson:     } &    2.446  \\\\\n\\textbf{Prob(Omnibus):} &  0.962 & \\textbf{  Jarque-Bera (JB):  } &    0.139  \\\\\n\\textbf{Skew:}          &  0.109 & \\textbf{  Prob(JB):          } &    0.933  \\\\\n\\textbf{Kurtosis:}      &  2.582 & \\textbf{  Cond. No.          } &     51.2  \\\\\n\\bottomrule\n\\end{tabular}\n%\\caption{OLS Regression Results}\n\\end{center}\n\nNotes: \\newline\n [1] Standard Errors assume that the covariance matrix of the errors is correctly specified."
          },
          "metadata": {},
          "execution_count": 52
        }
      ],
      "source": [
        "newmodel = ols(\"Premium~Age+Engine\", data = premium).fit() # Age Adj R2 Score - 0.441\n",
        "newmodel.summary()\n",
        "\n",
        "# With Engine & Age, Adj R2 Score has increased.\n",
        "# Regression Model is significant"
      ]
    },
    {
      "cell_type": "markdown",
      "metadata": {
        "id": "8GswnQwazlQH"
      },
      "source": [
        "### 04: Assumption - Autocorrelation of Errors\n",
        "\n",
        "* Error should not be correlated. It means that the Errors in the first instance are related with the 02nd Instance and so forth...\n",
        "\n",
        "* It might run into a Type 1 error where the analyst feels that the Features are significant wherein they are not.\n",
        "\n",
        "* The test of Autocorrelation is **Durbin Watson Test**\n",
        "\n",
        "* The test statistic can throw a value between 0 and 4.\n",
        "* **Parameters: DW Test Stat = 2, No Correlation, 0-2: +ve ACorrelation, >2 to 4: -ve ACorrel.**\n",
        "* Thumb Rule - Test Stats is **between 1.5 to 2.5** then we consider it to be normal. Values beyond this range is a sign of Autocorrelation\n",
        "\n",
        "* Ho: No Autocorrelation in errors/residuals\n",
        "* H1: Autocorrelation in errors/residuals exist."
      ]
    },
    {
      "cell_type": "code",
      "execution_count": 53,
      "metadata": {
        "colab": {
          "base_uri": "https://localhost:8080/",
          "height": 492
        },
        "id": "_ZjHWJIBzlQH",
        "outputId": "29281f84-5dd3-4408-909d-5b937e334aef"
      },
      "outputs": [
        {
          "output_type": "execute_result",
          "data": {
            "text/plain": [
              "<class 'statsmodels.iolib.summary.Summary'>\n",
              "\"\"\"\n",
              "                            OLS Regression Results                            \n",
              "==============================================================================\n",
              "Dep. Variable:                Premium   R-squared:                       0.591\n",
              "Model:                            OLS   Adj. R-squared:                  0.480\n",
              "Method:                 Least Squares   F-statistic:                     5.309\n",
              "Date:                Sat, 23 Nov 2024   Prob (F-statistic):             0.0166\n",
              "Time:                        02:36:06   Log-Likelihood:                -86.035\n",
              "No. Observations:                  15   AIC:                             180.1\n",
              "Df Residuals:                      11   BIC:                             182.9\n",
              "Df Model:                           3                                         \n",
              "Covariance Type:            nonrobust                                         \n",
              "==============================================================================\n",
              "                 coef    std err          t      P>|t|      [0.025      0.975]\n",
              "------------------------------------------------------------------------------\n",
              "Intercept    138.3977    218.865      0.632      0.540    -343.321     620.116\n",
              "Mileage       -4.8756      5.252     -0.928      0.373     -16.436       6.684\n",
              "Engine       137.6328    118.936      1.157      0.272    -124.143     399.409\n",
              "Age          -23.7176     10.444     -2.271      0.044     -46.704      -0.731\n",
              "==============================================================================\n",
              "Omnibus:                        0.101   Durbin-Watson:                   2.374\n",
              "Prob(Omnibus):                  0.951   Jarque-Bera (JB):                0.285\n",
              "Skew:                           0.143   Prob(JB):                        0.867\n",
              "Kurtosis:                       2.388   Cond. No.                         167.\n",
              "==============================================================================\n",
              "\n",
              "Notes:\n",
              "[1] Standard Errors assume that the covariance matrix of the errors is correctly specified.\n",
              "\"\"\""
            ],
            "text/html": [
              "<table class=\"simpletable\">\n",
              "<caption>OLS Regression Results</caption>\n",
              "<tr>\n",
              "  <th>Dep. Variable:</th>         <td>Premium</td>     <th>  R-squared:         </th> <td>   0.591</td>\n",
              "</tr>\n",
              "<tr>\n",
              "  <th>Model:</th>                   <td>OLS</td>       <th>  Adj. R-squared:    </th> <td>   0.480</td>\n",
              "</tr>\n",
              "<tr>\n",
              "  <th>Method:</th>             <td>Least Squares</td>  <th>  F-statistic:       </th> <td>   5.309</td>\n",
              "</tr>\n",
              "<tr>\n",
              "  <th>Date:</th>             <td>Sat, 23 Nov 2024</td> <th>  Prob (F-statistic):</th>  <td>0.0166</td> \n",
              "</tr>\n",
              "<tr>\n",
              "  <th>Time:</th>                 <td>02:36:06</td>     <th>  Log-Likelihood:    </th> <td> -86.035</td>\n",
              "</tr>\n",
              "<tr>\n",
              "  <th>No. Observations:</th>      <td>    15</td>      <th>  AIC:               </th> <td>   180.1</td>\n",
              "</tr>\n",
              "<tr>\n",
              "  <th>Df Residuals:</th>          <td>    11</td>      <th>  BIC:               </th> <td>   182.9</td>\n",
              "</tr>\n",
              "<tr>\n",
              "  <th>Df Model:</th>              <td>     3</td>      <th>                     </th>     <td> </td>   \n",
              "</tr>\n",
              "<tr>\n",
              "  <th>Covariance Type:</th>      <td>nonrobust</td>    <th>                     </th>     <td> </td>   \n",
              "</tr>\n",
              "</table>\n",
              "<table class=\"simpletable\">\n",
              "<tr>\n",
              "      <td></td>         <th>coef</th>     <th>std err</th>      <th>t</th>      <th>P>|t|</th>  <th>[0.025</th>    <th>0.975]</th>  \n",
              "</tr>\n",
              "<tr>\n",
              "  <th>Intercept</th> <td>  138.3977</td> <td>  218.865</td> <td>    0.632</td> <td> 0.540</td> <td> -343.321</td> <td>  620.116</td>\n",
              "</tr>\n",
              "<tr>\n",
              "  <th>Mileage</th>   <td>   -4.8756</td> <td>    5.252</td> <td>   -0.928</td> <td> 0.373</td> <td>  -16.436</td> <td>    6.684</td>\n",
              "</tr>\n",
              "<tr>\n",
              "  <th>Engine</th>    <td>  137.6328</td> <td>  118.936</td> <td>    1.157</td> <td> 0.272</td> <td> -124.143</td> <td>  399.409</td>\n",
              "</tr>\n",
              "<tr>\n",
              "  <th>Age</th>       <td>  -23.7176</td> <td>   10.444</td> <td>   -2.271</td> <td> 0.044</td> <td>  -46.704</td> <td>   -0.731</td>\n",
              "</tr>\n",
              "</table>\n",
              "<table class=\"simpletable\">\n",
              "<tr>\n",
              "  <th>Omnibus:</th>       <td> 0.101</td> <th>  Durbin-Watson:     </th> <td>   2.374</td>\n",
              "</tr>\n",
              "<tr>\n",
              "  <th>Prob(Omnibus):</th> <td> 0.951</td> <th>  Jarque-Bera (JB):  </th> <td>   0.285</td>\n",
              "</tr>\n",
              "<tr>\n",
              "  <th>Skew:</th>          <td> 0.143</td> <th>  Prob(JB):          </th> <td>   0.867</td>\n",
              "</tr>\n",
              "<tr>\n",
              "  <th>Kurtosis:</th>      <td> 2.388</td> <th>  Cond. No.          </th> <td>    167.</td>\n",
              "</tr>\n",
              "</table><br/><br/>Notes:<br/>[1] Standard Errors assume that the covariance matrix of the errors is correctly specified."
            ],
            "text/latex": "\\begin{center}\n\\begin{tabular}{lclc}\n\\toprule\n\\textbf{Dep. Variable:}    &     Premium      & \\textbf{  R-squared:         } &     0.591   \\\\\n\\textbf{Model:}            &       OLS        & \\textbf{  Adj. R-squared:    } &     0.480   \\\\\n\\textbf{Method:}           &  Least Squares   & \\textbf{  F-statistic:       } &     5.309   \\\\\n\\textbf{Date:}             & Sat, 23 Nov 2024 & \\textbf{  Prob (F-statistic):} &   0.0166    \\\\\n\\textbf{Time:}             &     02:36:06     & \\textbf{  Log-Likelihood:    } &   -86.035   \\\\\n\\textbf{No. Observations:} &          15      & \\textbf{  AIC:               } &     180.1   \\\\\n\\textbf{Df Residuals:}     &          11      & \\textbf{  BIC:               } &     182.9   \\\\\n\\textbf{Df Model:}         &           3      & \\textbf{                     } &             \\\\\n\\textbf{Covariance Type:}  &    nonrobust     & \\textbf{                     } &             \\\\\n\\bottomrule\n\\end{tabular}\n\\begin{tabular}{lcccccc}\n                   & \\textbf{coef} & \\textbf{std err} & \\textbf{t} & \\textbf{P$> |$t$|$} & \\textbf{[0.025} & \\textbf{0.975]}  \\\\\n\\midrule\n\\textbf{Intercept} &     138.3977  &      218.865     &     0.632  &         0.540        &     -343.321    &      620.116     \\\\\n\\textbf{Mileage}   &      -4.8756  &        5.252     &    -0.928  &         0.373        &      -16.436    &        6.684     \\\\\n\\textbf{Engine}    &     137.6328  &      118.936     &     1.157  &         0.272        &     -124.143    &      399.409     \\\\\n\\textbf{Age}       &     -23.7176  &       10.444     &    -2.271  &         0.044        &      -46.704    &       -0.731     \\\\\n\\bottomrule\n\\end{tabular}\n\\begin{tabular}{lclc}\n\\textbf{Omnibus:}       &  0.101 & \\textbf{  Durbin-Watson:     } &    2.374  \\\\\n\\textbf{Prob(Omnibus):} &  0.951 & \\textbf{  Jarque-Bera (JB):  } &    0.285  \\\\\n\\textbf{Skew:}          &  0.143 & \\textbf{  Prob(JB):          } &    0.867  \\\\\n\\textbf{Kurtosis:}      &  2.388 & \\textbf{  Cond. No.          } &     167.  \\\\\n\\bottomrule\n\\end{tabular}\n%\\caption{OLS Regression Results}\n\\end{center}\n\nNotes: \\newline\n [1] Standard Errors assume that the covariance matrix of the errors is correctly specified."
          },
          "metadata": {},
          "execution_count": 53
        }
      ],
      "source": [
        "model.summary()"
      ]
    },
    {
      "cell_type": "code",
      "execution_count": 54,
      "metadata": {
        "colab": {
          "base_uri": "https://localhost:8080/"
        },
        "id": "rhr7EanZzlQI",
        "outputId": "60d76846-bfc4-4cd2-9213-7f7c2270b5b5"
      },
      "outputs": [
        {
          "output_type": "execute_result",
          "data": {
            "text/plain": [
              "2.3735258408206312"
            ]
          },
          "metadata": {},
          "execution_count": 54
        }
      ],
      "source": [
        "from statsmodels.stats.stattools import durbin_watson\n",
        "\n",
        "durbin_watson(model.resid)\n",
        "\n",
        "# Inf: Since it is between 1.5 - 2.5, we fail to reject the Ho."
      ]
    },
    {
      "cell_type": "code",
      "source": [
        "def test_autocorrelation(model):\n",
        "  from statsmodels.stats.stattools import durbin_watson\n",
        "  teststats = durbin_watson(model.resid)\n",
        "  if teststats>1.5 and teststats<2.5:\n",
        "    return(f\"No Autocorrelation: {teststats}\")\n",
        "  else:\n",
        "    return(f\"Autocorrelation Exists: {teststats}\")"
      ],
      "metadata": {
        "id": "foDbCMYS26Fs"
      },
      "execution_count": 55,
      "outputs": []
    },
    {
      "cell_type": "code",
      "source": [
        "test_autocorrelation(model)"
      ],
      "metadata": {
        "colab": {
          "base_uri": "https://localhost:8080/",
          "height": 35
        },
        "id": "WE3oGVZy3L0D",
        "outputId": "9605b406-9b7d-4975-e25f-ff8f2cc3b09f"
      },
      "execution_count": 56,
      "outputs": [
        {
          "output_type": "execute_result",
          "data": {
            "text/plain": [
              "'No Autocorrelation: 2.3735258408206312'"
            ],
            "application/vnd.google.colaboratory.intrinsic+json": {
              "type": "string"
            }
          },
          "metadata": {},
          "execution_count": 56
        }
      ]
    },
    {
      "cell_type": "markdown",
      "metadata": {
        "id": "AWw2k6AuzlQJ"
      },
      "source": [
        "### 05 Assumption : Heteroskedasticity\n",
        "\n",
        "* It means that the residuals do not have uniform variance. The variance changes at different points.\n",
        "\n",
        "#### Why it occurs\n",
        "\n",
        "* It occurs because of the increasing or decreasing patterns in the data. For e.g. Income vs Expenses.\n",
        "* If observations have mixed scale - ratio scale, weight in kgs, area in square foot, doors in a house.\n",
        "* Maybe we have outliers in the data and hence it can contribute to heteroskedastic\n",
        "* Incorrect Transformation is done on the data\n",
        "* Skewness is another factor that contributes to Heterskedasticty..\n",
        "\n",
        "###### Shape: Inward or Outward Funnel showing in residual plot\n",
        "\n",
        "**Statistics Test**\n",
        "\n",
        "* Breusch Pagan Test\n",
        "* GoldFeldQuandt Test\n",
        "\n",
        "* Ho: Data is Homoskedastic (Uniform Variance) & is not Heteroskedastic(Uneven Variance)\n",
        "* H1: Data isn't Homoskedastic (Uniform Variance) & is Heteroskedastic(Uneven Variance)\n",
        "\n",
        "About Breusch-Pagan Test: It will test whether the variance of errors from regression (residuals) are independent of any predictor. Because if it does not, then it will lead to Heteroskedasticity."
      ]
    },
    {
      "cell_type": "code",
      "execution_count": 59,
      "metadata": {
        "colab": {
          "base_uri": "https://localhost:8080/"
        },
        "id": "DbvkKR2hzlQK",
        "outputId": "0e7149dd-1978-4729-ec37-9316be0e2ffd"
      },
      "outputs": [
        {
          "output_type": "stream",
          "name": "stdout",
          "text": [
            "0.024342758587009395\n"
          ]
        }
      ],
      "source": [
        " # Heteroskedasticity\n",
        "\n",
        "import statsmodels.stats.api as ssa\n",
        "import statsmodels.tools.tools as sm\n",
        "\n",
        "predictors = premium.drop(\"Premium\", axis =1)\n",
        "predictors = sm.add_constant(predictors)  # Add constant\n",
        "\n",
        "# residuals, predictors:: endog, exhog\n",
        "# Generate 04 statistic - Test Stat of BP, PValue(BP), Ftest & Pvalue(Ftest)\n",
        "teststats, pvalue, ftest, f_pvalue = ssa.het_breuschpagan(model.resid,\n",
        "                                                          predictors)\n",
        "print(pvalue)"
      ]
    },
    {
      "cell_type": "code",
      "source": [
        "def test_heteroskedasticity(model, df, tgt):\n",
        "  import statsmodels.stats.api as ssa\n",
        "  import statsmodels.tools.tools as sm\n",
        "\n",
        "  predictors = df.drop(tgt, axis =1 )\n",
        "  predictors = sm.add_constant(predictors)  # Add constant\n",
        "  teststats, pvalue, ftest, f_pvalue = ssa.het_breuschpagan(model.resid,\n",
        "                                                          predictors)\n",
        "  return(pvalue)"
      ],
      "metadata": {
        "id": "rZYtwF6M3mH5"
      },
      "execution_count": 60,
      "outputs": []
    },
    {
      "cell_type": "code",
      "source": [
        "test_heteroskedasticity(model, premium, tgt = \"Premium\")"
      ],
      "metadata": {
        "colab": {
          "base_uri": "https://localhost:8080/"
        },
        "id": "_aG3zq2835DP",
        "outputId": "ee52cb1d-24a2-46f8-baec-7a33e28da1e3"
      },
      "execution_count": 61,
      "outputs": [
        {
          "output_type": "execute_result",
          "data": {
            "text/plain": [
              "0.024342758587009395"
            ]
          },
          "metadata": {},
          "execution_count": 61
        }
      ]
    },
    {
      "cell_type": "markdown",
      "metadata": {
        "id": "3ABwAy3_zlQN"
      },
      "source": [
        "### Conclusion\n",
        "\n",
        "* Data is Linear & Normal too.\n",
        "* Data was suffering from Multicollinearity. We removed the variable and saw that R2 value improved.\n",
        "* There was no Autocorrelation in Residuals.\n",
        "* However, the Heteroskedasticity is present.\n",
        "* Recommendation: One must scale or try transformation on the data and rerun the test.\n",
        "* We can also check Heteroskedasticity on the newmodel which did not have mileage. Maybe the results are different."
      ]
    },
    {
      "cell_type": "code",
      "source": [
        "def assumptions(data, model, tgt):\n",
        "  print(\"Executing All Linear Regression Assumptions...\\n\")\n",
        "\n",
        "    # Call each test function\n",
        "  multicollinearity_result = test_multicollinearity(data, tgt)\n",
        "  heteroskedasticity_result = test_heteroskedasticity(model, data, tgt)\n",
        "  autocorrel_result = test_autocorrelation(model)\n",
        "  normality_result = test_normality(model)\n",
        "  linearity_result = test_linearity(model)\n",
        "\n",
        "    # Combine and return results if needed\n",
        "  results = {\n",
        "      \"Multicollinearity\": multicollinearity_result,\n",
        "      \"Homoscedasticity\": heteroskedasticity_result,\n",
        "      \"Normality of Residuals\": normality_result,\n",
        "      \"Autocorrelation\": autocorrel_result,\n",
        "      \"Linearity\": linearity_result}\n",
        "\n",
        "  #print(\"\\nAll Tests Completed.\")\n",
        "  return results\n"
      ],
      "metadata": {
        "id": "zGcHtrzD4n_q"
      },
      "execution_count": 83,
      "outputs": []
    },
    {
      "cell_type": "code",
      "source": [
        "assumptions(premium, model, tgt = \"Premium\")"
      ],
      "metadata": {
        "colab": {
          "base_uri": "https://localhost:8080/"
        },
        "id": "0Bs8nqAW5nvU",
        "outputId": "2155bde2-f0fc-4c48-c2a5-b5504a554b97"
      },
      "execution_count": 84,
      "outputs": [
        {
          "output_type": "stream",
          "name": "stdout",
          "text": [
            "Executing All Linear Regression Assumptions...\n",
            "\n"
          ]
        },
        {
          "output_type": "execute_result",
          "data": {
            "text/plain": [
              "{'Multicollinearity':   Features       VIF\n",
              " 0  Mileage  8.641017\n",
              " 1   Engine  6.172812\n",
              " 2      Age  4.359966,\n",
              " 'Homoscedasticity': 0.024342758587009395,\n",
              " 'Normality of Residuals': 0.6313230983602043,\n",
              " 'Autocorrelation': 'No Autocorrelation: 2.3735258408206312',\n",
              " 'Linearity': 0.11587562145871068}"
            ]
          },
          "metadata": {},
          "execution_count": 84
        }
      ]
    },
    {
      "cell_type": "code",
      "execution_count": null,
      "metadata": {
        "id": "bBxVoj_4zlQP",
        "outputId": "b6f5919a-3ff0-44d2-cf93-312216e90af3"
      },
      "outputs": [
        {
          "data": {
            "image/png": "[encoded data removed]",
            "text/plain": [
              "<Figure size 432x288 with 1 Axes>"
            ]
          },
          "metadata": {},
          "output_type": "display_data"
        }
      ],
      "source": [
        "# Linear Regression vs Random Forest\n",
        "from sklearn.linear_model import LinearRegression\n",
        "from sklearn.ensemble import RandomForestRegressor\n",
        "\n",
        "rf = RandomForestRegressor()\n",
        "lr = LinearRegression()\n",
        "\n",
        "predictors = premium.drop(\"Premium\", axis =1 )\n",
        "tgt = premium.Premium\n",
        "\n",
        "pred_lr = lr.fit(predictors, tgt).predict(predictors)\n",
        "pred_rf = rf.fit(predictors, tgt).predict(predictors)\n",
        "\n"
      ]
    },
    {
      "cell_type": "code",
      "execution_count": null,
      "metadata": {
        "id": "SdkcGMoyzlQR",
        "outputId": "9a2127dd-0298-4f65-e564-c6e493d44e85"
      },
      "outputs": [
        {
          "data": {
            "image/png": "[encoded data removed]",
            "text/plain": [
              "<Figure size 432x288 with 1 Axes>"
            ]
          },
          "metadata": {},
          "output_type": "display_data"
        }
      ],
      "source": [
        "plt.plot(premium.Premium, label = \"Actual\")\n",
        "plt.plot(pred_lr, label = \"LR\")\n",
        "#plt.plot(pred_rf, label = \"Rf\")\n",
        "plt.legend()\n",
        "plt.show()"
      ]
    },
    {
      "cell_type": "code",
      "execution_count": null,
      "metadata": {
        "id": "EHqqEXYqzlQS",
        "outputId": "21a3b24f-fe22-4e7a-8b56-e34f35efb750"
      },
      "outputs": [
        {
          "data": {
            "image/png": "[encoded data removed]",
            "text/plain": [
              "<Figure size 432x288 with 1 Axes>"
            ]
          },
          "metadata": {},
          "output_type": "display_data"
        }
      ],
      "source": [
        "plt.plot(premium.Premium, label = \"Actual\")\n",
        "#plt.plot(pred_lr, label = \"LR\")\n",
        "plt.plot(pred_rf, label = \"Rf\")\n",
        "plt.legend()\n",
        "plt.show()"
      ]
    },
    {
      "cell_type": "markdown",
      "metadata": {
        "id": "iBCalkr_zlQT"
      },
      "source": [
        "### Interaction Effect\n",
        "\n",
        "1. IE occurs when the effect of one variable influences the other.\n",
        "2. Lets say if the fuel efficiency along with car types would have been given then a legit interaction effect would be Engine*Fuel_Efficiency.\n",
        "3. In simple words, if a variable or its properties are complimenting the other variable(s) then such an effect is called Interaction Effect.\n",
        "\n",
        "Here in this data, we can take engine and age to create an interaction effect.."
      ]
    },
    {
      "cell_type": "code",
      "execution_count": null,
      "metadata": {
        "id": "plpUsfjZzlQT",
        "outputId": "2fd33802-e113-4f18-8309-6b35c10f20ad"
      },
      "outputs": [
        {
          "data": {
            "text/plain": [
              "<matplotlib.axes._subplots.AxesSubplot at 0x1e37c081c10>"
            ]
          },
          "execution_count": 9,
          "metadata": {},
          "output_type": "execute_result"
        },
        {
          "data": {
            "image/png": "[encoded data removed]",
            "text/plain": [
              "<Figure size 432x288 with 2 Axes>"
            ]
          },
          "metadata": {
            "needs_background": "light"
          },
          "output_type": "display_data"
        }
      ],
      "source": [
        "# Interaction Effect\n",
        "premium[\"Int_Eng_Age\"] = premium[\"Engine\"]*premium[\"Age\"]\n",
        "\n",
        "sns.heatmap(premium.corr(), annot = True, cmap = \"YlGnBu\")"
      ]
    },
    {
      "cell_type": "code",
      "execution_count": null,
      "metadata": {
        "id": "c5DHzLhVzlQU",
        "outputId": "fed4d579-b19d-4d26-c3a9-69584f176bbd"
      },
      "outputs": [
        {
          "data": {
            "text/html": [
              "<table class=\"simpletable\">\n",
              "<caption>OLS Regression Results</caption>\n",
              "<tr>\n",
              "  <th>Dep. Variable:</th>         <td>Premium</td>     <th>  R-squared:         </th> <td>   0.586</td>\n",
              "</tr>\n",
              "<tr>\n",
              "  <th>Model:</th>                   <td>OLS</td>       <th>  Adj. R-squared:    </th> <td>   0.517</td>\n",
              "</tr>\n",
              "<tr>\n",
              "  <th>Method:</th>             <td>Least Squares</td>  <th>  F-statistic:       </th> <td>   8.507</td>\n",
              "</tr>\n",
              "<tr>\n",
              "  <th>Date:</th>             <td>Sun, 17 Jan 2021</td> <th>  Prob (F-statistic):</th>  <td>0.00501</td>\n",
              "</tr>\n",
              "<tr>\n",
              "  <th>Time:</th>                 <td>08:26:23</td>     <th>  Log-Likelihood:    </th> <td> -86.127</td>\n",
              "</tr>\n",
              "<tr>\n",
              "  <th>No. Observations:</th>      <td>    15</td>      <th>  AIC:               </th> <td>   178.3</td>\n",
              "</tr>\n",
              "<tr>\n",
              "  <th>Df Residuals:</th>          <td>    12</td>      <th>  BIC:               </th> <td>   180.4</td>\n",
              "</tr>\n",
              "<tr>\n",
              "  <th>Df Model:</th>              <td>     2</td>      <th>                     </th>     <td> </td>   \n",
              "</tr>\n",
              "<tr>\n",
              "  <th>Covariance Type:</th>      <td>nonrobust</td>    <th>                     </th>     <td> </td>   \n",
              "</tr>\n",
              "</table>\n",
              "<table class=\"simpletable\">\n",
              "<tr>\n",
              "       <td></td>          <th>coef</th>     <th>std err</th>      <th>t</th>      <th>P>|t|</th>  <th>[0.025</th>    <th>0.975]</th>  \n",
              "</tr>\n",
              "<tr>\n",
              "  <th>Intercept</th>   <td>  -45.1692</td> <td>  163.594</td> <td>   -0.276</td> <td> 0.787</td> <td> -401.610</td> <td>  311.271</td>\n",
              "</tr>\n",
              "<tr>\n",
              "  <th>Engine</th>      <td>  234.2719</td> <td>  101.077</td> <td>    2.318</td> <td> 0.039</td> <td>   14.043</td> <td>  454.501</td>\n",
              "</tr>\n",
              "<tr>\n",
              "  <th>Int_Eng_Age</th> <td>  -20.8965</td> <td>    7.531</td> <td>   -2.775</td> <td> 0.017</td> <td>  -37.304</td> <td>   -4.489</td>\n",
              "</tr>\n",
              "</table>\n",
              "<table class=\"simpletable\">\n",
              "<tr>\n",
              "  <th>Omnibus:</th>       <td> 0.431</td> <th>  Durbin-Watson:     </th> <td>   2.507</td>\n",
              "</tr>\n",
              "<tr>\n",
              "  <th>Prob(Omnibus):</th> <td> 0.806</td> <th>  Jarque-Bera (JB):  </th> <td>   0.001</td>\n",
              "</tr>\n",
              "<tr>\n",
              "  <th>Skew:</th>          <td>-0.013</td> <th>  Prob(JB):          </th> <td>   0.999</td>\n",
              "</tr>\n",
              "<tr>\n",
              "  <th>Kurtosis:</th>      <td> 2.967</td> <th>  Cond. No.          </th> <td>    60.1</td>\n",
              "</tr>\n",
              "</table><br/><br/>Warnings:<br/>[1] Standard Errors assume that the covariance matrix of the errors is correctly specified."
            ],
            "text/plain": [
              "<class 'statsmodels.iolib.summary.Summary'>\n",
              "\"\"\"\n",
              "                            OLS Regression Results                            \n",
              "==============================================================================\n",
              "Dep. Variable:                Premium   R-squared:                       0.586\n",
              "Model:                            OLS   Adj. R-squared:                  0.517\n",
              "Method:                 Least Squares   F-statistic:                     8.507\n",
              "Date:                Sun, 17 Jan 2021   Prob (F-statistic):            0.00501\n",
              "Time:                        08:26:23   Log-Likelihood:                -86.127\n",
              "No. Observations:                  15   AIC:                             178.3\n",
              "Df Residuals:                      12   BIC:                             180.4\n",
              "Df Model:                           2                                         \n",
              "Covariance Type:            nonrobust                                         \n",
              "===============================================================================\n",
              "                  coef    std err          t      P>|t|      [0.025      0.975]\n",
              "-------------------------------------------------------------------------------\n",
              "Intercept     -45.1692    163.594     -0.276      0.787    -401.610     311.271\n",
              "Engine        234.2719    101.077      2.318      0.039      14.043     454.501\n",
              "Int_Eng_Age   -20.8965      7.531     -2.775      0.017     -37.304      -4.489\n",
              "==============================================================================\n",
              "Omnibus:                        0.431   Durbin-Watson:                   2.507\n",
              "Prob(Omnibus):                  0.806   Jarque-Bera (JB):                0.001\n",
              "Skew:                          -0.013   Prob(JB):                        0.999\n",
              "Kurtosis:                       2.967   Cond. No.                         60.1\n",
              "==============================================================================\n",
              "\n",
              "Warnings:\n",
              "[1] Standard Errors assume that the covariance matrix of the errors is correctly specified.\n",
              "\"\"\""
            ]
          },
          "execution_count": 13,
          "metadata": {},
          "output_type": "execute_result"
        }
      ],
      "source": [
        "# Model\n",
        "finalmodel = ols(\"Premium~Engine+Int_Eng_Age\", data = premium).fit()\n",
        "finalmodel.summary()"
      ]
    },
    {
      "cell_type": "markdown",
      "metadata": {
        "id": "b3SgRa2ezlQV"
      },
      "source": [
        "### Conclusion\n",
        "\n",
        "* Clearly the Interaction effect has improved the R2score."
      ]
    }
  ],
  "metadata": {
    "kernelspec": {
      "display_name": "Python 3",
      "language": "python",
      "name": "python3"
    },
    "language_info": {
      "codemirror_mode": {
        "name": "ipython",
        "version": 3
      },
      "file_extension": ".py",
      "mimetype": "text/x-python",
      "name": "python",
      "nbconvert_exporter": "python",
      "pygments_lexer": "ipython3",
      "version": "3.8.3"
    },
    "colab": {
      "provenance": [],
      "include_colab_link": true
    }
  },
  "nbformat": 4,
  "nbformat_minor": 0
}