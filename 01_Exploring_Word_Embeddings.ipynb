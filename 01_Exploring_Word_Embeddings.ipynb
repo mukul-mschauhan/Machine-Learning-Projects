{
  "nbformat": 4,
  "nbformat_minor": 0,
  "metadata": {
    "kernelspec": {
      "display_name": "Python 3",
      "language": "python",
      "name": "python3"
    },
    "language_info": {
      "codemirror_mode": {
        "name": "ipython",
        "version": 3
      },
      "file_extension": ".py",
      "mimetype": "text/x-python",
      "name": "python",
      "nbconvert_exporter": "python",
      "pygments_lexer": "ipython3",
      "version": "3.7.3"
    },
    "colab": {
      "name": "01 - Trained Word Embeddings with Gensim.ipynb",
      "provenance": [],
      "include_colab_link": true
    }
  },
  "cells": [
    {
      "cell_type": "markdown",
      "metadata": {
        "id": "view-in-github",
        "colab_type": "text"
      },
      "source": [
        "<a href=\"https://colab.research.google.com/github/jalammar/jalammar.github.io/blob/master/notebooks/nlp/01_Exploring_Word_Embeddings.ipynb\" target=\"_parent\"><img src=\"https://colab.research.google.com/assets/colab-badge.svg\" alt=\"Open In Colab\"/></a>"
      ]
    },
    {
      "cell_type": "markdown",
      "metadata": {
        "id": "qrmlikzE_6Er",
        "colab_type": "text"
      },
      "source": [
        "# 01 - Exploring Word Embeddings\n",
        "In this notebook, we'll look at trained word embeddings. We'll plot the embeddings so we can attempt to visually compare embeddings. We'll then look at analogies and word similarities. We'll use the Gensim library which makes it easy to work with embeddings."
      ]
    },
    {
      "cell_type": "code",
      "metadata": {
        "id": "xB1y1EFC_6Eu",
        "colab_type": "code",
        "colab": {}
      },
      "source": [
        "import gensim\n",
        "import gensim.downloader as api\n",
        "from sklearn.metrics.pairwise import cosine_similarity\n",
        "import seaborn as sns\n",
        "import matplotlib.pyplot as plt\n",
        "import warnings\n",
        "warnings.filterwarnings('ignore')"
      ],
      "execution_count": 0,
      "outputs": []
    },
    {
      "cell_type": "markdown",
      "metadata": {
        "id": "AlYeTyjz_6Ey",
        "colab_type": "text"
      },
      "source": [
        "#### Download a table of pre-trained embeddings"
      ]
    },
    {
      "cell_type": "code",
      "metadata": {
        "id": "e-_Rx6Hn_6E0",
        "colab_type": "code",
        "colab": {
          "base_uri": "https://localhost:8080/",
          "height": 34
        },
        "outputId": "cc44f9c3-8309-431e-f278-2ace23963bcd"
      },
      "source": [
        "# Download embeddings (66MB, glove, trained on wikipedia)\n",
        "model = api.load(\"glove-wiki-gigaword-50\")"
      ],
      "execution_count": 2,
      "outputs": [
        {
          "output_type": "stream",
          "text": [
            "[==================================================] 100.0% 66.0/66.0MB downloaded\n"
          ],
          "name": "stdout"
        }
      ]
    },
    {
      "cell_type": "markdown",
      "metadata": {
        "id": "dqK6_8vX_6E3",
        "colab_type": "text"
      },
      "source": [
        "What's the embedding of 'king'?"
      ]
    },
    {
      "cell_type": "code",
      "metadata": {
        "id": "XWeOUHjT_6E5",
        "colab_type": "code",
        "colab": {
          "base_uri": "https://localhost:8080/",
          "height": 170
        },
        "outputId": "ea01d016-050b-485a-dcd6-45e798a92e2c"
      },
      "source": [
        "model['king']"
      ],
      "execution_count": 3,
      "outputs": [
        {
          "output_type": "execute_result",
          "data": {
            "text/plain": [
              "array([ 0.50451 ,  0.68607 , -0.59517 , -0.022801,  0.60046 , -0.13498 ,\n",
              "       -0.08813 ,  0.47377 , -0.61798 , -0.31012 , -0.076666,  1.493   ,\n",
              "       -0.034189, -0.98173 ,  0.68229 ,  0.81722 , -0.51874 , -0.31503 ,\n",
              "       -0.55809 ,  0.66421 ,  0.1961  , -0.13495 , -0.11476 , -0.30344 ,\n",
              "        0.41177 , -2.223   , -1.0756  , -1.0783  , -0.34354 ,  0.33505 ,\n",
              "        1.9927  , -0.04234 , -0.64319 ,  0.71125 ,  0.49159 ,  0.16754 ,\n",
              "        0.34344 , -0.25663 , -0.8523  ,  0.1661  ,  0.40102 ,  1.1685  ,\n",
              "       -1.0137  , -0.21585 , -0.15155 ,  0.78321 , -0.91241 , -1.6106  ,\n",
              "       -0.64426 , -0.51042 ], dtype=float32)"
            ]
          },
          "metadata": {
            "tags": []
          },
          "execution_count": 3
        }
      ]
    },
    {
      "cell_type": "markdown",
      "metadata": {
        "id": "S2duYBkk_6E_",
        "colab_type": "text"
      },
      "source": [
        "#### How many words does this table have?"
      ]
    },
    {
      "cell_type": "code",
      "metadata": {
        "id": "_6BObQ0q_6FA",
        "colab_type": "code",
        "colab": {
          "base_uri": "https://localhost:8080/",
          "height": 34
        },
        "outputId": "5665e2ca-00fb-4414-e2aa-2076f70ffd02"
      },
      "source": [
        "model.vectors.shape"
      ],
      "execution_count": 4,
      "outputs": [
        {
          "output_type": "execute_result",
          "data": {
            "text/plain": [
              "(400000, 50)"
            ]
          },
          "metadata": {
            "tags": []
          },
          "execution_count": 4
        }
      ]
    },
    {
      "cell_type": "markdown",
      "metadata": {
        "id": "u9ULYBe7_6FE",
        "colab_type": "text"
      },
      "source": [
        "Which means:\n",
        "* 400,000 words (vocab_size)\n",
        "* Each has an embedding composed of 50 numbers (embedding_size)"
      ]
    },
    {
      "cell_type": "markdown",
      "metadata": {
        "id": "0vUJ6e9B_6FG",
        "colab_type": "text"
      },
      "source": [
        "### Visualizing the embedding vector\n",
        "Let's plot the vector so we can have a colorful visual of values in the embedding vector"
      ]
    },
    {
      "cell_type": "code",
      "metadata": {
        "id": "RRmmYf8-_6FT",
        "colab_type": "code",
        "colab": {}
      },
      "source": [
        "\n",
        "def plot_embeddings(vectors, labels=None):\n",
        "    n_vectors = len(vectors)\n",
        "    fig = plt.figure(figsize=(12, n_vectors))\n",
        "    # ax = fig.add_axes([0.1, 0.1, 0.8, 0.8])\n",
        "    # ax = fig.add_axes([1, 1, 1, 1])\n",
        "    ax = plt.gca()\n",
        "    \n",
        "    sns.heatmap(vectors, cmap='RdBu', vmax=2, vmin=-2, ax=ax)\n",
        "    \n",
        "    if labels:\n",
        "        ax.set_yticklabels(labels,rotation=0)\n",
        "        ax.tick_params(axis='both', which='major', labelsize=30)\n",
        "        \n",
        "    plt.tick_params(axis='x',          # changes apply to the x-axis\n",
        "        which='both',      # both major and minor ticks are affected\n",
        "        bottom=False,      # ticks along the bottom edge are off\n",
        "        top=False,         # ticks along the top edge are off\n",
        "        labelbottom=False) # labels along the bottom edge are off\n",
        "    \n",
        "    # From https://github.com/mwaskom/seaborn/issues/1773\n",
        "    # fix for mpl bug that cuts off top/bottom of seaborn viz\n",
        "    b, t = plt.ylim() # discover the values for bottom and top\n",
        "    b += 0.5 # Add 0.5 to the bottom\n",
        "    t -= 0.5 # Subtract 0.5 from the top\n",
        "    plt.ylim(b, t) # update the ylim(bottom, top) values\n",
        "    plt.show() # ta-da!"
      ],
      "execution_count": 0,
      "outputs": []
    },
    {
      "cell_type": "markdown",
      "metadata": {
        "id": "nW_otYufCb9b",
        "colab_type": "text"
      },
      "source": [
        "Let's plot the embedding of `king`"
      ]
    },
    {
      "cell_type": "code",
      "metadata": {
        "id": "1QJf4kfvCWOU",
        "colab_type": "code",
        "colab": {
          "base_uri": "https://localhost:8080/",
          "height": 86
        },
        "outputId": "717f0aa1-43e6-491e-ba11-9dc01aadc2d6"
      },
      "source": [
        "plot_embeddings([model['king']], ['king'])"
      ],
      "execution_count": 53,
      "outputs": [
        {
          "output_type": "display_data",
          "data": {
            "image/png": "[encoded data removed]",
            "text/plain": [
              "<Figure size 864x72 with 2 Axes>"
            ]
          },
          "metadata": {
            "tags": []
          }
        }
      ]
    },
    {
      "cell_type": "markdown",
      "metadata": {
        "id": "xtM9lYuuCgjD",
        "colab_type": "text"
      },
      "source": [
        "We can also compare multiple embeddings:"
      ]
    },
    {
      "cell_type": "code",
      "metadata": {
        "id": "K6SADFGaCWUH",
        "colab_type": "code",
        "colab": {
          "base_uri": "https://localhost:8080/",
          "height": 303
        },
        "outputId": "31280cc9-07ba-49df-f01a-9680bebc429a"
      },
      "source": [
        "plot_embeddings([model['king'], model['man'], model['woman'], model['girl'], model['boy']],\n",
        "              ['king', 'man', 'woman', 'girl', 'boy'])"
      ],
      "execution_count": 54,
      "outputs": [
        {
          "output_type": "display_data",
          "data": {
            "image/png": "[encoded data removed]",
            "text/plain": [
              "<Figure size 864x360 with 2 Axes>"
            ]
          },
          "metadata": {
            "tags": []
          }
        }
      ]
    },
    {
      "cell_type": "markdown",
      "metadata": {
        "id": "cz1-mreNClOK",
        "colab_type": "text"
      },
      "source": [
        "Here's another example including a number of different concepts:"
      ]
    },
    {
      "cell_type": "code",
      "metadata": {
        "id": "cgBLjFK8_6FW",
        "colab_type": "code",
        "colab": {
          "base_uri": "https://localhost:8080/",
          "height": 303
        },
        "outputId": "a4134d48-0252-404e-8e31-5dab9de3a9e4"
      },
      "source": [
        "plot_embeddings([model['king'], model['water'], model['god'], model['love'], model['star']],\n",
        "              ['king', 'water', 'god', 'love', 'star'])"
      ],
      "execution_count": 55,
      "outputs": [
        {
          "output_type": "display_data",
          "data": {
            "image/png": "[encoded data removed]",
            "text/plain": [
              "<Figure size 864x360 with 2 Axes>"
            ]
          },
          "metadata": {
            "tags": []
          }
        }
      ]
    },
    {
      "cell_type": "markdown",
      "metadata": {
        "id": "jjXRJTkH_6FZ",
        "colab_type": "text"
      },
      "source": [
        "## Analogies\n",
        "### king - man + woman  = ?"
      ]
    },
    {
      "cell_type": "code",
      "metadata": {
        "id": "dXs2TVam_6Fa",
        "colab_type": "code",
        "colab": {
          "base_uri": "https://localhost:8080/",
          "height": 187
        },
        "outputId": "40055f86-b4cb-4144-a5ac-c324f0f4edc3"
      },
      "source": [
        "model.most_similar(positive=[\"king\", \"woman\"], negative=[\"man\"])"
      ],
      "execution_count": 33,
      "outputs": [
        {
          "output_type": "execute_result",
          "data": {
            "text/plain": [
              "[('queen', 0.8523603677749634),\n",
              " ('throne', 0.7664334177970886),\n",
              " ('prince', 0.759214460849762),\n",
              " ('daughter', 0.7473883032798767),\n",
              " ('elizabeth', 0.7460220456123352),\n",
              " ('princess', 0.7424569725990295),\n",
              " ('kingdom', 0.7337411642074585),\n",
              " ('monarch', 0.7214490175247192),\n",
              " ('eldest', 0.7184861898422241),\n",
              " ('widow', 0.7099430561065674)]"
            ]
          },
          "metadata": {
            "tags": []
          },
          "execution_count": 33
        }
      ]
    },
    {
      "cell_type": "code",
      "metadata": {
        "id": "KMLRo6DW_6Fd",
        "colab_type": "code",
        "colab": {
          "base_uri": "https://localhost:8080/",
          "height": 303
        },
        "outputId": "7f7d2afa-ccf4-4a56-9c0b-b49a725691bf"
      },
      "source": [
        "plot_embeddings([model['king'], \n",
        "                model['man'], \n",
        "                model['woman'],\n",
        "                model['king'] - model['man'] + model['woman'],\n",
        "                model['queen']],\n",
        "                ['king', 'man', 'woman', 'king-man+woman', 'queen'])"
      ],
      "execution_count": 56,
      "outputs": [
        {
          "output_type": "display_data",
          "data": {
            "image/png": "[encoded data removed]",
            "text/plain": [
              "<Figure size 864x360 with 2 Axes>"
            ]
          },
          "metadata": {
            "tags": []
          }
        }
      ]
    },
    {
      "cell_type": "markdown",
      "metadata": {
        "id": "Yl0kGOJn_6Fg",
        "colab_type": "text"
      },
      "source": [
        "**2019 update**: This turned out to be a misconception. The result is actually closer to \"king\" than it is to \"queen\", it's just that the code rules out the input vectors as possible outputs\n",
        "\n",
        "\n",
        "[Fair is Better than Sensational:Man is to Doctor as Woman is to Doctor](https://arxiv.org/abs/1905.09866)\n",
        "\n",
        "To verify, let's calculate cosine distance between the result of the analogy, and `queen`."
      ]
    },
    {
      "cell_type": "code",
      "metadata": {
        "id": "246SfDTN_6Fh",
        "colab_type": "code",
        "colab": {
          "base_uri": "https://localhost:8080/",
          "height": 34
        },
        "outputId": "3800a072-81a3-4b0c-ba64-98b2ebc4835d"
      },
      "source": [
        "result = model['king'] - model['man'] + model['woman']\n",
        "\n",
        "# Similarity between result and 'queen'\n",
        "cosine_similarity(result.reshape(1, -1), model['queen'].reshape(1, -1))"
      ],
      "execution_count": 35,
      "outputs": [
        {
          "output_type": "execute_result",
          "data": {
            "text/plain": [
              "array([[0.8609581]], dtype=float32)"
            ]
          },
          "metadata": {
            "tags": []
          },
          "execution_count": 35
        }
      ]
    },
    {
      "cell_type": "markdown",
      "metadata": {
        "id": "nLouwuAzC80t",
        "colab_type": "text"
      },
      "source": [
        "Let's compare that to the distance between the result and `king`:"
      ]
    },
    {
      "cell_type": "code",
      "metadata": {
        "id": "eRL5BTC0_6Fk",
        "colab_type": "code",
        "colab": {
          "base_uri": "https://localhost:8080/",
          "height": 34
        },
        "outputId": "b7d0dca9-4502-4878-b266-4eacf86fcb23"
      },
      "source": [
        "# Similarity between result and 'king'\n",
        "cosine_similarity(result.reshape(1, -1), model['king'].reshape(1, -1))"
      ],
      "execution_count": 36,
      "outputs": [
        {
          "output_type": "execute_result",
          "data": {
            "text/plain": [
              "array([[0.8859834]], dtype=float32)"
            ]
          },
          "metadata": {
            "tags": []
          },
          "execution_count": 36
        }
      ]
    },
    {
      "cell_type": "markdown",
      "metadata": {
        "id": "Vs7wB08b_6Fx",
        "colab_type": "text"
      },
      "source": [
        "So the result is more similar to king (0.8859834 similarity score) than it is to queen (0.8609581 similarity score)."
      ]
    },
    {
      "cell_type": "code",
      "metadata": {
        "id": "khmA8TJI_6Fy",
        "colab_type": "code",
        "colab": {
          "base_uri": "https://localhost:8080/",
          "height": 243
        },
        "outputId": "4d3b7c65-e10e-4109-f2e2-848429b61699"
      },
      "source": [
        "plot_embeddings( [model['king'],\n",
        "                 result, \n",
        "                 model['queen']],\n",
        "                 ['king', 'king-man+woman', 'queen'])"
      ],
      "execution_count": 38,
      "outputs": [
        {
          "output_type": "display_data",
          "data": {
            "image/png": "[encoded data removed]",
            "text/plain": [
              "<Figure size 1296x216 with 2 Axes>"
            ]
          },
          "metadata": {
            "tags": []
          }
        }
      ]
    },
    {
      "cell_type": "markdown",
      "metadata": {
        "id": "zwc6OsJv_6F1",
        "colab_type": "text"
      },
      "source": [
        "## Exercise: doctor - man + woman = ?"
      ]
    },
    {
      "cell_type": "code",
      "metadata": {
        "id": "Y-oqYbHn_6F2",
        "colab_type": "code",
        "colab": {}
      },
      "source": [
        "# TODO: fill-in values\n",
        "model.most_similar(positive=[], negative=[])"
      ],
      "execution_count": 0,
      "outputs": []
    },
    {
      "cell_type": "markdown",
      "metadata": {
        "id": "mw4vDdlN_6F6",
        "colab_type": "text"
      },
      "source": [
        "### Verify: Is it, really?"
      ]
    },
    {
      "cell_type": "code",
      "metadata": {
        "id": "-AMCMD_m_6F7",
        "colab_type": "code",
        "colab": {}
      },
      "source": [
        "# TODO: do analogy algebra\n",
        "result = model[''] - model[''] + model['']\n",
        "\n",
        "# Similarity between result and 'nurse'\n",
        "cosine_similarity(result.reshape(1, -1), model['nurse'].reshape(1, -1))"
      ],
      "execution_count": 0,
      "outputs": []
    },
    {
      "cell_type": "code",
      "metadata": {
        "id": "0f5JXIsF_6F9",
        "colab_type": "code",
        "colab": {}
      },
      "source": [
        "\n",
        "# Similarity between result and 'doctor'\n",
        "cosine_similarity(result.reshape(1, -1), model['doctor'].reshape(1, -1))"
      ],
      "execution_count": 0,
      "outputs": []
    }
  ]
}