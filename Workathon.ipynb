{
  "nbformat": 4,
  "nbformat_minor": 0,
  "metadata": {
    "colab": {
      "provenance": []
    },
    "kernelspec": {
      "name": "python3",
      "display_name": "Python 3"
    },
    "language_info": {
      "name": "python"
    }
  },
  "cells": [
    {
      "cell_type": "markdown",
      "source": [
        "### Problem Statement\n",
        "\n",
        "The new covid-era has provided a new way of living the work-life balance. We have seen a lot of different websites providing packages to work from different locations. From Kashmir to Kanyakumari, from Gujarat to Assam we have collected packages in and around India. It becomes really difficult to find the best place with all the amenities such as high-speed internet, a comfortable stay as well as within the budget. To solve the real-world problem of finding the best deals for a calm and enjoying workation trip. Workation is the best way to work at a remote location with a recreational and rejuvenating vacation for the team.\n",
        "\n",
        "In this competition, one has to use the knowledge of machine learning, deep learning, and model building to predict the price per person for your next workstation trip. The data has more than 18000+ rows of different packages with the details like start location, hotel type, cost per person, destination, Itinerary, and many more."
      ],
      "metadata": {
        "id": "waC2rRIAQ5yE"
      }
    },
    {
      "cell_type": "code",
      "execution_count": 1,
      "metadata": {
        "id": "cdGHQ4l0QowH"
      },
      "outputs": [],
      "source": [
        "import numpy as np\n",
        "import pandas as pd\n",
        "import matplotlib.pyplot as plt\n",
        "import seaborn as sns\n",
        "\n",
        "pd.set_option('display.max_columns', 50)"
      ]
    },
    {
      "cell_type": "code",
      "source": [
        "train = pd.read_csv(\"/content/Train.csv\")\n",
        "test = pd.read_csv(\"/content/Test.csv\")\n",
        "\n",
        "combined = pd.concat([train, test], ignore_index = True)\n",
        "\n",
        "train.shape, test.shape, combined.shape"
      ],
      "metadata": {
        "colab": {
          "base_uri": "https://localhost:8080/"
        },
        "id": "8oc4BFaUZn0i",
        "outputId": "4edcf4a7-de7a-46b6-c2da-75ea583e4d31"
      },
      "execution_count": 2,
      "outputs": [
        {
          "output_type": "execute_result",
          "data": {
            "text/plain": [
              "((21000, 15), (9000, 14), (30000, 15))"
            ]
          },
          "metadata": {},
          "execution_count": 2
        }
      ]
    },
    {
      "cell_type": "code",
      "source": [
        "combined.head()"
      ],
      "metadata": {
        "colab": {
          "base_uri": "https://localhost:8080/",
          "height": 590
        },
        "id": "Qixb9wsHZz2D",
        "outputId": "5d54b8e9-f564-4885-80e3-740624dcd4ab"
      },
      "execution_count": 3,
      "outputs": [
        {
          "output_type": "execute_result",
          "data": {
            "text/plain": [
              "                            Uniq Id  \\\n",
              "0  e788ab76d9d8cf1e6ed2f139645ca5d1   \n",
              "1  178f892630ce3e335a5a41d5d83937fd   \n",
              "2  f060f2954840503cc2fdaf495357b7df   \n",
              "3  32a19a6c171e67448f2346da46c619dc   \n",
              "4  107b068aa0ca03bc6248966f594d105f   \n",
              "\n",
              "                                   Package Name Package Type  \\\n",
              "0  Best of Shimla and Manali Holiday from Delhi     Standard   \n",
              "1                       Kashmir Valley vacation      Premium   \n",
              "2       Might of Mewar- Udaipur and Chittorgarh       Luxury   \n",
              "3          Colorful Kerala ( Romantic Getaway )      Premium   \n",
              "4                   A Week In Bangkok & Pattaya      Premium   \n",
              "\n",
              "                                   Destination  \\\n",
              "0           New Delhi|Shimla|Manali|Chandigarh   \n",
              "1                   Srinagar|Pahalgam|Srinagar   \n",
              "2                          Udaipur|Chittorgarh   \n",
              "3  Munnar|Kumarakom|Allepey|Kovalam and Poovar   \n",
              "4                              Pattaya|Bangkok   \n",
              "\n",
              "                                           Itinerary  \\\n",
              "0  1N New Delhi . 2N Shimla . 2N Manali . 1N Chan...   \n",
              "1            1N Srinagar . 2N Pahalgam . 1N Srinagar   \n",
              "2                        2N Udaipur . 1N Chittorgarh   \n",
              "3  2N Munnar . 1N Kumarakom . 1N Allepey . 2N Kov...   \n",
              "4                            4N Pattaya . 3N Bangkok   \n",
              "\n",
              "                                Places Covered Travel Date  \\\n",
              "0           New Delhi|Shimla|Manali|Chandigarh  30-07-2021   \n",
              "1                   Srinagar|Pahalgam|Srinagar  08-12-2021   \n",
              "2                          Udaipur|Chittorgarh  26-04-2021   \n",
              "3  Munnar|Kumarakom|Allepey|Kovalam and Poovar  27-08-2021   \n",
              "4                              Pattaya|Bangkok  12-12-2021   \n",
              "\n",
              "                                       Hotel Details Start City  \\\n",
              "0                                      Not Available     Mumbai   \n",
              "1  The Orchard Retreat & Spa:4.6|WelcomHotel Pine...  New Delhi   \n",
              "2       The Ananta:4.4|juSTa Lake Nahargarh Palace:4  New Delhi   \n",
              "3  Elixir Hills Suites Resort & Spa-MMT Holidays ...  New Delhi   \n",
              "4  Dusit Thani Pattaya - MMT Special:4.5|Amari Wa...  New Delhi   \n",
              "\n",
              "           Airline  Flight Stops  Meals  \\\n",
              "0    Not Available             2      3   \n",
              "1    IndiGo|IndiGo             0      5   \n",
              "2           IndiGo             0      4   \n",
              "3           IndiGo             0      5   \n",
              "4  Spicejet|Go Air             0      5   \n",
              "\n",
              "                          Sightseeing Places Covered  \\\n",
              "0                                      Not Available   \n",
              "1   Dal Lake | Avantipura Ruins | Mughal Gardens ...   \n",
              "2   Lake Pichola | Jag Mandir Palace | Saheliyon ...   \n",
              "3   Mattupetty Dam | Echo Point | Tata Tea Museum...   \n",
              "4   Coral Island Tour with Indian Lunch, Join Spe...   \n",
              "\n",
              "                                  Cancellation Rules  Per Person Price  \n",
              "0                                      Not Available           11509.0  \n",
              "1  Cancellation any time after making the 1st pay...           22485.5  \n",
              "2  Cancellation any time after making the 1st pay...           12421.5  \n",
              "3  Cancellation any time after making the 1st pay...           35967.0  \n",
              "4  Cancellation any time after making the 1st pay...           25584.0  "
            ],
            "text/html": [
              "\n",
              "  <div id=\"df-2f6135f0-13a9-44f4-9e1e-11de35aef16b\" class=\"colab-df-container\">\n",
              "    <div>\n",
              "<style scoped>\n",
              "    .dataframe tbody tr th:only-of-type {\n",
              "        vertical-align: middle;\n",
              "    }\n",
              "\n",
              "    .dataframe tbody tr th {\n",
              "        vertical-align: top;\n",
              "    }\n",
              "\n",
              "    .dataframe thead th {\n",
              "        text-align: right;\n",
              "    }\n",
              "</style>\n",
              "<table border=\"1\" class=\"dataframe\">\n",
              "  <thead>\n",
              "    <tr style=\"text-align: right;\">\n",
              "      <th></th>\n",
              "      <th>Uniq Id</th>\n",
              "      <th>Package Name</th>\n",
              "      <th>Package Type</th>\n",
              "      <th>Destination</th>\n",
              "      <th>Itinerary</th>\n",
              "      <th>Places Covered</th>\n",
              "      <th>Travel Date</th>\n",
              "      <th>Hotel Details</th>\n",
              "      <th>Start City</th>\n",
              "      <th>Airline</th>\n",
              "      <th>Flight Stops</th>\n",
              "      <th>Meals</th>\n",
              "      <th>Sightseeing Places Covered</th>\n",
              "      <th>Cancellation Rules</th>\n",
              "      <th>Per Person Price</th>\n",
              "    </tr>\n",
              "  </thead>\n",
              "  <tbody>\n",
              "    <tr>\n",
              "      <th>0</th>\n",
              "      <td>e788ab76d9d8cf1e6ed2f139645ca5d1</td>\n",
              "      <td>Best of Shimla and Manali Holiday from Delhi</td>\n",
              "      <td>Standard</td>\n",
              "      <td>New Delhi|Shimla|Manali|Chandigarh</td>\n",
              "      <td>1N New Delhi . 2N Shimla . 2N Manali . 1N Chan...</td>\n",
              "      <td>New Delhi|Shimla|Manali|Chandigarh</td>\n",
              "      <td>30-07-2021</td>\n",
              "      <td>Not Available</td>\n",
              "      <td>Mumbai</td>\n",
              "      <td>Not Available</td>\n",
              "      <td>2</td>\n",
              "      <td>3</td>\n",
              "      <td>Not Available</td>\n",
              "      <td>Not Available</td>\n",
              "      <td>11509.0</td>\n",
              "    </tr>\n",
              "    <tr>\n",
              "      <th>1</th>\n",
              "      <td>178f892630ce3e335a5a41d5d83937fd</td>\n",
              "      <td>Kashmir Valley vacation</td>\n",
              "      <td>Premium</td>\n",
              "      <td>Srinagar|Pahalgam|Srinagar</td>\n",
              "      <td>1N Srinagar . 2N Pahalgam . 1N Srinagar</td>\n",
              "      <td>Srinagar|Pahalgam|Srinagar</td>\n",
              "      <td>08-12-2021</td>\n",
              "      <td>The Orchard Retreat &amp; Spa:4.6|WelcomHotel Pine...</td>\n",
              "      <td>New Delhi</td>\n",
              "      <td>IndiGo|IndiGo</td>\n",
              "      <td>0</td>\n",
              "      <td>5</td>\n",
              "      <td>Dal Lake | Avantipura Ruins | Mughal Gardens ...</td>\n",
              "      <td>Cancellation any time after making the 1st pay...</td>\n",
              "      <td>22485.5</td>\n",
              "    </tr>\n",
              "    <tr>\n",
              "      <th>2</th>\n",
              "      <td>f060f2954840503cc2fdaf495357b7df</td>\n",
              "      <td>Might of Mewar- Udaipur and Chittorgarh</td>\n",
              "      <td>Luxury</td>\n",
              "      <td>Udaipur|Chittorgarh</td>\n",
              "      <td>2N Udaipur . 1N Chittorgarh</td>\n",
              "      <td>Udaipur|Chittorgarh</td>\n",
              "      <td>26-04-2021</td>\n",
              "      <td>The Ananta:4.4|juSTa Lake Nahargarh Palace:4</td>\n",
              "      <td>New Delhi</td>\n",
              "      <td>IndiGo</td>\n",
              "      <td>0</td>\n",
              "      <td>4</td>\n",
              "      <td>Lake Pichola | Jag Mandir Palace | Saheliyon ...</td>\n",
              "      <td>Cancellation any time after making the 1st pay...</td>\n",
              "      <td>12421.5</td>\n",
              "    </tr>\n",
              "    <tr>\n",
              "      <th>3</th>\n",
              "      <td>32a19a6c171e67448f2346da46c619dc</td>\n",
              "      <td>Colorful Kerala ( Romantic Getaway )</td>\n",
              "      <td>Premium</td>\n",
              "      <td>Munnar|Kumarakom|Allepey|Kovalam and Poovar</td>\n",
              "      <td>2N Munnar . 1N Kumarakom . 1N Allepey . 2N Kov...</td>\n",
              "      <td>Munnar|Kumarakom|Allepey|Kovalam and Poovar</td>\n",
              "      <td>27-08-2021</td>\n",
              "      <td>Elixir Hills Suites Resort &amp; Spa-MMT Holidays ...</td>\n",
              "      <td>New Delhi</td>\n",
              "      <td>IndiGo</td>\n",
              "      <td>0</td>\n",
              "      <td>5</td>\n",
              "      <td>Mattupetty Dam | Echo Point | Tata Tea Museum...</td>\n",
              "      <td>Cancellation any time after making the 1st pay...</td>\n",
              "      <td>35967.0</td>\n",
              "    </tr>\n",
              "    <tr>\n",
              "      <th>4</th>\n",
              "      <td>107b068aa0ca03bc6248966f594d105f</td>\n",
              "      <td>A Week In Bangkok &amp; Pattaya</td>\n",
              "      <td>Premium</td>\n",
              "      <td>Pattaya|Bangkok</td>\n",
              "      <td>4N Pattaya . 3N Bangkok</td>\n",
              "      <td>Pattaya|Bangkok</td>\n",
              "      <td>12-12-2021</td>\n",
              "      <td>Dusit Thani Pattaya - MMT Special:4.5|Amari Wa...</td>\n",
              "      <td>New Delhi</td>\n",
              "      <td>Spicejet|Go Air</td>\n",
              "      <td>0</td>\n",
              "      <td>5</td>\n",
              "      <td>Coral Island Tour with Indian Lunch, Join Spe...</td>\n",
              "      <td>Cancellation any time after making the 1st pay...</td>\n",
              "      <td>25584.0</td>\n",
              "    </tr>\n",
              "  </tbody>\n",
              "</table>\n",
              "</div>\n",
              "    <div class=\"colab-df-buttons\">\n",
              "\n",
              "  <div class=\"colab-df-container\">\n",
              "    <button class=\"colab-df-convert\" onclick=\"convertToInteractive('df-2f6135f0-13a9-44f4-9e1e-11de35aef16b')\"\n",
              "            title=\"Convert this dataframe to an interactive table.\"\n",
              "            style=\"display:none;\">\n",
              "\n",
              "  <svg xmlns=\"http://www.w3.org/2000/svg\" height=\"24px\" viewBox=\"0 -960 960 960\">\n",
              "    <path d=\"M120-120v-720h720v720H120Zm60-500h600v-160H180v160Zm220 220h160v-160H400v160Zm0 220h160v-160H400v160ZM180-400h160v-160H180v160Zm440 0h160v-160H620v160ZM180-180h160v-160H180v160Zm440 0h160v-160H620v160Z\"/>\n",
              "  </svg>\n",
              "    </button>\n",
              "\n",
              "  <style>\n",
              "    .colab-df-container {\n",
              "      display:flex;\n",
              "      gap: 12px;\n",
              "    }\n",
              "\n",
              "    .colab-df-convert {\n",
              "      background-color: #E8F0FE;\n",
              "      border: none;\n",
              "      border-radius: 50%;\n",
              "      cursor: pointer;\n",
              "      display: none;\n",
              "      fill: #1967D2;\n",
              "      height: 32px;\n",
              "      padding: 0 0 0 0;\n",
              "      width: 32px;\n",
              "    }\n",
              "\n",
              "    .colab-df-convert:hover {\n",
              "      background-color: #E2EBFA;\n",
              "      box-shadow: 0px 1px 2px rgba(60, 64, 67, 0.3), 0px 1px 3px 1px rgba(60, 64, 67, 0.15);\n",
              "      fill: #174EA6;\n",
              "    }\n",
              "\n",
              "    .colab-df-buttons div {\n",
              "      margin-bottom: 4px;\n",
              "    }\n",
              "\n",
              "    [theme=dark] .colab-df-convert {\n",
              "      background-color: #3B4455;\n",
              "      fill: #D2E3FC;\n",
              "    }\n",
              "\n",
              "    [theme=dark] .colab-df-convert:hover {\n",
              "      background-color: #434B5C;\n",
              "      box-shadow: 0px 1px 3px 1px rgba(0, 0, 0, 0.15);\n",
              "      filter: drop-shadow(0px 1px 2px rgba(0, 0, 0, 0.3));\n",
              "      fill: #FFFFFF;\n",
              "    }\n",
              "  </style>\n",
              "\n",
              "    <script>\n",
              "      const buttonEl =\n",
              "        document.querySelector('#df-2f6135f0-13a9-44f4-9e1e-11de35aef16b button.colab-df-convert');\n",
              "      buttonEl.style.display =\n",
              "        google.colab.kernel.accessAllowed ? 'block' : 'none';\n",
              "\n",
              "      async function convertToInteractive(key) {\n",
              "        const element = document.querySelector('#df-2f6135f0-13a9-44f4-9e1e-11de35aef16b');\n",
              "        const dataTable =\n",
              "          await google.colab.kernel.invokeFunction('convertToInteractive',\n",
              "                                                    [key], {});\n",
              "        if (!dataTable) return;\n",
              "\n",
              "        const docLinkHtml = 'Like what you see? Visit the ' +\n",
              "          '<a target=\"_blank\" href=https://colab.research.google.com/notebooks/data_table.ipynb>data table notebook</a>'\n",
              "          + ' to learn more about interactive tables.';\n",
              "        element.innerHTML = '';\n",
              "        dataTable['output_type'] = 'display_data';\n",
              "        await google.colab.output.renderOutput(dataTable, element);\n",
              "        const docLink = document.createElement('div');\n",
              "        docLink.innerHTML = docLinkHtml;\n",
              "        element.appendChild(docLink);\n",
              "      }\n",
              "    </script>\n",
              "  </div>\n",
              "\n",
              "\n",
              "<div id=\"df-e9896541-dc41-4f0d-a10d-22db28e79cf5\">\n",
              "  <button class=\"colab-df-quickchart\" onclick=\"quickchart('df-e9896541-dc41-4f0d-a10d-22db28e79cf5')\"\n",
              "            title=\"Suggest charts\"\n",
              "            style=\"display:none;\">\n",
              "\n",
              "<svg xmlns=\"http://www.w3.org/2000/svg\" height=\"24px\"viewBox=\"0 0 24 24\"\n",
              "     width=\"24px\">\n",
              "    <g>\n",
              "        <path d=\"M19 3H5c-1.1 0-2 .9-2 2v14c0 1.1.9 2 2 2h14c1.1 0 2-.9 2-2V5c0-1.1-.9-2-2-2zM9 17H7v-7h2v7zm4 0h-2V7h2v10zm4 0h-2v-4h2v4z\"/>\n",
              "    </g>\n",
              "</svg>\n",
              "  </button>\n",
              "\n",
              "<style>\n",
              "  .colab-df-quickchart {\n",
              "      --bg-color: #E8F0FE;\n",
              "      --fill-color: #1967D2;\n",
              "      --hover-bg-color: #E2EBFA;\n",
              "      --hover-fill-color: #174EA6;\n",
              "      --disabled-fill-color: #AAA;\n",
              "      --disabled-bg-color: #DDD;\n",
              "  }\n",
              "\n",
              "  [theme=dark] .colab-df-quickchart {\n",
              "      --bg-color: #3B4455;\n",
              "      --fill-color: #D2E3FC;\n",
              "      --hover-bg-color: #434B5C;\n",
              "      --hover-fill-color: #FFFFFF;\n",
              "      --disabled-bg-color: #3B4455;\n",
              "      --disabled-fill-color: #666;\n",
              "  }\n",
              "\n",
              "  .colab-df-quickchart {\n",
              "    background-color: var(--bg-color);\n",
              "    border: none;\n",
              "    border-radius: 50%;\n",
              "    cursor: pointer;\n",
              "    display: none;\n",
              "    fill: var(--fill-color);\n",
              "    height: 32px;\n",
              "    padding: 0;\n",
              "    width: 32px;\n",
              "  }\n",
              "\n",
              "  .colab-df-quickchart:hover {\n",
              "    background-color: var(--hover-bg-color);\n",
              "    box-shadow: 0 1px 2px rgba(60, 64, 67, 0.3), 0 1px 3px 1px rgba(60, 64, 67, 0.15);\n",
              "    fill: var(--button-hover-fill-color);\n",
              "  }\n",
              "\n",
              "  .colab-df-quickchart-complete:disabled,\n",
              "  .colab-df-quickchart-complete:disabled:hover {\n",
              "    background-color: var(--disabled-bg-color);\n",
              "    fill: var(--disabled-fill-color);\n",
              "    box-shadow: none;\n",
              "  }\n",
              "\n",
              "  .colab-df-spinner {\n",
              "    border: 2px solid var(--fill-color);\n",
              "    border-color: transparent;\n",
              "    border-bottom-color: var(--fill-color);\n",
              "    animation:\n",
              "      spin 1s steps(1) infinite;\n",
              "  }\n",
              "\n",
              "  @keyframes spin {\n",
              "    0% {\n",
              "      border-color: transparent;\n",
              "      border-bottom-color: var(--fill-color);\n",
              "      border-left-color: var(--fill-color);\n",
              "    }\n",
              "    20% {\n",
              "      border-color: transparent;\n",
              "      border-left-color: var(--fill-color);\n",
              "      border-top-color: var(--fill-color);\n",
              "    }\n",
              "    30% {\n",
              "      border-color: transparent;\n",
              "      border-left-color: var(--fill-color);\n",
              "      border-top-color: var(--fill-color);\n",
              "      border-right-color: var(--fill-color);\n",
              "    }\n",
              "    40% {\n",
              "      border-color: transparent;\n",
              "      border-right-color: var(--fill-color);\n",
              "      border-top-color: var(--fill-color);\n",
              "    }\n",
              "    60% {\n",
              "      border-color: transparent;\n",
              "      border-right-color: var(--fill-color);\n",
              "    }\n",
              "    80% {\n",
              "      border-color: transparent;\n",
              "      border-right-color: var(--fill-color);\n",
              "      border-bottom-color: var(--fill-color);\n",
              "    }\n",
              "    90% {\n",
              "      border-color: transparent;\n",
              "      border-bottom-color: var(--fill-color);\n",
              "    }\n",
              "  }\n",
              "</style>\n",
              "\n",
              "  <script>\n",
              "    async function quickchart(key) {\n",
              "      const quickchartButtonEl =\n",
              "        document.querySelector('#' + key + ' button');\n",
              "      quickchartButtonEl.disabled = true;  // To prevent multiple clicks.\n",
              "      quickchartButtonEl.classList.add('colab-df-spinner');\n",
              "      try {\n",
              "        const charts = await google.colab.kernel.invokeFunction(\n",
              "            'suggestCharts', [key], {});\n",
              "      } catch (error) {\n",
              "        console.error('Error during call to suggestCharts:', error);\n",
              "      }\n",
              "      quickchartButtonEl.classList.remove('colab-df-spinner');\n",
              "      quickchartButtonEl.classList.add('colab-df-quickchart-complete');\n",
              "    }\n",
              "    (() => {\n",
              "      let quickchartButtonEl =\n",
              "        document.querySelector('#df-e9896541-dc41-4f0d-a10d-22db28e79cf5 button');\n",
              "      quickchartButtonEl.style.display =\n",
              "        google.colab.kernel.accessAllowed ? 'block' : 'none';\n",
              "    })();\n",
              "  </script>\n",
              "</div>\n",
              "\n",
              "    </div>\n",
              "  </div>\n"
            ],
            "application/vnd.google.colaboratory.intrinsic+json": {
              "type": "dataframe",
              "variable_name": "combined",
              "summary": "{\n  \"name\": \"combined\",\n  \"rows\": 30000,\n  \"fields\": [\n    {\n      \"column\": \"Uniq Id\",\n      \"properties\": {\n        \"dtype\": \"string\",\n        \"num_unique_values\": 30000,\n        \"samples\": [\n          \"482848565deec8877a08b4d5b6b2709a\",\n          \"1641a7ba70cd9538a7355e0eac39432d\",\n          \"eabdf623def50b8e8f366fbe06b76de5\"\n        ],\n        \"semantic_type\": \"\",\n        \"description\": \"\"\n      }\n    },\n    {\n      \"column\": \"Package Name\",\n      \"properties\": {\n        \"dtype\": \"category\",\n        \"num_unique_values\": 2236,\n        \"samples\": [\n          \"Jaipur - A Cycling Expedition to Nahargarh Fort (Online)\",\n          \"Romantic Weekend in the Hills of Mussoorie\",\n          \"Free Sightseeing - Goan Holiday with Family - 3N\"\n        ],\n        \"semantic_type\": \"\",\n        \"description\": \"\"\n      }\n    },\n    {\n      \"column\": \"Package Type\",\n      \"properties\": {\n        \"dtype\": \"category\",\n        \"num_unique_values\": 5,\n        \"samples\": [\n          \"Premium\",\n          \"Budget\",\n          \"Luxury\"\n        ],\n        \"semantic_type\": \"\",\n        \"description\": \"\"\n      }\n    },\n    {\n      \"column\": \"Destination\",\n      \"properties\": {\n        \"dtype\": \"category\",\n        \"num_unique_values\": 566,\n        \"samples\": [\n          \"Phuket|Krabi town|Pattaya|Bangkok\",\n          \"Manali|Amritsar\",\n          \"Ooty|Wayanad\"\n        ],\n        \"semantic_type\": \"\",\n        \"description\": \"\"\n      }\n    },\n    {\n      \"column\": \"Itinerary\",\n      \"properties\": {\n        \"dtype\": \"category\",\n        \"num_unique_values\": 968,\n        \"samples\": [\n          \"2N Bandipur\",\n          \"6N Colombo\",\n          \"1N Katra . 2N Pahalgam . 1N Srinagar . 1N Gulmarg . 2N Srinagar . 1N Katra\"\n        ],\n        \"semantic_type\": \"\",\n        \"description\": \"\"\n      }\n    },\n    {\n      \"column\": \"Places Covered\",\n      \"properties\": {\n        \"dtype\": \"category\",\n        \"num_unique_values\": 567,\n        \"samples\": [\n          \"Nasik|Shirdi|Aurangabad|Ahmednagar\",\n          \"Bentota|Yala|Nuwara Eliya|Colombo\",\n          \"Ooty|Wayanad\"\n        ],\n        \"semantic_type\": \"\",\n        \"description\": \"\"\n      }\n    },\n    {\n      \"column\": \"Travel Date\",\n      \"properties\": {\n        \"dtype\": \"object\",\n        \"num_unique_values\": 503,\n        \"samples\": [\n          \"29-09-2021\",\n          \"04-07-2021\",\n          \"19-12-2021\"\n        ],\n        \"semantic_type\": \"\",\n        \"description\": \"\"\n      }\n    },\n    {\n      \"column\": \"Hotel Details\",\n      \"properties\": {\n        \"dtype\": \"category\",\n        \"num_unique_values\": 7257,\n        \"samples\": [\n          \"Shri Radha Brij Vasundhara Resort & Spa - Goverdhan:3.7|Lemon Tree Premier Jaipur:4.4\",\n          \"Country Inn And Suites By Radisson, Mysore:4.2|Vythiri Resort:4.3|EVOLVE BACK, KABINI:4.9\",\n          \"Fortune Resort Sullivan Court-Member ITC Hotel Group:Four|Kodai Resort Hotel:Four\"\n        ],\n        \"semantic_type\": \"\",\n        \"description\": \"\"\n      }\n    },\n    {\n      \"column\": \"Start City\",\n      \"properties\": {\n        \"dtype\": \"category\",\n        \"num_unique_values\": 2,\n        \"samples\": [\n          \"New Delhi\",\n          \"Mumbai\"\n        ],\n        \"semantic_type\": \"\",\n        \"description\": \"\"\n      }\n    },\n    {\n      \"column\": \"Airline\",\n      \"properties\": {\n        \"dtype\": \"category\",\n        \"num_unique_values\": 363,\n        \"samples\": [\n          \"Malaysia Airlines|Malaysia Airlines|Malindo Air|IndiGo|IndiGo\",\n          \"Vistara|Go Air\"\n        ],\n        \"semantic_type\": \"\",\n        \"description\": \"\"\n      }\n    },\n    {\n      \"column\": \"Flight Stops\",\n      \"properties\": {\n        \"dtype\": \"number\",\n        \"std\": 0,\n        \"min\": 0,\n        \"max\": 2,\n        \"num_unique_values\": 3,\n        \"samples\": [\n          2,\n          0\n        ],\n        \"semantic_type\": \"\",\n        \"description\": \"\"\n      }\n    },\n    {\n      \"column\": \"Meals\",\n      \"properties\": {\n        \"dtype\": \"number\",\n        \"std\": 0,\n        \"min\": 2,\n        \"max\": 5,\n        \"num_unique_values\": 4,\n        \"samples\": [\n          5,\n          2\n        ],\n        \"semantic_type\": \"\",\n        \"description\": \"\"\n      }\n    },\n    {\n      \"column\": \"Sightseeing Places Covered\",\n      \"properties\": {\n        \"dtype\": \"category\",\n        \"num_unique_values\": 1797,\n        \"samples\": [\n          \" Bylakuppe | Tibetan Temple | Dubare Elephant Camp | Abbey falls | Omkareshwara Temple | Raja\\u00e2\\u20ac\\u2122s Seat | Abbey falls | Nagarhole National Park | Chamundi Hills | Mysore Zoo | St. Philomena Church | Mysore Palace | Brindavan Gardens | Mysore Palace | Mysore Zoo | Lal Bagh Botanical Garden | Vidhana Soudha \",\n          \" Backwaters | Mullakkal Raja Rajeswari Temple | Alappuzha beach | Hawa Beach | Light House Beach | Kovalam beach | Sunset Point | Kumari Amman Temple \"\n        ],\n        \"semantic_type\": \"\",\n        \"description\": \"\"\n      }\n    },\n    {\n      \"column\": \"Cancellation Rules\",\n      \"properties\": {\n        \"dtype\": \"category\",\n        \"num_unique_values\": 10,\n        \"samples\": [\n          \"Packages will be escorted by Local Representative of the Vendor on the day of Full or Half day tours as per itinerary.Vendor Representative are English speaking &\\u00a0 Explain about the Tours in English Language Only. Package has the flexibility to add extra Nights before start of the Tour and at the end of the tour. Please contact MMT representative.Package has the flexibility to add extra Optional tours within the itinerary subject to time availability in each Package. Please contact MMT representative.Price of the Holiday Services are calculated per passenger on twin-sharing basis.The taxes mentioned are taxes as applicable on September 1st, 2017. In the event of increase in the rate of taxation, the differential amount will be payable by the customer. A surcharge may be applicable for certain departures.Service tax charges will apply, as applicable.Cost of deviation and cost of extension of the validity on your ticket is not included.Porter fees at hotels, airports and seaports is not included in the Holiday Services and has to be borne by the customer.Cost of expenses of personal nature such as, laundry, telephone calls, room service, alcoholic beverages, mini bar etc., are not included.Any other items not mentioned in the Inclusions list are not included in the cost of the Holiday Services.Prices are dynamic and based on offers running at the time of booking. MMT reserves the right to change prices at any time.In case the selected hotel is unavailable for booking, an alternate arrangement will be offered to the customer in a hotel of similar category.Due to operational reasons, the routing of this holiday may be amended. However, all mentioned services will remain unchanged.Pricing of the Holiday Services is based on the age of the passengers. Please make sure you enter it correctly at the time of booking. Furnishing wrong passenger age may incur penalty at a later stage.\",\n          \"Cancellation any time after making the 1st payment instalment till the 2nd payment date:The entire amount paid as 1st payment instalment (deposit) would be non-refundable.Cancellation after 2nd payment instalment and before 3rd or final payment date:The total amount that was due at the 2nd payment instalment as per your payment schedule would be non-refundable; anything that you have paid over and above this amount would be refundable.Cancellation after 3rd or final payment date:The full amount paid by you would be non-refundable.\"\n        ],\n        \"semantic_type\": \"\",\n        \"description\": \"\"\n      }\n    },\n    {\n      \"column\": \"Per Person Price\",\n      \"properties\": {\n        \"dtype\": \"number\",\n        \"std\": 11643.641766347971,\n        \"min\": 791.0,\n        \"max\": 171062.5,\n        \"num_unique_values\": 17138,\n        \"samples\": [\n          19688.5,\n          15846.5\n        ],\n        \"semantic_type\": \"\",\n        \"description\": \"\"\n      }\n    }\n  ]\n}"
            }
          },
          "metadata": {},
          "execution_count": 3
        }
      ]
    },
    {
      "cell_type": "code",
      "source": [
        "combined.info()"
      ],
      "metadata": {
        "colab": {
          "base_uri": "https://localhost:8080/"
        },
        "id": "hZ0NMZVHaQ-h",
        "outputId": "b10fa05e-22fd-489c-93e5-e875af573675"
      },
      "execution_count": 6,
      "outputs": [
        {
          "output_type": "stream",
          "name": "stdout",
          "text": [
            "<class 'pandas.core.frame.DataFrame'>\n",
            "RangeIndex: 30000 entries, 0 to 29999\n",
            "Data columns (total 15 columns):\n",
            " #   Column                      Non-Null Count  Dtype         \n",
            "---  ------                      --------------  -----         \n",
            " 0   Uniq Id                     30000 non-null  object        \n",
            " 1   Package Name                30000 non-null  object        \n",
            " 2   Package Type                30000 non-null  object        \n",
            " 3   Destination                 30000 non-null  object        \n",
            " 4   Itinerary                   30000 non-null  object        \n",
            " 5   Places Covered              30000 non-null  object        \n",
            " 6   Travel Date                 30000 non-null  datetime64[ns]\n",
            " 7   Hotel Details               30000 non-null  object        \n",
            " 8   Start City                  30000 non-null  object        \n",
            " 9   Airline                     30000 non-null  object        \n",
            " 10  Flight Stops                30000 non-null  int64         \n",
            " 11  Meals                       30000 non-null  int64         \n",
            " 12  Sightseeing Places Covered  30000 non-null  object        \n",
            " 13  Cancellation Rules          30000 non-null  object        \n",
            " 14  Per Person Price            21000 non-null  float64       \n",
            "dtypes: datetime64[ns](1), float64(1), int64(2), object(11)\n",
            "memory usage: 3.4+ MB\n"
          ]
        }
      ]
    },
    {
      "cell_type": "code",
      "source": [
        "# Convert the travel Date into Datetime\n",
        "import warnings\n",
        "warnings.filterwarnings(\"ignore\")\n",
        "\n",
        "combined[\"Travel Date\"] = pd.to_datetime(combined[\"Travel Date\"])"
      ],
      "metadata": {
        "id": "HDwC0IHUakeS"
      },
      "execution_count": 7,
      "outputs": []
    },
    {
      "cell_type": "code",
      "source": [
        "# Extract the Date, Month and Year\n",
        "\n",
        "combined[\"Date\"] = combined[\"Travel Date\"].dt.day\n",
        "combined[\"Month\"] = combined[\"Travel Date\"].dt.month\n",
        "combined[\"Year\"] = combined[\"Travel Date\"].dt.year"
      ],
      "metadata": {
        "id": "20gsbHEFawS4"
      },
      "execution_count": 9,
      "outputs": []
    },
    {
      "cell_type": "code",
      "source": [
        "# Lets analyse the target variable....\n",
        "\n",
        "sns.displot(x = 'Per Person Price', data = combined, color =\"coral\")\n",
        "plt.show()"
      ],
      "metadata": {
        "colab": {
          "base_uri": "https://localhost:8080/",
          "height": 506
        },
        "id": "nO_LBxhAa-K4",
        "outputId": "473a0cbd-6122-43ad-b388-21293f39a8b5"
      },
      "execution_count": 11,
      "outputs": [
        {
          "output_type": "display_data",
          "data": {
            "text/plain": [
              "<Figure size 500x500 with 1 Axes>"
            ],
            "image/png": "[encoded data removed]"
          },
          "metadata": {}
        }
      ]
    },
    {
      "cell_type": "code",
      "source": [
        "# Lets analyse the target var w.r.t Month\n",
        "sns.set_style(\"whitegrid\")\n",
        "max_month = combined.groupby(\"Month\")[\"Per Person Price\"].max()\n",
        "\n",
        "plt.plot(max_month.index, max_month, color = \"blue\", marker = \".\")\n",
        "plt.xlabel(\"Months\")\n",
        "plt.ylabel(\"Per Person Fare\")\n",
        "plt.show()\n",
        "\n",
        "# peak months = 4, 5, 7, 9, 10"
      ],
      "metadata": {
        "colab": {
          "base_uri": "https://localhost:8080/",
          "height": 449
        },
        "id": "f8VD4x11cAlC",
        "outputId": "1a375537-e3f6-48b8-c6c1-606935e24084"
      },
      "execution_count": 22,
      "outputs": [
        {
          "output_type": "display_data",
          "data": {
            "text/plain": [
              "<Figure size 640x480 with 1 Axes>"
            ],
            "image/png": "[encoded data removed]"
          },
          "metadata": {}
        }
      ]
    },
    {
      "cell_type": "code",
      "source": [
        "# peak months = 4, 5, 7, 9, 10\n",
        "\n",
        "combined[\"Peak_Months\"] = combined.Month.apply(lambda x:\"peak_month\"\n",
        "                                  if x in [4,5,7,9,10] else \"normal_month\")"
      ],
      "metadata": {
        "id": "4YDAPnXLcWrY"
      },
      "execution_count": 24,
      "outputs": []
    },
    {
      "cell_type": "code",
      "source": [
        "sns.boxplot(x = 'Peak_Months', y = \"Per Person Price\", data = combined)\n",
        "plt.show()"
      ],
      "metadata": {
        "colab": {
          "base_uri": "https://localhost:8080/",
          "height": 450
        },
        "id": "snUHhUJqeH0S",
        "outputId": "bffd1618-b734-4aa7-fc4a-df03eac131ed"
      },
      "execution_count": 25,
      "outputs": [
        {
          "output_type": "display_data",
          "data": {
            "text/plain": [
              "<Figure size 640x480 with 1 Axes>"
            ],
            "image/png": "[encoded data removed]"
          },
          "metadata": {}
        }
      ]
    },
    {
      "cell_type": "code",
      "source": [
        "# Lets analyse the target var w.r.t Month\n",
        "sns.set_style(\"whitegrid\")\n",
        "max_month = combined.groupby(\"Date\")[\"Per Person Price\"].max()\n",
        "\n",
        "plt.plot(max_month.index, max_month, color = \"blue\", marker = \".\")\n",
        "plt.xlabel(\"Days\")\n",
        "plt.ylabel(\"Per Person Fare\")\n",
        "plt.show()\n",
        "\n",
        "# Peak Dates: 8,10,11,13,15, 18, 19, 22, 24, 27, 29"
      ],
      "metadata": {
        "colab": {
          "base_uri": "https://localhost:8080/",
          "height": 449
        },
        "id": "i5MMV5Oyefc4",
        "outputId": "4177c214-59af-46e0-8d6a-f0cfa7dd07e3"
      },
      "execution_count": 28,
      "outputs": [
        {
          "output_type": "display_data",
          "data": {
            "text/plain": [
              "<Figure size 640x480 with 1 Axes>"
            ],
            "image/png": "[encoded data removed]"
          },
          "metadata": {}
        }
      ]
    },
    {
      "cell_type": "code",
      "source": [
        "# Peak Dates: 8,10,11,13,15, 18, 19, 22, 24, 27, 29\n",
        "\n",
        "combined[\"Peak_Date\"] = combined.Date.apply(lambda x:\"peak_date\"\n",
        "                    if x in [8,10,11,13,15, 18, 19, 22, 24, 27, 29]\n",
        "                    else \"normal_date\")"
      ],
      "metadata": {
        "id": "Sph2iRSietlQ"
      },
      "execution_count": 30,
      "outputs": []
    },
    {
      "cell_type": "markdown",
      "source": [],
      "metadata": {
        "id": "AkJ7yW43fweP"
      }
    },
    {
      "cell_type": "code",
      "source": [
        "sns.boxplot(x = 'Peak_Date', y = \"Per Person Price\", data = combined, color = \"coral\")\n",
        "plt.show()"
      ],
      "metadata": {
        "colab": {
          "base_uri": "https://localhost:8080/",
          "height": 450
        },
        "id": "8h3o34SJfSjV",
        "outputId": "ab58a0ee-00d6-4307-fb75-c74899e5b0a2"
      },
      "execution_count": 31,
      "outputs": [
        {
          "output_type": "display_data",
          "data": {
            "text/plain": [
              "<Figure size 640x480 with 1 Axes>"
            ],
            "image/png": "[encoded data removed]"
          },
          "metadata": {}
        }
      ]
    },
    {
      "cell_type": "code",
      "source": [
        "combined.head()"
      ],
      "metadata": {
        "colab": {
          "base_uri": "https://localhost:8080/",
          "height": 590
        },
        "id": "Zm5xN1I-faqA",
        "outputId": "64d2e513-cf4a-4a65-a7c0-6a21641ab9bc"
      },
      "execution_count": 96,
      "outputs": [
        {
          "output_type": "execute_result",
          "data": {
            "text/plain": [
              "                            Uniq Id  \\\n",
              "0  e788ab76d9d8cf1e6ed2f139645ca5d1   \n",
              "1  178f892630ce3e335a5a41d5d83937fd   \n",
              "2  f060f2954840503cc2fdaf495357b7df   \n",
              "3  32a19a6c171e67448f2346da46c619dc   \n",
              "4  107b068aa0ca03bc6248966f594d105f   \n",
              "\n",
              "                                   Package Name Package Type  \\\n",
              "0  Best of Shimla and Manali Holiday from Delhi     Standard   \n",
              "1                       Kashmir Valley vacation      Premium   \n",
              "2       Might of Mewar- Udaipur and Chittorgarh       Luxury   \n",
              "3          Colorful Kerala ( Romantic Getaway )      Premium   \n",
              "4                   A Week In Bangkok & Pattaya      Premium   \n",
              "\n",
              "                                   Destination  \\\n",
              "0           New Delhi|Shimla|Manali|Chandigarh   \n",
              "1                   Srinagar|Pahalgam|Srinagar   \n",
              "2                          Udaipur|Chittorgarh   \n",
              "3  Munnar|Kumarakom|Allepey|Kovalam and Poovar   \n",
              "4                              Pattaya|Bangkok   \n",
              "\n",
              "                                           Itinerary  \\\n",
              "0  1N New Delhi . 2N Shimla . 2N Manali . 1N Chan...   \n",
              "1            1N Srinagar . 2N Pahalgam . 1N Srinagar   \n",
              "2                        2N Udaipur . 1N Chittorgarh   \n",
              "3  2N Munnar . 1N Kumarakom . 1N Allepey . 2N Kov...   \n",
              "4                            4N Pattaya . 3N Bangkok   \n",
              "\n",
              "                                Places Covered Travel Date  \\\n",
              "0           New Delhi|Shimla|Manali|Chandigarh  2021-07-30   \n",
              "1                   Srinagar|Pahalgam|Srinagar  2021-12-08   \n",
              "2                          Udaipur|Chittorgarh  2021-04-26   \n",
              "3  Munnar|Kumarakom|Allepey|Kovalam and Poovar  2021-08-27   \n",
              "4                              Pattaya|Bangkok  2021-12-12   \n",
              "\n",
              "                                       Hotel Details Start City  \\\n",
              "0                                      Not Available     Mumbai   \n",
              "1  The Orchard Retreat & Spa:4.6|WelcomHotel Pine...  New Delhi   \n",
              "2       The Ananta:4.4|juSTa Lake Nahargarh Palace:4  New Delhi   \n",
              "3  Elixir Hills Suites Resort & Spa-MMT Holidays ...  New Delhi   \n",
              "4  Dusit Thani Pattaya - MMT Special:4.5|Amari Wa...  New Delhi   \n",
              "\n",
              "           Airline  Flight Stops  Meals  \\\n",
              "0    Not Available             2      3   \n",
              "1    IndiGo|IndiGo             0      5   \n",
              "2           IndiGo             0      4   \n",
              "3           IndiGo             0      5   \n",
              "4  Spicejet|Go Air             0      5   \n",
              "\n",
              "                          Sightseeing Places Covered  \\\n",
              "0                                      Not Available   \n",
              "1  Dal Lake | Avantipura Ruins | Mughal Gardens |...   \n",
              "2  Lake Pichola | Jag Mandir Palace | Saheliyon k...   \n",
              "3  Mattupetty Dam | Echo Point | Tata Tea Museum ...   \n",
              "4  Coral Island Tour with Indian Lunch, Join Spee...   \n",
              "\n",
              "                                  Cancellation Rules  Per Person Price  Date  \\\n",
              "0                                      Not Available           11509.0    30   \n",
              "1  Cancellation any time after making the 1st pay...           22485.5     8   \n",
              "2  Cancellation any time after making the 1st pay...           12421.5    26   \n",
              "3  Cancellation any time after making the 1st pay...           35967.0    27   \n",
              "4  Cancellation any time after making the 1st pay...           25584.0    12   \n",
              "\n",
              "   Month  Year   Peak_Months    Peak_Date  Location_Count  Airline_Count  \\\n",
              "0      7  2021    peak_month  normal_date               4              1   \n",
              "1     12  2021  normal_month    peak_date               3              2   \n",
              "2      4  2021    peak_month  normal_date               2              1   \n",
              "3      8  2021  normal_month    peak_date               4              1   \n",
              "4     12  2021  normal_month  normal_date               2              2   \n",
              "\n",
              "   Count_SightSeeing  \n",
              "0                  1  \n",
              "1                  7  \n",
              "2                  8  \n",
              "3                  9  \n",
              "4                  2  "
            ],
            "text/html": [
              "\n",
              "  <div id=\"df-0f1269c0-a9be-468d-bf7e-245e705a4632\" class=\"colab-df-container\">\n",
              "    <div>\n",
              "<style scoped>\n",
              "    .dataframe tbody tr th:only-of-type {\n",
              "        vertical-align: middle;\n",
              "    }\n",
              "\n",
              "    .dataframe tbody tr th {\n",
              "        vertical-align: top;\n",
              "    }\n",
              "\n",
              "    .dataframe thead th {\n",
              "        text-align: right;\n",
              "    }\n",
              "</style>\n",
              "<table border=\"1\" class=\"dataframe\">\n",
              "  <thead>\n",
              "    <tr style=\"text-align: right;\">\n",
              "      <th></th>\n",
              "      <th>Uniq Id</th>\n",
              "      <th>Package Name</th>\n",
              "      <th>Package Type</th>\n",
              "      <th>Destination</th>\n",
              "      <th>Itinerary</th>\n",
              "      <th>Places Covered</th>\n",
              "      <th>Travel Date</th>\n",
              "      <th>Hotel Details</th>\n",
              "      <th>Start City</th>\n",
              "      <th>Airline</th>\n",
              "      <th>Flight Stops</th>\n",
              "      <th>Meals</th>\n",
              "      <th>Sightseeing Places Covered</th>\n",
              "      <th>Cancellation Rules</th>\n",
              "      <th>Per Person Price</th>\n",
              "      <th>Date</th>\n",
              "      <th>Month</th>\n",
              "      <th>Year</th>\n",
              "      <th>Peak_Months</th>\n",
              "      <th>Peak_Date</th>\n",
              "      <th>Location_Count</th>\n",
              "      <th>Airline_Count</th>\n",
              "      <th>Count_SightSeeing</th>\n",
              "    </tr>\n",
              "  </thead>\n",
              "  <tbody>\n",
              "    <tr>\n",
              "      <th>0</th>\n",
              "      <td>e788ab76d9d8cf1e6ed2f139645ca5d1</td>\n",
              "      <td>Best of Shimla and Manali Holiday from Delhi</td>\n",
              "      <td>Standard</td>\n",
              "      <td>New Delhi|Shimla|Manali|Chandigarh</td>\n",
              "      <td>1N New Delhi . 2N Shimla . 2N Manali . 1N Chan...</td>\n",
              "      <td>New Delhi|Shimla|Manali|Chandigarh</td>\n",
              "      <td>2021-07-30</td>\n",
              "      <td>Not Available</td>\n",
              "      <td>Mumbai</td>\n",
              "      <td>Not Available</td>\n",
              "      <td>2</td>\n",
              "      <td>3</td>\n",
              "      <td>Not Available</td>\n",
              "      <td>Not Available</td>\n",
              "      <td>11509.0</td>\n",
              "      <td>30</td>\n",
              "      <td>7</td>\n",
              "      <td>2021</td>\n",
              "      <td>peak_month</td>\n",
              "      <td>normal_date</td>\n",
              "      <td>4</td>\n",
              "      <td>1</td>\n",
              "      <td>1</td>\n",
              "    </tr>\n",
              "    <tr>\n",
              "      <th>1</th>\n",
              "      <td>178f892630ce3e335a5a41d5d83937fd</td>\n",
              "      <td>Kashmir Valley vacation</td>\n",
              "      <td>Premium</td>\n",
              "      <td>Srinagar|Pahalgam|Srinagar</td>\n",
              "      <td>1N Srinagar . 2N Pahalgam . 1N Srinagar</td>\n",
              "      <td>Srinagar|Pahalgam|Srinagar</td>\n",
              "      <td>2021-12-08</td>\n",
              "      <td>The Orchard Retreat &amp; Spa:4.6|WelcomHotel Pine...</td>\n",
              "      <td>New Delhi</td>\n",
              "      <td>IndiGo|IndiGo</td>\n",
              "      <td>0</td>\n",
              "      <td>5</td>\n",
              "      <td>Dal Lake | Avantipura Ruins | Mughal Gardens |...</td>\n",
              "      <td>Cancellation any time after making the 1st pay...</td>\n",
              "      <td>22485.5</td>\n",
              "      <td>8</td>\n",
              "      <td>12</td>\n",
              "      <td>2021</td>\n",
              "      <td>normal_month</td>\n",
              "      <td>peak_date</td>\n",
              "      <td>3</td>\n",
              "      <td>2</td>\n",
              "      <td>7</td>\n",
              "    </tr>\n",
              "    <tr>\n",
              "      <th>2</th>\n",
              "      <td>f060f2954840503cc2fdaf495357b7df</td>\n",
              "      <td>Might of Mewar- Udaipur and Chittorgarh</td>\n",
              "      <td>Luxury</td>\n",
              "      <td>Udaipur|Chittorgarh</td>\n",
              "      <td>2N Udaipur . 1N Chittorgarh</td>\n",
              "      <td>Udaipur|Chittorgarh</td>\n",
              "      <td>2021-04-26</td>\n",
              "      <td>The Ananta:4.4|juSTa Lake Nahargarh Palace:4</td>\n",
              "      <td>New Delhi</td>\n",
              "      <td>IndiGo</td>\n",
              "      <td>0</td>\n",
              "      <td>4</td>\n",
              "      <td>Lake Pichola | Jag Mandir Palace | Saheliyon k...</td>\n",
              "      <td>Cancellation any time after making the 1st pay...</td>\n",
              "      <td>12421.5</td>\n",
              "      <td>26</td>\n",
              "      <td>4</td>\n",
              "      <td>2021</td>\n",
              "      <td>peak_month</td>\n",
              "      <td>normal_date</td>\n",
              "      <td>2</td>\n",
              "      <td>1</td>\n",
              "      <td>8</td>\n",
              "    </tr>\n",
              "    <tr>\n",
              "      <th>3</th>\n",
              "      <td>32a19a6c171e67448f2346da46c619dc</td>\n",
              "      <td>Colorful Kerala ( Romantic Getaway )</td>\n",
              "      <td>Premium</td>\n",
              "      <td>Munnar|Kumarakom|Allepey|Kovalam and Poovar</td>\n",
              "      <td>2N Munnar . 1N Kumarakom . 1N Allepey . 2N Kov...</td>\n",
              "      <td>Munnar|Kumarakom|Allepey|Kovalam and Poovar</td>\n",
              "      <td>2021-08-27</td>\n",
              "      <td>Elixir Hills Suites Resort &amp; Spa-MMT Holidays ...</td>\n",
              "      <td>New Delhi</td>\n",
              "      <td>IndiGo</td>\n",
              "      <td>0</td>\n",
              "      <td>5</td>\n",
              "      <td>Mattupetty Dam | Echo Point | Tata Tea Museum ...</td>\n",
              "      <td>Cancellation any time after making the 1st pay...</td>\n",
              "      <td>35967.0</td>\n",
              "      <td>27</td>\n",
              "      <td>8</td>\n",
              "      <td>2021</td>\n",
              "      <td>normal_month</td>\n",
              "      <td>peak_date</td>\n",
              "      <td>4</td>\n",
              "      <td>1</td>\n",
              "      <td>9</td>\n",
              "    </tr>\n",
              "    <tr>\n",
              "      <th>4</th>\n",
              "      <td>107b068aa0ca03bc6248966f594d105f</td>\n",
              "      <td>A Week In Bangkok &amp; Pattaya</td>\n",
              "      <td>Premium</td>\n",
              "      <td>Pattaya|Bangkok</td>\n",
              "      <td>4N Pattaya . 3N Bangkok</td>\n",
              "      <td>Pattaya|Bangkok</td>\n",
              "      <td>2021-12-12</td>\n",
              "      <td>Dusit Thani Pattaya - MMT Special:4.5|Amari Wa...</td>\n",
              "      <td>New Delhi</td>\n",
              "      <td>Spicejet|Go Air</td>\n",
              "      <td>0</td>\n",
              "      <td>5</td>\n",
              "      <td>Coral Island Tour with Indian Lunch, Join Spee...</td>\n",
              "      <td>Cancellation any time after making the 1st pay...</td>\n",
              "      <td>25584.0</td>\n",
              "      <td>12</td>\n",
              "      <td>12</td>\n",
              "      <td>2021</td>\n",
              "      <td>normal_month</td>\n",
              "      <td>normal_date</td>\n",
              "      <td>2</td>\n",
              "      <td>2</td>\n",
              "      <td>2</td>\n",
              "    </tr>\n",
              "  </tbody>\n",
              "</table>\n",
              "</div>\n",
              "    <div class=\"colab-df-buttons\">\n",
              "\n",
              "  <div class=\"colab-df-container\">\n",
              "    <button class=\"colab-df-convert\" onclick=\"convertToInteractive('df-0f1269c0-a9be-468d-bf7e-245e705a4632')\"\n",
              "            title=\"Convert this dataframe to an interactive table.\"\n",
              "            style=\"display:none;\">\n",
              "\n",
              "  <svg xmlns=\"http://www.w3.org/2000/svg\" height=\"24px\" viewBox=\"0 -960 960 960\">\n",
              "    <path d=\"M120-120v-720h720v720H120Zm60-500h600v-160H180v160Zm220 220h160v-160H400v160Zm0 220h160v-160H400v160ZM180-400h160v-160H180v160Zm440 0h160v-160H620v160ZM180-180h160v-160H180v160Zm440 0h160v-160H620v160Z\"/>\n",
              "  </svg>\n",
              "    </button>\n",
              "\n",
              "  <style>\n",
              "    .colab-df-container {\n",
              "      display:flex;\n",
              "      gap: 12px;\n",
              "    }\n",
              "\n",
              "    .colab-df-convert {\n",
              "      background-color: #E8F0FE;\n",
              "      border: none;\n",
              "      border-radius: 50%;\n",
              "      cursor: pointer;\n",
              "      display: none;\n",
              "      fill: #1967D2;\n",
              "      height: 32px;\n",
              "      padding: 0 0 0 0;\n",
              "      width: 32px;\n",
              "    }\n",
              "\n",
              "    .colab-df-convert:hover {\n",
              "      background-color: #E2EBFA;\n",
              "      box-shadow: 0px 1px 2px rgba(60, 64, 67, 0.3), 0px 1px 3px 1px rgba(60, 64, 67, 0.15);\n",
              "      fill: #174EA6;\n",
              "    }\n",
              "\n",
              "    .colab-df-buttons div {\n",
              "      margin-bottom: 4px;\n",
              "    }\n",
              "\n",
              "    [theme=dark] .colab-df-convert {\n",
              "      background-color: #3B4455;\n",
              "      fill: #D2E3FC;\n",
              "    }\n",
              "\n",
              "    [theme=dark] .colab-df-convert:hover {\n",
              "      background-color: #434B5C;\n",
              "      box-shadow: 0px 1px 3px 1px rgba(0, 0, 0, 0.15);\n",
              "      filter: drop-shadow(0px 1px 2px rgba(0, 0, 0, 0.3));\n",
              "      fill: #FFFFFF;\n",
              "    }\n",
              "  </style>\n",
              "\n",
              "    <script>\n",
              "      const buttonEl =\n",
              "        document.querySelector('#df-0f1269c0-a9be-468d-bf7e-245e705a4632 button.colab-df-convert');\n",
              "      buttonEl.style.display =\n",
              "        google.colab.kernel.accessAllowed ? 'block' : 'none';\n",
              "\n",
              "      async function convertToInteractive(key) {\n",
              "        const element = document.querySelector('#df-0f1269c0-a9be-468d-bf7e-245e705a4632');\n",
              "        const dataTable =\n",
              "          await google.colab.kernel.invokeFunction('convertToInteractive',\n",
              "                                                    [key], {});\n",
              "        if (!dataTable) return;\n",
              "\n",
              "        const docLinkHtml = 'Like what you see? Visit the ' +\n",
              "          '<a target=\"_blank\" href=https://colab.research.google.com/notebooks/data_table.ipynb>data table notebook</a>'\n",
              "          + ' to learn more about interactive tables.';\n",
              "        element.innerHTML = '';\n",
              "        dataTable['output_type'] = 'display_data';\n",
              "        await google.colab.output.renderOutput(dataTable, element);\n",
              "        const docLink = document.createElement('div');\n",
              "        docLink.innerHTML = docLinkHtml;\n",
              "        element.appendChild(docLink);\n",
              "      }\n",
              "    </script>\n",
              "  </div>\n",
              "\n",
              "\n",
              "<div id=\"df-1b4f5728-3892-445b-a470-3097d250c4f9\">\n",
              "  <button class=\"colab-df-quickchart\" onclick=\"quickchart('df-1b4f5728-3892-445b-a470-3097d250c4f9')\"\n",
              "            title=\"Suggest charts\"\n",
              "            style=\"display:none;\">\n",
              "\n",
              "<svg xmlns=\"http://www.w3.org/2000/svg\" height=\"24px\"viewBox=\"0 0 24 24\"\n",
              "     width=\"24px\">\n",
              "    <g>\n",
              "        <path d=\"M19 3H5c-1.1 0-2 .9-2 2v14c0 1.1.9 2 2 2h14c1.1 0 2-.9 2-2V5c0-1.1-.9-2-2-2zM9 17H7v-7h2v7zm4 0h-2V7h2v10zm4 0h-2v-4h2v4z\"/>\n",
              "    </g>\n",
              "</svg>\n",
              "  </button>\n",
              "\n",
              "<style>\n",
              "  .colab-df-quickchart {\n",
              "      --bg-color: #E8F0FE;\n",
              "      --fill-color: #1967D2;\n",
              "      --hover-bg-color: #E2EBFA;\n",
              "      --hover-fill-color: #174EA6;\n",
              "      --disabled-fill-color: #AAA;\n",
              "      --disabled-bg-color: #DDD;\n",
              "  }\n",
              "\n",
              "  [theme=dark] .colab-df-quickchart {\n",
              "      --bg-color: #3B4455;\n",
              "      --fill-color: #D2E3FC;\n",
              "      --hover-bg-color: #434B5C;\n",
              "      --hover-fill-color: #FFFFFF;\n",
              "      --disabled-bg-color: #3B4455;\n",
              "      --disabled-fill-color: #666;\n",
              "  }\n",
              "\n",
              "  .colab-df-quickchart {\n",
              "    background-color: var(--bg-color);\n",
              "    border: none;\n",
              "    border-radius: 50%;\n",
              "    cursor: pointer;\n",
              "    display: none;\n",
              "    fill: var(--fill-color);\n",
              "    height: 32px;\n",
              "    padding: 0;\n",
              "    width: 32px;\n",
              "  }\n",
              "\n",
              "  .colab-df-quickchart:hover {\n",
              "    background-color: var(--hover-bg-color);\n",
              "    box-shadow: 0 1px 2px rgba(60, 64, 67, 0.3), 0 1px 3px 1px rgba(60, 64, 67, 0.15);\n",
              "    fill: var(--button-hover-fill-color);\n",
              "  }\n",
              "\n",
              "  .colab-df-quickchart-complete:disabled,\n",
              "  .colab-df-quickchart-complete:disabled:hover {\n",
              "    background-color: var(--disabled-bg-color);\n",
              "    fill: var(--disabled-fill-color);\n",
              "    box-shadow: none;\n",
              "  }\n",
              "\n",
              "  .colab-df-spinner {\n",
              "    border: 2px solid var(--fill-color);\n",
              "    border-color: transparent;\n",
              "    border-bottom-color: var(--fill-color);\n",
              "    animation:\n",
              "      spin 1s steps(1) infinite;\n",
              "  }\n",
              "\n",
              "  @keyframes spin {\n",
              "    0% {\n",
              "      border-color: transparent;\n",
              "      border-bottom-color: var(--fill-color);\n",
              "      border-left-color: var(--fill-color);\n",
              "    }\n",
              "    20% {\n",
              "      border-color: transparent;\n",
              "      border-left-color: var(--fill-color);\n",
              "      border-top-color: var(--fill-color);\n",
              "    }\n",
              "    30% {\n",
              "      border-color: transparent;\n",
              "      border-left-color: var(--fill-color);\n",
              "      border-top-color: var(--fill-color);\n",
              "      border-right-color: var(--fill-color);\n",
              "    }\n",
              "    40% {\n",
              "      border-color: transparent;\n",
              "      border-right-color: var(--fill-color);\n",
              "      border-top-color: var(--fill-color);\n",
              "    }\n",
              "    60% {\n",
              "      border-color: transparent;\n",
              "      border-right-color: var(--fill-color);\n",
              "    }\n",
              "    80% {\n",
              "      border-color: transparent;\n",
              "      border-right-color: var(--fill-color);\n",
              "      border-bottom-color: var(--fill-color);\n",
              "    }\n",
              "    90% {\n",
              "      border-color: transparent;\n",
              "      border-bottom-color: var(--fill-color);\n",
              "    }\n",
              "  }\n",
              "</style>\n",
              "\n",
              "  <script>\n",
              "    async function quickchart(key) {\n",
              "      const quickchartButtonEl =\n",
              "        document.querySelector('#' + key + ' button');\n",
              "      quickchartButtonEl.disabled = true;  // To prevent multiple clicks.\n",
              "      quickchartButtonEl.classList.add('colab-df-spinner');\n",
              "      try {\n",
              "        const charts = await google.colab.kernel.invokeFunction(\n",
              "            'suggestCharts', [key], {});\n",
              "      } catch (error) {\n",
              "        console.error('Error during call to suggestCharts:', error);\n",
              "      }\n",
              "      quickchartButtonEl.classList.remove('colab-df-spinner');\n",
              "      quickchartButtonEl.classList.add('colab-df-quickchart-complete');\n",
              "    }\n",
              "    (() => {\n",
              "      let quickchartButtonEl =\n",
              "        document.querySelector('#df-1b4f5728-3892-445b-a470-3097d250c4f9 button');\n",
              "      quickchartButtonEl.style.display =\n",
              "        google.colab.kernel.accessAllowed ? 'block' : 'none';\n",
              "    })();\n",
              "  </script>\n",
              "</div>\n",
              "\n",
              "    </div>\n",
              "  </div>\n"
            ],
            "application/vnd.google.colaboratory.intrinsic+json": {
              "type": "dataframe",
              "variable_name": "combined"
            }
          },
          "metadata": {},
          "execution_count": 96
        }
      ]
    },
    {
      "cell_type": "code",
      "source": [
        "combined[\"Location_Count\"] = combined[\"Destination\"].apply(lambda x:len(x.split(\"|\")))"
      ],
      "metadata": {
        "id": "IiJEzcb0myDH"
      },
      "execution_count": 41,
      "outputs": []
    },
    {
      "cell_type": "code",
      "source": [
        "combined[\"Airline_Count\"] = combined[\"Airline\"].apply(lambda x:len(x.split(\"|\")))"
      ],
      "metadata": {
        "id": "F77V_QMRnBD_"
      },
      "execution_count": 43,
      "outputs": []
    },
    {
      "cell_type": "code",
      "source": [
        "combined[\"Sightseeing Places Covered\"].unique()[50]"
      ],
      "metadata": {
        "colab": {
          "base_uri": "https://localhost:8080/",
          "height": 35
        },
        "id": "oUL1lhpyoFHf",
        "outputId": "503e07bf-74d8-42e4-dffe-f7ef9cf8b319"
      },
      "execution_count": 50,
      "outputs": [
        {
          "output_type": "execute_result",
          "data": {
            "text/plain": [
              "' Changu Lake - Excursion | Baba Mandir | Yumthang Valley '"
            ],
            "application/vnd.google.colaboratory.intrinsic+json": {
              "type": "string"
            }
          },
          "metadata": {},
          "execution_count": 50
        }
      ]
    },
    {
      "cell_type": "code",
      "source": [
        "import re\n",
        "def clean_text(text):\n",
        "  # remove the hyperlinks, characters\n",
        "  text = re.sub('(www.+)|(https:.?)|(http:.?)|(@[a-zA-Z]+)|(\\W+)|(\\s+)', \" \", text)\n",
        "  text = re.sub('[^a-zA-Z0-9]', \" \", text)\n",
        "  text = re.sub('\\w+:/\\S+', \" \", text) # Select the Weblink and remove it\n",
        "  text = re.sub('\\d+', \" \", text) # Remove Digits\n",
        "  text = re.sub('\\s+', \" \", text).strip() # Remove Extra WhiteLine Space...\n",
        "  return(text)"
      ],
      "metadata": {
        "id": "CugiOM7YoPRH"
      },
      "execution_count": 53,
      "outputs": []
    },
    {
      "cell_type": "code",
      "source": [
        "# Function for sightseeing...\n",
        "def regex_sight(text):\n",
        "  text = re.sub('\\[^a-zA-Z0-9|]+', \" \", text)\n",
        "  text = re.sub('\\s+', \" \", text).strip()\n",
        "  return(text)"
      ],
      "metadata": {
        "id": "qyLoSQkdobhG"
      },
      "execution_count": 80,
      "outputs": []
    },
    {
      "cell_type": "code",
      "source": [
        "#len(combined[\"Sightseeing Places Covered\"].apply(regex_sight)[49].split(\"|\"))\n",
        "\n",
        "combined[\"Sightseeing Places Covered\"] = combined[\"Sightseeing Places Covered\"].\\\n",
        "apply(regex_sight)\n",
        "\n",
        "combined[\"Count_SightSeeing\"] = combined[\"Sightseeing Places Covered\"].\\\n",
        "apply(lambda x:len(x.split(\"|\")))"
      ],
      "metadata": {
        "id": "-10yfWYKpYP-"
      },
      "execution_count": 85,
      "outputs": []
    },
    {
      "cell_type": "code",
      "source": [
        "combined.head(1)"
      ],
      "metadata": {
        "colab": {
          "base_uri": "https://localhost:8080/",
          "height": 239
        },
        "id": "HlgEEIoKpe4O",
        "outputId": "11e14e0f-9cdd-4fc7-ef2c-2659db3b927d"
      },
      "execution_count": 98,
      "outputs": [
        {
          "output_type": "execute_result",
          "data": {
            "text/plain": [
              "                            Uniq Id  \\\n",
              "0  e788ab76d9d8cf1e6ed2f139645ca5d1   \n",
              "\n",
              "                                   Package Name Package Type  \\\n",
              "0  Best of Shimla and Manali Holiday from Delhi     Standard   \n",
              "\n",
              "                          Destination  \\\n",
              "0  New Delhi|Shimla|Manali|Chandigarh   \n",
              "\n",
              "                                           Itinerary  \\\n",
              "0  1N New Delhi . 2N Shimla . 2N Manali . 1N Chan...   \n",
              "\n",
              "                       Places Covered Travel Date  Hotel Details Start City  \\\n",
              "0  New Delhi|Shimla|Manali|Chandigarh  2021-07-30  Not Available     Mumbai   \n",
              "\n",
              "         Airline  Flight Stops  Meals Sightseeing Places Covered  \\\n",
              "0  Not Available             2      3              Not Available   \n",
              "\n",
              "  Cancellation Rules  Per Person Price  Date  Month  Year Peak_Months  \\\n",
              "0      Not Available           11509.0    30      7  2021  peak_month   \n",
              "\n",
              "     Peak_Date  Location_Count  Airline_Count  Count_SightSeeing  \n",
              "0  normal_date               4              1                  1  "
            ],
            "text/html": [
              "\n",
              "  <div id=\"df-07458f93-8e7a-4eb7-b42a-4c030f157f3d\" class=\"colab-df-container\">\n",
              "    <div>\n",
              "<style scoped>\n",
              "    .dataframe tbody tr th:only-of-type {\n",
              "        vertical-align: middle;\n",
              "    }\n",
              "\n",
              "    .dataframe tbody tr th {\n",
              "        vertical-align: top;\n",
              "    }\n",
              "\n",
              "    .dataframe thead th {\n",
              "        text-align: right;\n",
              "    }\n",
              "</style>\n",
              "<table border=\"1\" class=\"dataframe\">\n",
              "  <thead>\n",
              "    <tr style=\"text-align: right;\">\n",
              "      <th></th>\n",
              "      <th>Uniq Id</th>\n",
              "      <th>Package Name</th>\n",
              "      <th>Package Type</th>\n",
              "      <th>Destination</th>\n",
              "      <th>Itinerary</th>\n",
              "      <th>Places Covered</th>\n",
              "      <th>Travel Date</th>\n",
              "      <th>Hotel Details</th>\n",
              "      <th>Start City</th>\n",
              "      <th>Airline</th>\n",
              "      <th>Flight Stops</th>\n",
              "      <th>Meals</th>\n",
              "      <th>Sightseeing Places Covered</th>\n",
              "      <th>Cancellation Rules</th>\n",
              "      <th>Per Person Price</th>\n",
              "      <th>Date</th>\n",
              "      <th>Month</th>\n",
              "      <th>Year</th>\n",
              "      <th>Peak_Months</th>\n",
              "      <th>Peak_Date</th>\n",
              "      <th>Location_Count</th>\n",
              "      <th>Airline_Count</th>\n",
              "      <th>Count_SightSeeing</th>\n",
              "    </tr>\n",
              "  </thead>\n",
              "  <tbody>\n",
              "    <tr>\n",
              "      <th>0</th>\n",
              "      <td>e788ab76d9d8cf1e6ed2f139645ca5d1</td>\n",
              "      <td>Best of Shimla and Manali Holiday from Delhi</td>\n",
              "      <td>Standard</td>\n",
              "      <td>New Delhi|Shimla|Manali|Chandigarh</td>\n",
              "      <td>1N New Delhi . 2N Shimla . 2N Manali . 1N Chan...</td>\n",
              "      <td>New Delhi|Shimla|Manali|Chandigarh</td>\n",
              "      <td>2021-07-30</td>\n",
              "      <td>Not Available</td>\n",
              "      <td>Mumbai</td>\n",
              "      <td>Not Available</td>\n",
              "      <td>2</td>\n",
              "      <td>3</td>\n",
              "      <td>Not Available</td>\n",
              "      <td>Not Available</td>\n",
              "      <td>11509.0</td>\n",
              "      <td>30</td>\n",
              "      <td>7</td>\n",
              "      <td>2021</td>\n",
              "      <td>peak_month</td>\n",
              "      <td>normal_date</td>\n",
              "      <td>4</td>\n",
              "      <td>1</td>\n",
              "      <td>1</td>\n",
              "    </tr>\n",
              "  </tbody>\n",
              "</table>\n",
              "</div>\n",
              "    <div class=\"colab-df-buttons\">\n",
              "\n",
              "  <div class=\"colab-df-container\">\n",
              "    <button class=\"colab-df-convert\" onclick=\"convertToInteractive('df-07458f93-8e7a-4eb7-b42a-4c030f157f3d')\"\n",
              "            title=\"Convert this dataframe to an interactive table.\"\n",
              "            style=\"display:none;\">\n",
              "\n",
              "  <svg xmlns=\"http://www.w3.org/2000/svg\" height=\"24px\" viewBox=\"0 -960 960 960\">\n",
              "    <path d=\"M120-120v-720h720v720H120Zm60-500h600v-160H180v160Zm220 220h160v-160H400v160Zm0 220h160v-160H400v160ZM180-400h160v-160H180v160Zm440 0h160v-160H620v160ZM180-180h160v-160H180v160Zm440 0h160v-160H620v160Z\"/>\n",
              "  </svg>\n",
              "    </button>\n",
              "\n",
              "  <style>\n",
              "    .colab-df-container {\n",
              "      display:flex;\n",
              "      gap: 12px;\n",
              "    }\n",
              "\n",
              "    .colab-df-convert {\n",
              "      background-color: #E8F0FE;\n",
              "      border: none;\n",
              "      border-radius: 50%;\n",
              "      cursor: pointer;\n",
              "      display: none;\n",
              "      fill: #1967D2;\n",
              "      height: 32px;\n",
              "      padding: 0 0 0 0;\n",
              "      width: 32px;\n",
              "    }\n",
              "\n",
              "    .colab-df-convert:hover {\n",
              "      background-color: #E2EBFA;\n",
              "      box-shadow: 0px 1px 2px rgba(60, 64, 67, 0.3), 0px 1px 3px 1px rgba(60, 64, 67, 0.15);\n",
              "      fill: #174EA6;\n",
              "    }\n",
              "\n",
              "    .colab-df-buttons div {\n",
              "      margin-bottom: 4px;\n",
              "    }\n",
              "\n",
              "    [theme=dark] .colab-df-convert {\n",
              "      background-color: #3B4455;\n",
              "      fill: #D2E3FC;\n",
              "    }\n",
              "\n",
              "    [theme=dark] .colab-df-convert:hover {\n",
              "      background-color: #434B5C;\n",
              "      box-shadow: 0px 1px 3px 1px rgba(0, 0, 0, 0.15);\n",
              "      filter: drop-shadow(0px 1px 2px rgba(0, 0, 0, 0.3));\n",
              "      fill: #FFFFFF;\n",
              "    }\n",
              "  </style>\n",
              "\n",
              "    <script>\n",
              "      const buttonEl =\n",
              "        document.querySelector('#df-07458f93-8e7a-4eb7-b42a-4c030f157f3d button.colab-df-convert');\n",
              "      buttonEl.style.display =\n",
              "        google.colab.kernel.accessAllowed ? 'block' : 'none';\n",
              "\n",
              "      async function convertToInteractive(key) {\n",
              "        const element = document.querySelector('#df-07458f93-8e7a-4eb7-b42a-4c030f157f3d');\n",
              "        const dataTable =\n",
              "          await google.colab.kernel.invokeFunction('convertToInteractive',\n",
              "                                                    [key], {});\n",
              "        if (!dataTable) return;\n",
              "\n",
              "        const docLinkHtml = 'Like what you see? Visit the ' +\n",
              "          '<a target=\"_blank\" href=https://colab.research.google.com/notebooks/data_table.ipynb>data table notebook</a>'\n",
              "          + ' to learn more about interactive tables.';\n",
              "        element.innerHTML = '';\n",
              "        dataTable['output_type'] = 'display_data';\n",
              "        await google.colab.output.renderOutput(dataTable, element);\n",
              "        const docLink = document.createElement('div');\n",
              "        docLink.innerHTML = docLinkHtml;\n",
              "        element.appendChild(docLink);\n",
              "      }\n",
              "    </script>\n",
              "  </div>\n",
              "\n",
              "\n",
              "    </div>\n",
              "  </div>\n"
            ],
            "application/vnd.google.colaboratory.intrinsic+json": {
              "type": "dataframe",
              "variable_name": "combined"
            }
          },
          "metadata": {},
          "execution_count": 98
        }
      ]
    },
    {
      "cell_type": "code",
      "source": [
        "combined.Itinerary.unique()[0]"
      ],
      "metadata": {
        "colab": {
          "base_uri": "https://localhost:8080/",
          "height": 35
        },
        "id": "KoBp0fkfrUGt",
        "outputId": "5d97cf41-cde5-45cb-ee07-90d6db41bd81"
      },
      "execution_count": 100,
      "outputs": [
        {
          "output_type": "execute_result",
          "data": {
            "text/plain": [
              "'1N New Delhi . 2N Shimla . 2N Manali . 1N Chandigarh'"
            ],
            "application/vnd.google.colaboratory.intrinsic+json": {
              "type": "string"
            }
          },
          "metadata": {},
          "execution_count": 100
        }
      ]
    },
    {
      "cell_type": "code",
      "source": [
        "#np.sum(pd.to_numeric(re.findall(\"\\d+\", combined.Itinerary.unique()[0])))\n",
        "\n",
        "def duration(text):\n",
        "  text = re.findall(\"\\d+\", text)\n",
        "  count = np.sum(pd.to_numeric(text))\n",
        "  return(count)\n",
        "\n",
        "\n",
        "combined[\"Holidays\"] = combined.Itinerary.apply(duration)"
      ],
      "metadata": {
        "id": "Z9K4EZcqsRfN"
      },
      "execution_count": 109,
      "outputs": []
    },
    {
      "cell_type": "code",
      "source": [
        "combined[\"Package Name\"] = combined[\"Package Name\"].apply(clean_text)"
      ],
      "metadata": {
        "id": "xLgMxE1ZsfWV"
      },
      "execution_count": 112,
      "outputs": []
    },
    {
      "cell_type": "code",
      "source": [
        "import nltk\n",
        "from nltk.tokenize import sent_tokenize\n",
        "from nltk.corpus import stopwords\n",
        "from nltk.probability import FreqDist\n",
        "nltk.download('punkt')\n",
        "nltk.download('stopwords')"
      ],
      "metadata": {
        "colab": {
          "base_uri": "https://localhost:8080/"
        },
        "id": "OJ4YwcYbwV21",
        "outputId": "1aca2ef8-9043-4814-c97f-aeb6f7fc2460"
      },
      "execution_count": 114,
      "outputs": [
        {
          "output_type": "stream",
          "name": "stderr",
          "text": [
            "[nltk_data] Downloading package punkt to /root/nltk_data...\n",
            "[nltk_data]   Unzipping tokenizers/punkt.zip.\n",
            "[nltk_data] Downloading package stopwords to /root/nltk_data...\n",
            "[nltk_data]   Unzipping corpora/stopwords.zip.\n"
          ]
        },
        {
          "output_type": "execute_result",
          "data": {
            "text/plain": [
              "True"
            ]
          },
          "metadata": {},
          "execution_count": 114
        }
      ]
    },
    {
      "cell_type": "code",
      "source": [
        "# Apply the Sentence Tokenizer\n",
        "sentences = [sent_tokenize(word) for word in combined[\"Package Name\"]]"
      ],
      "metadata": {
        "id": "6InsAh6BxXNl"
      },
      "execution_count": 115,
      "outputs": []
    },
    {
      "cell_type": "code",
      "source": [
        "# Stopwords\n",
        "\n",
        "stop = stopwords.words(\"english\")\n",
        "\n",
        "tokens = [word for word in sentences if word not in stop]"
      ],
      "metadata": {
        "id": "fdAXzTVDx4cN"
      },
      "execution_count": 122,
      "outputs": []
    },
    {
      "cell_type": "code",
      "source": [
        "pd.DataFrame(pd.DataFrame(tokens).value_counts())[:10].plot(kind = \"bar\")"
      ],
      "metadata": {
        "colab": {
          "base_uri": "https://localhost:8080/",
          "height": 804
        },
        "id": "FxwVV5qPycIt",
        "outputId": "6af24ad3-b1e8-4d5d-e030-84715d480081"
      },
      "execution_count": 133,
      "outputs": [
        {
          "output_type": "execute_result",
          "data": {
            "text/plain": [
              "<Axes: xlabel='0'>"
            ]
          },
          "metadata": {},
          "execution_count": 133
        },
        {
          "output_type": "display_data",
          "data": {
            "text/plain": [
              "<Figure size 640x480 with 1 Axes>"
            ],
            "image/png": "[encoded data removed]"
          },
          "metadata": {}
        }
      ]
    },
    {
      "cell_type": "code",
      "source": [
        "combined['Hotel Details'].unique()[:10]"
      ],
      "metadata": {
        "colab": {
          "base_uri": "https://localhost:8080/"
        },
        "id": "tOrhd2vq0FUt",
        "outputId": "39c6b9b4-0af0-4159-83a0-7b77b72ee8e3"
      },
      "execution_count": 136,
      "outputs": [
        {
          "output_type": "execute_result",
          "data": {
            "text/plain": [
              "array(['Not Available',\n",
              "       'The Orchard Retreat & Spa:4.6|WelcomHotel Pine N Peak Pahalgam - Member ITC Hotel Group:4.1|The Orchard Retreat & Spa:4.6',\n",
              "       'The Ananta:4.4|juSTa Lake Nahargarh Palace:4',\n",
              "       'Elixir Hills Suites Resort & Spa-MMT Holidays Special:4.6|The Zuri Kumarakom, Kerala Resort & Spa:4.6|Marari Beach - CGH Earth:4.3|Estuary Sarovar Portico:',\n",
              "       'Dusit Thani Pattaya - MMT Special:4.5|Amari Watergate Hotel Bangkok - MMT Special:4.2',\n",
              "       'Ratnawali A Vegetarian Heritage Hotel:4.1',\n",
              "       'The Himalayan Village:Four|The Holiday Resorts, Cottages & Spa:Four',\n",
              "       'California Group of Houseboats:3.6|The Rosewood Hotel:3.4|The Chinar Resort & Spa:4.6|California Group of Houseboats:3.6',\n",
              "       'Chunda Palace:4.6',\n",
              "       'UDAY SAMUDRA LEISURE BEACH HOTEL & SPA-MMT Holidays Special:4|Hotel Sivamurugan:'],\n",
              "      dtype=object)"
            ]
          },
          "metadata": {},
          "execution_count": 136
        }
      ]
    },
    {
      "cell_type": "code",
      "source": [
        "#np.median(pd.to_numeric(re.findall(\"[\\d.]+\", combined[\"Hotel Details\"][1])))\n",
        "\n",
        "def regex_hotels(text):\n",
        "  if text==\"Not Available\":\n",
        "    return(0)\n",
        "  else:\n",
        "    text = re.sub(\"[0-9].\\d+|[\\d.]+\",\" \", text)\n",
        "    text = pd.to_numeric(text)\n",
        "    if isinstance(text, pd.non_numeric):\n",
        "      return(0)\n",
        "    else:\n",
        "      return(float(text))"
      ],
      "metadata": {
        "id": "Xf-hHyIP-TD7"
      },
      "execution_count": 182,
      "outputs": []
    },
    {
      "cell_type": "code",
      "source": [
        "combined[\"Hotel Details\"].apply(regex_hotels)\n",
        "#np.median(pd.to_numeric(re.findall(\"[\\d.]+\", combined[\"Hotel Details\"][3])))"
      ],
      "metadata": {
        "colab": {
          "base_uri": "https://localhost:8080/",
          "height": 339
        },
        "id": "bphzCFlt_k1y",
        "outputId": "1f5a7abd-2a05-4150-b343-0a0e25d8ee68"
      },
      "execution_count": 183,
      "outputs": [
        {
          "output_type": "error",
          "ename": "ValueError",
          "evalue": "Unable to parse string \"The Orchard Retreat & Spa: |WelcomHotel Pine N Peak Pahalgam - Member ITC Hotel Group: |The Orchard Retreat & Spa: \" at position 0",
          "traceback": [
            "\u001b[0;31m---------------------------------------------------------------------------\u001b[0m",
            "\u001b[0;31mValueError\u001b[0m                                Traceback (most recent call last)",
            "\u001b[0;32m/usr/local/lib/python3.10/dist-packages/pandas/_libs/lib.pyx\u001b[0m in \u001b[0;36mpandas._libs.lib.maybe_convert_numeric\u001b[0;34m()\u001b[0m\n",
            "\u001b[0;31mValueError\u001b[0m: Unable to parse string \"The Orchard Retreat & Spa: |WelcomHotel Pine N Peak Pahalgam - Member ITC Hotel Group: |The Orchard Retreat & Spa: \"",
            "\nDuring handling of the above exception, another exception occurred:\n",
            "\u001b[0;31mValueError\u001b[0m                                Traceback (most recent call last)",
            "\u001b[0;32m<ipython-input-183-53d0570a5307>\u001b[0m in \u001b[0;36m<cell line: 1>\u001b[0;34m()\u001b[0m\n\u001b[0;32m----> 1\u001b[0;31m \u001b[0mcombined\u001b[0m\u001b[0;34m[\u001b[0m\u001b[0;34m\"Hotel Details\"\u001b[0m\u001b[0;34m]\u001b[0m\u001b[0;34m.\u001b[0m\u001b[0mapply\u001b[0m\u001b[0;34m(\u001b[0m\u001b[0mregex_hotels\u001b[0m\u001b[0;34m)\u001b[0m\u001b[0;34m\u001b[0m\u001b[0;34m\u001b[0m\u001b[0m\n\u001b[0m\u001b[1;32m      2\u001b[0m \u001b[0;31m#np.median(pd.to_numeric(re.findall(\"[\\d.]+\", combined[\"Hotel Details\"][3])))\u001b[0m\u001b[0;34m\u001b[0m\u001b[0;34m\u001b[0m\u001b[0m\n",
            "\u001b[0;32m/usr/local/lib/python3.10/dist-packages/pandas/core/series.py\u001b[0m in \u001b[0;36mapply\u001b[0;34m(self, func, convert_dtype, args, **kwargs)\u001b[0m\n\u001b[1;32m   4628\u001b[0m         \u001b[0mdtype\u001b[0m\u001b[0;34m:\u001b[0m \u001b[0mfloat64\u001b[0m\u001b[0;34m\u001b[0m\u001b[0;34m\u001b[0m\u001b[0m\n\u001b[1;32m   4629\u001b[0m         \"\"\"\n\u001b[0;32m-> 4630\u001b[0;31m         \u001b[0;32mreturn\u001b[0m \u001b[0mSeriesApply\u001b[0m\u001b[0;34m(\u001b[0m\u001b[0mself\u001b[0m\u001b[0;34m,\u001b[0m \u001b[0mfunc\u001b[0m\u001b[0;34m,\u001b[0m \u001b[0mconvert_dtype\u001b[0m\u001b[0;34m,\u001b[0m \u001b[0margs\u001b[0m\u001b[0;34m,\u001b[0m \u001b[0mkwargs\u001b[0m\u001b[0;34m)\u001b[0m\u001b[0;34m.\u001b[0m\u001b[0mapply\u001b[0m\u001b[0;34m(\u001b[0m\u001b[0;34m)\u001b[0m\u001b[0;34m\u001b[0m\u001b[0;34m\u001b[0m\u001b[0m\n\u001b[0m\u001b[1;32m   4631\u001b[0m \u001b[0;34m\u001b[0m\u001b[0m\n\u001b[1;32m   4632\u001b[0m     def _reduce(\n",
            "\u001b[0;32m/usr/local/lib/python3.10/dist-packages/pandas/core/apply.py\u001b[0m in \u001b[0;36mapply\u001b[0;34m(self)\u001b[0m\n\u001b[1;32m   1023\u001b[0m \u001b[0;34m\u001b[0m\u001b[0m\n\u001b[1;32m   1024\u001b[0m         \u001b[0;31m# self.f is Callable\u001b[0m\u001b[0;34m\u001b[0m\u001b[0;34m\u001b[0m\u001b[0m\n\u001b[0;32m-> 1025\u001b[0;31m         \u001b[0;32mreturn\u001b[0m \u001b[0mself\u001b[0m\u001b[0;34m.\u001b[0m\u001b[0mapply_standard\u001b[0m\u001b[0;34m(\u001b[0m\u001b[0;34m)\u001b[0m\u001b[0;34m\u001b[0m\u001b[0;34m\u001b[0m\u001b[0m\n\u001b[0m\u001b[1;32m   1026\u001b[0m \u001b[0;34m\u001b[0m\u001b[0m\n\u001b[1;32m   1027\u001b[0m     \u001b[0;32mdef\u001b[0m \u001b[0magg\u001b[0m\u001b[0;34m(\u001b[0m\u001b[0mself\u001b[0m\u001b[0;34m)\u001b[0m\u001b[0;34m:\u001b[0m\u001b[0;34m\u001b[0m\u001b[0;34m\u001b[0m\u001b[0m\n",
            "\u001b[0;32m/usr/local/lib/python3.10/dist-packages/pandas/core/apply.py\u001b[0m in \u001b[0;36mapply_standard\u001b[0;34m(self)\u001b[0m\n\u001b[1;32m   1074\u001b[0m             \u001b[0;32melse\u001b[0m\u001b[0;34m:\u001b[0m\u001b[0;34m\u001b[0m\u001b[0;34m\u001b[0m\u001b[0m\n\u001b[1;32m   1075\u001b[0m                 \u001b[0mvalues\u001b[0m \u001b[0;34m=\u001b[0m \u001b[0mobj\u001b[0m\u001b[0;34m.\u001b[0m\u001b[0mastype\u001b[0m\u001b[0;34m(\u001b[0m\u001b[0mobject\u001b[0m\u001b[0;34m)\u001b[0m\u001b[0;34m.\u001b[0m\u001b[0m_values\u001b[0m\u001b[0;34m\u001b[0m\u001b[0;34m\u001b[0m\u001b[0m\n\u001b[0;32m-> 1076\u001b[0;31m                 mapped = lib.map_infer(\n\u001b[0m\u001b[1;32m   1077\u001b[0m                     \u001b[0mvalues\u001b[0m\u001b[0;34m,\u001b[0m\u001b[0;34m\u001b[0m\u001b[0;34m\u001b[0m\u001b[0m\n\u001b[1;32m   1078\u001b[0m                     \u001b[0mf\u001b[0m\u001b[0;34m,\u001b[0m\u001b[0;34m\u001b[0m\u001b[0;34m\u001b[0m\u001b[0m\n",
            "\u001b[0;32m/usr/local/lib/python3.10/dist-packages/pandas/_libs/lib.pyx\u001b[0m in \u001b[0;36mpandas._libs.lib.map_infer\u001b[0;34m()\u001b[0m\n",
            "\u001b[0;32m<ipython-input-182-0a951dc31722>\u001b[0m in \u001b[0;36mregex_hotels\u001b[0;34m(text)\u001b[0m\n\u001b[1;32m      6\u001b[0m   \u001b[0;32melse\u001b[0m\u001b[0;34m:\u001b[0m\u001b[0;34m\u001b[0m\u001b[0;34m\u001b[0m\u001b[0m\n\u001b[1;32m      7\u001b[0m     \u001b[0mtext\u001b[0m \u001b[0;34m=\u001b[0m \u001b[0mre\u001b[0m\u001b[0;34m.\u001b[0m\u001b[0msub\u001b[0m\u001b[0;34m(\u001b[0m\u001b[0;34m\"[0-9].\\d+|[\\d.]+\"\u001b[0m\u001b[0;34m,\u001b[0m\u001b[0;34m\" \"\u001b[0m\u001b[0;34m,\u001b[0m \u001b[0mtext\u001b[0m\u001b[0;34m)\u001b[0m\u001b[0;34m\u001b[0m\u001b[0;34m\u001b[0m\u001b[0m\n\u001b[0;32m----> 8\u001b[0;31m     \u001b[0mtext\u001b[0m \u001b[0;34m=\u001b[0m \u001b[0mpd\u001b[0m\u001b[0;34m.\u001b[0m\u001b[0mto_numeric\u001b[0m\u001b[0;34m(\u001b[0m\u001b[0mtext\u001b[0m\u001b[0;34m)\u001b[0m\u001b[0;34m\u001b[0m\u001b[0;34m\u001b[0m\u001b[0m\n\u001b[0m\u001b[1;32m      9\u001b[0m     \u001b[0;32mif\u001b[0m \u001b[0misinstance\u001b[0m\u001b[0;34m(\u001b[0m\u001b[0mtext\u001b[0m\u001b[0;34m,\u001b[0m \u001b[0mpd\u001b[0m\u001b[0;34m.\u001b[0m\u001b[0mnon_numeric\u001b[0m\u001b[0;34m)\u001b[0m\u001b[0;34m:\u001b[0m\u001b[0;34m\u001b[0m\u001b[0;34m\u001b[0m\u001b[0m\n\u001b[1;32m     10\u001b[0m       \u001b[0;32mreturn\u001b[0m\u001b[0;34m(\u001b[0m\u001b[0;36m0\u001b[0m\u001b[0;34m)\u001b[0m\u001b[0;34m\u001b[0m\u001b[0;34m\u001b[0m\u001b[0m\n",
            "\u001b[0;32m/usr/local/lib/python3.10/dist-packages/pandas/core/tools/numeric.py\u001b[0m in \u001b[0;36mto_numeric\u001b[0;34m(arg, errors, downcast, dtype_backend)\u001b[0m\n\u001b[1;32m    215\u001b[0m         \u001b[0mcoerce_numeric\u001b[0m \u001b[0;34m=\u001b[0m \u001b[0merrors\u001b[0m \u001b[0;32mnot\u001b[0m \u001b[0;32min\u001b[0m \u001b[0;34m(\u001b[0m\u001b[0;34m\"ignore\"\u001b[0m\u001b[0;34m,\u001b[0m \u001b[0;34m\"raise\"\u001b[0m\u001b[0;34m)\u001b[0m\u001b[0;34m\u001b[0m\u001b[0;34m\u001b[0m\u001b[0m\n\u001b[1;32m    216\u001b[0m         \u001b[0;32mtry\u001b[0m\u001b[0;34m:\u001b[0m\u001b[0;34m\u001b[0m\u001b[0;34m\u001b[0m\u001b[0m\n\u001b[0;32m--> 217\u001b[0;31m             values, new_mask = lib.maybe_convert_numeric(  # type: ignore[call-overload]  # noqa\n\u001b[0m\u001b[1;32m    218\u001b[0m                 \u001b[0mvalues\u001b[0m\u001b[0;34m,\u001b[0m\u001b[0;34m\u001b[0m\u001b[0;34m\u001b[0m\u001b[0m\n\u001b[1;32m    219\u001b[0m                 \u001b[0mset\u001b[0m\u001b[0;34m(\u001b[0m\u001b[0;34m)\u001b[0m\u001b[0;34m,\u001b[0m\u001b[0;34m\u001b[0m\u001b[0;34m\u001b[0m\u001b[0m\n",
            "\u001b[0;32m/usr/local/lib/python3.10/dist-packages/pandas/_libs/lib.pyx\u001b[0m in \u001b[0;36mpandas._libs.lib.maybe_convert_numeric\u001b[0;34m()\u001b[0m\n",
            "\u001b[0;31mValueError\u001b[0m: Unable to parse string \"The Orchard Retreat & Spa: |WelcomHotel Pine N Peak Pahalgam - Member ITC Hotel Group: |The Orchard Retreat & Spa: \" at position 0"
          ]
        }
      ]
    },
    {
      "cell_type": "code",
      "source": [
        "nos = ['4.6', '4.1', '.','The Orchard Retreat & Spa: |WelcomHotel Pine N Peak Pahalgam - Member ITC Hotel Group: |The Orchard Retreat & Spa: ']\n",
        "\n",
        "re.sub('[0-9].\\d+|[\\d.]|[\\s+]', \"\", nos)"
      ],
      "metadata": {
        "colab": {
          "base_uri": "https://localhost:8080/",
          "height": 315
        },
        "id": "yUyk8kjAAZdK",
        "outputId": "3c74d04e-4efe-494e-dc96-4b9e55148021"
      },
      "execution_count": 211,
      "outputs": [
        {
          "output_type": "error",
          "ename": "TypeError",
          "evalue": "expected string or bytes-like object",
          "traceback": [
            "\u001b[0;31m---------------------------------------------------------------------------\u001b[0m",
            "\u001b[0;31mTypeError\u001b[0m                                 Traceback (most recent call last)",
            "\u001b[0;32m<ipython-input-211-674eaac82b9c>\u001b[0m in \u001b[0;36m<cell line: 3>\u001b[0;34m()\u001b[0m\n\u001b[1;32m      1\u001b[0m \u001b[0mnos\u001b[0m \u001b[0;34m=\u001b[0m \u001b[0;34m[\u001b[0m\u001b[0;34m'4.6'\u001b[0m\u001b[0;34m,\u001b[0m \u001b[0;34m'4.1'\u001b[0m\u001b[0;34m,\u001b[0m \u001b[0;34m'.'\u001b[0m\u001b[0;34m,\u001b[0m\u001b[0;34m'The Orchard Retreat & Spa: |WelcomHotel Pine N Peak Pahalgam - Member ITC Hotel Group: |The Orchard Retreat & Spa: '\u001b[0m\u001b[0;34m]\u001b[0m\u001b[0;34m\u001b[0m\u001b[0;34m\u001b[0m\u001b[0m\n\u001b[1;32m      2\u001b[0m \u001b[0;34m\u001b[0m\u001b[0m\n\u001b[0;32m----> 3\u001b[0;31m \u001b[0mre\u001b[0m\u001b[0;34m.\u001b[0m\u001b[0msub\u001b[0m\u001b[0;34m(\u001b[0m\u001b[0;34m'[0-9].\\d+|[\\d.]|[\\s+]'\u001b[0m\u001b[0;34m,\u001b[0m \u001b[0;34m\"\"\u001b[0m\u001b[0;34m,\u001b[0m \u001b[0mnos\u001b[0m\u001b[0;34m)\u001b[0m\u001b[0;34m\u001b[0m\u001b[0;34m\u001b[0m\u001b[0m\n\u001b[0m",
            "\u001b[0;32m/usr/lib/python3.10/re.py\u001b[0m in \u001b[0;36msub\u001b[0;34m(pattern, repl, string, count, flags)\u001b[0m\n\u001b[1;32m    207\u001b[0m     \u001b[0ma\u001b[0m \u001b[0mcallable\u001b[0m\u001b[0;34m,\u001b[0m \u001b[0mit\u001b[0m\u001b[0;31m'\u001b[0m\u001b[0ms\u001b[0m \u001b[0mpassed\u001b[0m \u001b[0mthe\u001b[0m \u001b[0mMatch\u001b[0m \u001b[0mobject\u001b[0m \u001b[0;32mand\u001b[0m \u001b[0mmust\u001b[0m \u001b[0;32mreturn\u001b[0m\u001b[0;34m\u001b[0m\u001b[0;34m\u001b[0m\u001b[0m\n\u001b[1;32m    208\u001b[0m     a replacement string to be used.\"\"\"\n\u001b[0;32m--> 209\u001b[0;31m     \u001b[0;32mreturn\u001b[0m \u001b[0m_compile\u001b[0m\u001b[0;34m(\u001b[0m\u001b[0mpattern\u001b[0m\u001b[0;34m,\u001b[0m \u001b[0mflags\u001b[0m\u001b[0;34m)\u001b[0m\u001b[0;34m.\u001b[0m\u001b[0msub\u001b[0m\u001b[0;34m(\u001b[0m\u001b[0mrepl\u001b[0m\u001b[0;34m,\u001b[0m \u001b[0mstring\u001b[0m\u001b[0;34m,\u001b[0m \u001b[0mcount\u001b[0m\u001b[0;34m)\u001b[0m\u001b[0;34m\u001b[0m\u001b[0;34m\u001b[0m\u001b[0m\n\u001b[0m\u001b[1;32m    210\u001b[0m \u001b[0;34m\u001b[0m\u001b[0m\n\u001b[1;32m    211\u001b[0m \u001b[0;32mdef\u001b[0m \u001b[0msubn\u001b[0m\u001b[0;34m(\u001b[0m\u001b[0mpattern\u001b[0m\u001b[0;34m,\u001b[0m \u001b[0mrepl\u001b[0m\u001b[0;34m,\u001b[0m \u001b[0mstring\u001b[0m\u001b[0;34m,\u001b[0m \u001b[0mcount\u001b[0m\u001b[0;34m=\u001b[0m\u001b[0;36m0\u001b[0m\u001b[0;34m,\u001b[0m \u001b[0mflags\u001b[0m\u001b[0;34m=\u001b[0m\u001b[0;36m0\u001b[0m\u001b[0;34m)\u001b[0m\u001b[0;34m:\u001b[0m\u001b[0;34m\u001b[0m\u001b[0;34m\u001b[0m\u001b[0m\n",
            "\u001b[0;31mTypeError\u001b[0m: expected string or bytes-like object"
          ]
        }
      ]
    },
    {
      "cell_type": "code",
      "source": [
        "combined[\"New_Hotel\"] = combined[\"Hotel Details\"].apply(regex_sight)\n",
        "\n",
        "combined[\"Hotel_Count\"] = combined.New_Hotel.apply(lambda x:len(x.split(\"|\")))"
      ],
      "metadata": {
        "id": "oPn411C1CmH5"
      },
      "execution_count": 190,
      "outputs": []
    },
    {
      "cell_type": "code",
      "source": [
        "new = combined.drop(['Uniq Id', 'Package Name','Destination', 'Itinerary',\n",
        "               'Places Covered', 'Travel Date', 'Hotel Details',\n",
        "               'Airline', 'Sightseeing Places Covered',\n",
        "       'Cancellation Rules'], axis = 1)"
      ],
      "metadata": {
        "id": "BSNDpNQiGIIZ"
      },
      "execution_count": 193,
      "outputs": []
    },
    {
      "cell_type": "code",
      "source": [
        "new.head()"
      ],
      "metadata": {
        "colab": {
          "base_uri": "https://localhost:8080/",
          "height": 434
        },
        "id": "V3pBhLbIG1lp",
        "outputId": "e4e0522a-aa10-44c6-8751-54f2d5505549"
      },
      "execution_count": 194,
      "outputs": [
        {
          "output_type": "execute_result",
          "data": {
            "text/plain": [
              "  Package Type Start City  Flight Stops  Meals  Per Person Price  Date  Month  \\\n",
              "0     Standard     Mumbai             2      3           11509.0    30      7   \n",
              "1      Premium  New Delhi             0      5           22485.5     8     12   \n",
              "2       Luxury  New Delhi             0      4           12421.5    26      4   \n",
              "3      Premium  New Delhi             0      5           35967.0    27      8   \n",
              "4      Premium  New Delhi             0      5           25584.0    12     12   \n",
              "\n",
              "   Year   Peak_Months    Peak_Date  Location_Count  Airline_Count  \\\n",
              "0  2021    peak_month  normal_date               4              1   \n",
              "1  2021  normal_month    peak_date               3              2   \n",
              "2  2021    peak_month  normal_date               2              1   \n",
              "3  2021  normal_month    peak_date               4              1   \n",
              "4  2021  normal_month  normal_date               2              2   \n",
              "\n",
              "   Count_SightSeeing  Holidays  \\\n",
              "0                  1         6   \n",
              "1                  7         4   \n",
              "2                  8         3   \n",
              "3                  9         6   \n",
              "4                  2         7   \n",
              "\n",
              "                                           New_Hotel  Hotel_Count  \n",
              "0                                      Not Available            1  \n",
              "1  The Orchard Retreat & Spa:4.6|WelcomHotel Pine...            3  \n",
              "2       The Ananta:4.4|juSTa Lake Nahargarh Palace:4            2  \n",
              "3  Elixir Hills Suites Resort & Spa-MMT Holidays ...            4  \n",
              "4  Dusit Thani Pattaya - MMT Special:4.5|Amari Wa...            2  "
            ],
            "text/html": [
              "\n",
              "  <div id=\"df-40c6bbab-283f-46d8-9d45-8162f8e3983b\" class=\"colab-df-container\">\n",
              "    <div>\n",
              "<style scoped>\n",
              "    .dataframe tbody tr th:only-of-type {\n",
              "        vertical-align: middle;\n",
              "    }\n",
              "\n",
              "    .dataframe tbody tr th {\n",
              "        vertical-align: top;\n",
              "    }\n",
              "\n",
              "    .dataframe thead th {\n",
              "        text-align: right;\n",
              "    }\n",
              "</style>\n",
              "<table border=\"1\" class=\"dataframe\">\n",
              "  <thead>\n",
              "    <tr style=\"text-align: right;\">\n",
              "      <th></th>\n",
              "      <th>Package Type</th>\n",
              "      <th>Start City</th>\n",
              "      <th>Flight Stops</th>\n",
              "      <th>Meals</th>\n",
              "      <th>Per Person Price</th>\n",
              "      <th>Date</th>\n",
              "      <th>Month</th>\n",
              "      <th>Year</th>\n",
              "      <th>Peak_Months</th>\n",
              "      <th>Peak_Date</th>\n",
              "      <th>Location_Count</th>\n",
              "      <th>Airline_Count</th>\n",
              "      <th>Count_SightSeeing</th>\n",
              "      <th>Holidays</th>\n",
              "      <th>New_Hotel</th>\n",
              "      <th>Hotel_Count</th>\n",
              "    </tr>\n",
              "  </thead>\n",
              "  <tbody>\n",
              "    <tr>\n",
              "      <th>0</th>\n",
              "      <td>Standard</td>\n",
              "      <td>Mumbai</td>\n",
              "      <td>2</td>\n",
              "      <td>3</td>\n",
              "      <td>11509.0</td>\n",
              "      <td>30</td>\n",
              "      <td>7</td>\n",
              "      <td>2021</td>\n",
              "      <td>peak_month</td>\n",
              "      <td>normal_date</td>\n",
              "      <td>4</td>\n",
              "      <td>1</td>\n",
              "      <td>1</td>\n",
              "      <td>6</td>\n",
              "      <td>Not Available</td>\n",
              "      <td>1</td>\n",
              "    </tr>\n",
              "    <tr>\n",
              "      <th>1</th>\n",
              "      <td>Premium</td>\n",
              "      <td>New Delhi</td>\n",
              "      <td>0</td>\n",
              "      <td>5</td>\n",
              "      <td>22485.5</td>\n",
              "      <td>8</td>\n",
              "      <td>12</td>\n",
              "      <td>2021</td>\n",
              "      <td>normal_month</td>\n",
              "      <td>peak_date</td>\n",
              "      <td>3</td>\n",
              "      <td>2</td>\n",
              "      <td>7</td>\n",
              "      <td>4</td>\n",
              "      <td>The Orchard Retreat &amp; Spa:4.6|WelcomHotel Pine...</td>\n",
              "      <td>3</td>\n",
              "    </tr>\n",
              "    <tr>\n",
              "      <th>2</th>\n",
              "      <td>Luxury</td>\n",
              "      <td>New Delhi</td>\n",
              "      <td>0</td>\n",
              "      <td>4</td>\n",
              "      <td>12421.5</td>\n",
              "      <td>26</td>\n",
              "      <td>4</td>\n",
              "      <td>2021</td>\n",
              "      <td>peak_month</td>\n",
              "      <td>normal_date</td>\n",
              "      <td>2</td>\n",
              "      <td>1</td>\n",
              "      <td>8</td>\n",
              "      <td>3</td>\n",
              "      <td>The Ananta:4.4|juSTa Lake Nahargarh Palace:4</td>\n",
              "      <td>2</td>\n",
              "    </tr>\n",
              "    <tr>\n",
              "      <th>3</th>\n",
              "      <td>Premium</td>\n",
              "      <td>New Delhi</td>\n",
              "      <td>0</td>\n",
              "      <td>5</td>\n",
              "      <td>35967.0</td>\n",
              "      <td>27</td>\n",
              "      <td>8</td>\n",
              "      <td>2021</td>\n",
              "      <td>normal_month</td>\n",
              "      <td>peak_date</td>\n",
              "      <td>4</td>\n",
              "      <td>1</td>\n",
              "      <td>9</td>\n",
              "      <td>6</td>\n",
              "      <td>Elixir Hills Suites Resort &amp; Spa-MMT Holidays ...</td>\n",
              "      <td>4</td>\n",
              "    </tr>\n",
              "    <tr>\n",
              "      <th>4</th>\n",
              "      <td>Premium</td>\n",
              "      <td>New Delhi</td>\n",
              "      <td>0</td>\n",
              "      <td>5</td>\n",
              "      <td>25584.0</td>\n",
              "      <td>12</td>\n",
              "      <td>12</td>\n",
              "      <td>2021</td>\n",
              "      <td>normal_month</td>\n",
              "      <td>normal_date</td>\n",
              "      <td>2</td>\n",
              "      <td>2</td>\n",
              "      <td>2</td>\n",
              "      <td>7</td>\n",
              "      <td>Dusit Thani Pattaya - MMT Special:4.5|Amari Wa...</td>\n",
              "      <td>2</td>\n",
              "    </tr>\n",
              "  </tbody>\n",
              "</table>\n",
              "</div>\n",
              "    <div class=\"colab-df-buttons\">\n",
              "\n",
              "  <div class=\"colab-df-container\">\n",
              "    <button class=\"colab-df-convert\" onclick=\"convertToInteractive('df-40c6bbab-283f-46d8-9d45-8162f8e3983b')\"\n",
              "            title=\"Convert this dataframe to an interactive table.\"\n",
              "            style=\"display:none;\">\n",
              "\n",
              "  <svg xmlns=\"http://www.w3.org/2000/svg\" height=\"24px\" viewBox=\"0 -960 960 960\">\n",
              "    <path d=\"M120-120v-720h720v720H120Zm60-500h600v-160H180v160Zm220 220h160v-160H400v160Zm0 220h160v-160H400v160ZM180-400h160v-160H180v160Zm440 0h160v-160H620v160ZM180-180h160v-160H180v160Zm440 0h160v-160H620v160Z\"/>\n",
              "  </svg>\n",
              "    </button>\n",
              "\n",
              "  <style>\n",
              "    .colab-df-container {\n",
              "      display:flex;\n",
              "      gap: 12px;\n",
              "    }\n",
              "\n",
              "    .colab-df-convert {\n",
              "      background-color: #E8F0FE;\n",
              "      border: none;\n",
              "      border-radius: 50%;\n",
              "      cursor: pointer;\n",
              "      display: none;\n",
              "      fill: #1967D2;\n",
              "      height: 32px;\n",
              "      padding: 0 0 0 0;\n",
              "      width: 32px;\n",
              "    }\n",
              "\n",
              "    .colab-df-convert:hover {\n",
              "      background-color: #E2EBFA;\n",
              "      box-shadow: 0px 1px 2px rgba(60, 64, 67, 0.3), 0px 1px 3px 1px rgba(60, 64, 67, 0.15);\n",
              "      fill: #174EA6;\n",
              "    }\n",
              "\n",
              "    .colab-df-buttons div {\n",
              "      margin-bottom: 4px;\n",
              "    }\n",
              "\n",
              "    [theme=dark] .colab-df-convert {\n",
              "      background-color: #3B4455;\n",
              "      fill: #D2E3FC;\n",
              "    }\n",
              "\n",
              "    [theme=dark] .colab-df-convert:hover {\n",
              "      background-color: #434B5C;\n",
              "      box-shadow: 0px 1px 3px 1px rgba(0, 0, 0, 0.15);\n",
              "      filter: drop-shadow(0px 1px 2px rgba(0, 0, 0, 0.3));\n",
              "      fill: #FFFFFF;\n",
              "    }\n",
              "  </style>\n",
              "\n",
              "    <script>\n",
              "      const buttonEl =\n",
              "        document.querySelector('#df-40c6bbab-283f-46d8-9d45-8162f8e3983b button.colab-df-convert');\n",
              "      buttonEl.style.display =\n",
              "        google.colab.kernel.accessAllowed ? 'block' : 'none';\n",
              "\n",
              "      async function convertToInteractive(key) {\n",
              "        const element = document.querySelector('#df-40c6bbab-283f-46d8-9d45-8162f8e3983b');\n",
              "        const dataTable =\n",
              "          await google.colab.kernel.invokeFunction('convertToInteractive',\n",
              "                                                    [key], {});\n",
              "        if (!dataTable) return;\n",
              "\n",
              "        const docLinkHtml = 'Like what you see? Visit the ' +\n",
              "          '<a target=\"_blank\" href=https://colab.research.google.com/notebooks/data_table.ipynb>data table notebook</a>'\n",
              "          + ' to learn more about interactive tables.';\n",
              "        element.innerHTML = '';\n",
              "        dataTable['output_type'] = 'display_data';\n",
              "        await google.colab.output.renderOutput(dataTable, element);\n",
              "        const docLink = document.createElement('div');\n",
              "        docLink.innerHTML = docLinkHtml;\n",
              "        element.appendChild(docLink);\n",
              "      }\n",
              "    </script>\n",
              "  </div>\n",
              "\n",
              "\n",
              "<div id=\"df-be1f13f1-6e8d-4266-b4fd-6ef18a56aff5\">\n",
              "  <button class=\"colab-df-quickchart\" onclick=\"quickchart('df-be1f13f1-6e8d-4266-b4fd-6ef18a56aff5')\"\n",
              "            title=\"Suggest charts\"\n",
              "            style=\"display:none;\">\n",
              "\n",
              "<svg xmlns=\"http://www.w3.org/2000/svg\" height=\"24px\"viewBox=\"0 0 24 24\"\n",
              "     width=\"24px\">\n",
              "    <g>\n",
              "        <path d=\"M19 3H5c-1.1 0-2 .9-2 2v14c0 1.1.9 2 2 2h14c1.1 0 2-.9 2-2V5c0-1.1-.9-2-2-2zM9 17H7v-7h2v7zm4 0h-2V7h2v10zm4 0h-2v-4h2v4z\"/>\n",
              "    </g>\n",
              "</svg>\n",
              "  </button>\n",
              "\n",
              "<style>\n",
              "  .colab-df-quickchart {\n",
              "      --bg-color: #E8F0FE;\n",
              "      --fill-color: #1967D2;\n",
              "      --hover-bg-color: #E2EBFA;\n",
              "      --hover-fill-color: #174EA6;\n",
              "      --disabled-fill-color: #AAA;\n",
              "      --disabled-bg-color: #DDD;\n",
              "  }\n",
              "\n",
              "  [theme=dark] .colab-df-quickchart {\n",
              "      --bg-color: #3B4455;\n",
              "      --fill-color: #D2E3FC;\n",
              "      --hover-bg-color: #434B5C;\n",
              "      --hover-fill-color: #FFFFFF;\n",
              "      --disabled-bg-color: #3B4455;\n",
              "      --disabled-fill-color: #666;\n",
              "  }\n",
              "\n",
              "  .colab-df-quickchart {\n",
              "    background-color: var(--bg-color);\n",
              "    border: none;\n",
              "    border-radius: 50%;\n",
              "    cursor: pointer;\n",
              "    display: none;\n",
              "    fill: var(--fill-color);\n",
              "    height: 32px;\n",
              "    padding: 0;\n",
              "    width: 32px;\n",
              "  }\n",
              "\n",
              "  .colab-df-quickchart:hover {\n",
              "    background-color: var(--hover-bg-color);\n",
              "    box-shadow: 0 1px 2px rgba(60, 64, 67, 0.3), 0 1px 3px 1px rgba(60, 64, 67, 0.15);\n",
              "    fill: var(--button-hover-fill-color);\n",
              "  }\n",
              "\n",
              "  .colab-df-quickchart-complete:disabled,\n",
              "  .colab-df-quickchart-complete:disabled:hover {\n",
              "    background-color: var(--disabled-bg-color);\n",
              "    fill: var(--disabled-fill-color);\n",
              "    box-shadow: none;\n",
              "  }\n",
              "\n",
              "  .colab-df-spinner {\n",
              "    border: 2px solid var(--fill-color);\n",
              "    border-color: transparent;\n",
              "    border-bottom-color: var(--fill-color);\n",
              "    animation:\n",
              "      spin 1s steps(1) infinite;\n",
              "  }\n",
              "\n",
              "  @keyframes spin {\n",
              "    0% {\n",
              "      border-color: transparent;\n",
              "      border-bottom-color: var(--fill-color);\n",
              "      border-left-color: var(--fill-color);\n",
              "    }\n",
              "    20% {\n",
              "      border-color: transparent;\n",
              "      border-left-color: var(--fill-color);\n",
              "      border-top-color: var(--fill-color);\n",
              "    }\n",
              "    30% {\n",
              "      border-color: transparent;\n",
              "      border-left-color: var(--fill-color);\n",
              "      border-top-color: var(--fill-color);\n",
              "      border-right-color: var(--fill-color);\n",
              "    }\n",
              "    40% {\n",
              "      border-color: transparent;\n",
              "      border-right-color: var(--fill-color);\n",
              "      border-top-color: var(--fill-color);\n",
              "    }\n",
              "    60% {\n",
              "      border-color: transparent;\n",
              "      border-right-color: var(--fill-color);\n",
              "    }\n",
              "    80% {\n",
              "      border-color: transparent;\n",
              "      border-right-color: var(--fill-color);\n",
              "      border-bottom-color: var(--fill-color);\n",
              "    }\n",
              "    90% {\n",
              "      border-color: transparent;\n",
              "      border-bottom-color: var(--fill-color);\n",
              "    }\n",
              "  }\n",
              "</style>\n",
              "\n",
              "  <script>\n",
              "    async function quickchart(key) {\n",
              "      const quickchartButtonEl =\n",
              "        document.querySelector('#' + key + ' button');\n",
              "      quickchartButtonEl.disabled = true;  // To prevent multiple clicks.\n",
              "      quickchartButtonEl.classList.add('colab-df-spinner');\n",
              "      try {\n",
              "        const charts = await google.colab.kernel.invokeFunction(\n",
              "            'suggestCharts', [key], {});\n",
              "      } catch (error) {\n",
              "        console.error('Error during call to suggestCharts:', error);\n",
              "      }\n",
              "      quickchartButtonEl.classList.remove('colab-df-spinner');\n",
              "      quickchartButtonEl.classList.add('colab-df-quickchart-complete');\n",
              "    }\n",
              "    (() => {\n",
              "      let quickchartButtonEl =\n",
              "        document.querySelector('#df-be1f13f1-6e8d-4266-b4fd-6ef18a56aff5 button');\n",
              "      quickchartButtonEl.style.display =\n",
              "        google.colab.kernel.accessAllowed ? 'block' : 'none';\n",
              "    })();\n",
              "  </script>\n",
              "</div>\n",
              "\n",
              "    </div>\n",
              "  </div>\n"
            ],
            "application/vnd.google.colaboratory.intrinsic+json": {
              "type": "dataframe",
              "variable_name": "new",
              "summary": "{\n  \"name\": \"new\",\n  \"rows\": 30000,\n  \"fields\": [\n    {\n      \"column\": \"Package Type\",\n      \"properties\": {\n        \"dtype\": \"category\",\n        \"num_unique_values\": 5,\n        \"samples\": [\n          \"Premium\",\n          \"Budget\",\n          \"Luxury\"\n        ],\n        \"semantic_type\": \"\",\n        \"description\": \"\"\n      }\n    },\n    {\n      \"column\": \"Start City\",\n      \"properties\": {\n        \"dtype\": \"category\",\n        \"num_unique_values\": 2,\n        \"samples\": [\n          \"New Delhi\",\n          \"Mumbai\"\n        ],\n        \"semantic_type\": \"\",\n        \"description\": \"\"\n      }\n    },\n    {\n      \"column\": \"Flight Stops\",\n      \"properties\": {\n        \"dtype\": \"number\",\n        \"std\": 0,\n        \"min\": 0,\n        \"max\": 2,\n        \"num_unique_values\": 3,\n        \"samples\": [\n          2,\n          0\n        ],\n        \"semantic_type\": \"\",\n        \"description\": \"\"\n      }\n    },\n    {\n      \"column\": \"Meals\",\n      \"properties\": {\n        \"dtype\": \"number\",\n        \"std\": 0,\n        \"min\": 2,\n        \"max\": 5,\n        \"num_unique_values\": 4,\n        \"samples\": [\n          5,\n          2\n        ],\n        \"semantic_type\": \"\",\n        \"description\": \"\"\n      }\n    },\n    {\n      \"column\": \"Per Person Price\",\n      \"properties\": {\n        \"dtype\": \"number\",\n        \"std\": 11643.641766347971,\n        \"min\": 791.0,\n        \"max\": 171062.5,\n        \"num_unique_values\": 17138,\n        \"samples\": [\n          19688.5,\n          15846.5\n        ],\n        \"semantic_type\": \"\",\n        \"description\": \"\"\n      }\n    },\n    {\n      \"column\": \"Date\",\n      \"properties\": {\n        \"dtype\": \"int32\",\n        \"num_unique_values\": 31,\n        \"samples\": [\n          20,\n          9\n        ],\n        \"semantic_type\": \"\",\n        \"description\": \"\"\n      }\n    },\n    {\n      \"column\": \"Month\",\n      \"properties\": {\n        \"dtype\": \"int32\",\n        \"num_unique_values\": 12,\n        \"samples\": [\n          11,\n          2\n        ],\n        \"semantic_type\": \"\",\n        \"description\": \"\"\n      }\n    },\n    {\n      \"column\": \"Year\",\n      \"properties\": {\n        \"dtype\": \"int32\",\n        \"num_unique_values\": 2,\n        \"samples\": [\n          2022,\n          2021\n        ],\n        \"semantic_type\": \"\",\n        \"description\": \"\"\n      }\n    },\n    {\n      \"column\": \"Peak_Months\",\n      \"properties\": {\n        \"dtype\": \"category\",\n        \"num_unique_values\": 2,\n        \"samples\": [\n          \"normal_month\",\n          \"peak_month\"\n        ],\n        \"semantic_type\": \"\",\n        \"description\": \"\"\n      }\n    },\n    {\n      \"column\": \"Peak_Date\",\n      \"properties\": {\n        \"dtype\": \"category\",\n        \"num_unique_values\": 2,\n        \"samples\": [\n          \"peak_date\",\n          \"normal_date\"\n        ],\n        \"semantic_type\": \"\",\n        \"description\": \"\"\n      }\n    },\n    {\n      \"column\": \"Location_Count\",\n      \"properties\": {\n        \"dtype\": \"number\",\n        \"std\": 1,\n        \"min\": 1,\n        \"max\": 11,\n        \"num_unique_values\": 10,\n        \"samples\": [\n          9,\n          3\n        ],\n        \"semantic_type\": \"\",\n        \"description\": \"\"\n      }\n    },\n    {\n      \"column\": \"Airline_Count\",\n      \"properties\": {\n        \"dtype\": \"number\",\n        \"std\": 0,\n        \"min\": 1,\n        \"max\": 11,\n        \"num_unique_values\": 11,\n        \"samples\": [\n          10,\n          1\n        ],\n        \"semantic_type\": \"\",\n        \"description\": \"\"\n      }\n    },\n    {\n      \"column\": \"Count_SightSeeing\",\n      \"properties\": {\n        \"dtype\": \"number\",\n        \"std\": 4,\n        \"min\": 1,\n        \"max\": 23,\n        \"num_unique_values\": 23,\n        \"samples\": [\n          11,\n          12\n        ],\n        \"semantic_type\": \"\",\n        \"description\": \"\"\n      }\n    },\n    {\n      \"column\": \"Holidays\",\n      \"properties\": {\n        \"dtype\": \"number\",\n        \"std\": 1,\n        \"min\": 1,\n        \"max\": 14,\n        \"num_unique_values\": 13,\n        \"samples\": [\n          12,\n          9\n        ],\n        \"semantic_type\": \"\",\n        \"description\": \"\"\n      }\n    },\n    {\n      \"column\": \"New_Hotel\",\n      \"properties\": {\n        \"dtype\": \"category\",\n        \"num_unique_values\": 7257,\n        \"samples\": [\n          \"Shri Radha Brij Vasundhara Resort & Spa - Goverdhan:3.7|Lemon Tree Premier Jaipur:4.4\",\n          \"Country Inn And Suites By Radisson, Mysore:4.2|Vythiri Resort:4.3|EVOLVE BACK, KABINI:4.9\"\n        ],\n        \"semantic_type\": \"\",\n        \"description\": \"\"\n      }\n    },\n    {\n      \"column\": \"Hotel_Count\",\n      \"properties\": {\n        \"dtype\": \"number\",\n        \"std\": 1,\n        \"min\": 1,\n        \"max\": 11,\n        \"num_unique_values\": 10,\n        \"samples\": [\n          9,\n          3\n        ],\n        \"semantic_type\": \"\",\n        \"description\": \"\"\n      }\n    }\n  ]\n}"
            }
          },
          "metadata": {},
          "execution_count": 194
        }
      ]
    },
    {
      "cell_type": "code",
      "source": [
        "travel = new.groupby(\"Month\")[\"Holidays\"].count()\n",
        "\n",
        "plt.plot(travel.index, travel, marker = \".\", color = \"red\")\n",
        "plt.show()"
      ],
      "metadata": {
        "colab": {
          "base_uri": "https://localhost:8080/",
          "height": 430
        },
        "id": "ABhZkVliHMUg",
        "outputId": "074eb88d-4d08-4864-c0f0-481f02344214"
      },
      "execution_count": 198,
      "outputs": [
        {
          "output_type": "display_data",
          "data": {
            "text/plain": [
              "<Figure size 640x480 with 1 Axes>"
            ],
            "image/png": "[encoded data removed]"
          },
          "metadata": {}
        }
      ]
    },
    {
      "cell_type": "code",
      "source": [
        "new[\"holiday_freq\"] = new.groupby(\"Month\")[\"Holidays\"].transform(\"count\")\n",
        "new[\"holiday_min\"] = new.groupby(\"Month\")[\"Holidays\"].transform(\"min\")\n",
        "new[\"holiday_max\"] = new.groupby(\"Month\")[\"Holidays\"].transform(\"max\")\n",
        "new[\"holiday_mean\"] = new.groupby(\"Month\")[\"Holidays\"].transform(\"mean\")\n",
        "new[\"holiday_median\"] = new.groupby(\"Month\")[\"Holidays\"].transform(\"median\")"
      ],
      "metadata": {
        "id": "klMkBC_EH7li"
      },
      "execution_count": 202,
      "outputs": []
    },
    {
      "cell_type": "code",
      "source": [
        "new[\"Package Type\"].unique()"
      ],
      "metadata": {
        "colab": {
          "base_uri": "https://localhost:8080/"
        },
        "id": "ErA81rDCI6xg",
        "outputId": "071ddfc8-9348-44bb-b940-71aa3e912855"
      },
      "execution_count": 204,
      "outputs": [
        {
          "output_type": "execute_result",
          "data": {
            "text/plain": [
              "array(['Standard', 'Premium', 'Luxury', 'Deluxe', 'Budget'], dtype=object)"
            ]
          },
          "metadata": {},
          "execution_count": 204
        }
      ]
    },
    {
      "cell_type": "code",
      "source": [
        "new.groupby([\"Package Type\"])[\"Holidays\"].describe()\n",
        "\n",
        "new[\"magic1\"] = new.groupby([\"Package Type\"])[\"Holidays\"].transform(\"count\")\n",
        "new[\"magic2\"] = new.groupby([\"Package Type\"])[\"Holidays\"].transform(\"mean\")\n",
        "new[\"magic3\"] = new.groupby([\"Package Type\"])[\"Holidays\"].transform(\"median\")\n",
        "new[\"magic4\"] = new.groupby([\"Package Type\"])[\"Holidays\"].transform(\"min\")\n",
        "new[\"magic5\"] = new.groupby([\"Package Type\"])[\"Holidays\"].transform(\"max\")"
      ],
      "metadata": {
        "id": "T3eIHbvmJCex"
      },
      "execution_count": 207,
      "outputs": []
    },
    {
      "cell_type": "code",
      "source": [
        "new.groupby([\"Package Type\"])[\"Per Person Price\"].describe()\n",
        "new[\"magic_1\"] = new.groupby([\"Package Type\"])[\"Per Person Price\"].transform(\"count\")\n",
        "new[\"magic_2\"] = new.groupby([\"Package Type\"])[\"Per Person Price\"].transform(\"mean\")\n",
        "new[\"magic_3\"] = new.groupby([\"Package Type\"])[\"Per Person Price\"].transform(\"median\")\n",
        "new[\"magic_4\"] = new.groupby([\"Package Type\"])[\"Per Person Price\"].transform(\"min\")\n",
        "new[\"magic_5\"] = new.groupby([\"Package Type\"])[\"Per Person Price\"].transform(\"max\")"
      ],
      "metadata": {
        "id": "nlDs6xNEJhCo"
      },
      "execution_count": 208,
      "outputs": []
    },
    {
      "cell_type": "code",
      "source": [
        "new.drop([\"Date\", \"Month\", \"Year\"], axis = 1, inplace = True)"
      ],
      "metadata": {
        "id": "Zej_UbAhK6aI"
      },
      "execution_count": 213,
      "outputs": []
    },
    {
      "cell_type": "code",
      "source": [
        "mapp = {\"Budget\": 1, \"Deluxe\": 5, \"Luxury\": 2, \"Premium\": 4, \"Standard\":3 }\n",
        "new[\"Package Type\"] = new[\"Package Type\"].map(mapp)"
      ],
      "metadata": {
        "id": "s-VoM-15L1PX"
      },
      "execution_count": 215,
      "outputs": []
    },
    {
      "cell_type": "code",
      "source": [
        "# Split the Data into Train and Test\n",
        "newtrain =new.loc[0:train.shape[0]-1, :]\n",
        "newtest =new.loc[train.shape[0]:, :]\n",
        "\n",
        "train.shape, test.shape, newtrain.shape, newtest.shape"
      ],
      "metadata": {
        "colab": {
          "base_uri": "https://localhost:8080/"
        },
        "id": "0TEvSPahMO5p",
        "outputId": "d53f14fb-c400-4f07-ba56-cbceff156637"
      },
      "execution_count": 218,
      "outputs": [
        {
          "output_type": "execute_result",
          "data": {
            "text/plain": [
              "((21000, 15), (9000, 14), (21000, 28), (9000, 28))"
            ]
          },
          "metadata": {},
          "execution_count": 218
        }
      ]
    },
    {
      "cell_type": "code",
      "source": [
        "# Drop the target variable from the test set and  hotel details from both\n",
        "\n",
        "newtrain.drop(\"New_Hotel\", axis = 1, inplace = True)\n",
        "newtest.drop([\"New_Hotel\", \"Per Person Price\"], axis = 1, inplace = True)"
      ],
      "metadata": {
        "id": "S7LCAbdBMZxH"
      },
      "execution_count": 219,
      "outputs": []
    },
    {
      "cell_type": "code",
      "source": [
        "# Modelling\n",
        "\n",
        "# dummyfy...\n",
        "dummytrain = pd.get_dummies(newtrain, drop_first = True)\n",
        "dummytest = pd.get_dummies(newtest, drop_first = True)\n",
        "\n",
        "dummytrain.shape, dummytest.shape"
      ],
      "metadata": {
        "colab": {
          "base_uri": "https://localhost:8080/"
        },
        "id": "hxHm3xciOWsQ",
        "outputId": "c4f24353-dd92-42c4-df73-53e4e22f368e"
      },
      "execution_count": 221,
      "outputs": [
        {
          "output_type": "execute_result",
          "data": {
            "text/plain": [
              "((21000, 27), (9000, 26))"
            ]
          },
          "metadata": {},
          "execution_count": 221
        }
      ]
    },
    {
      "cell_type": "code",
      "source": [
        "from sklearn.linear_model import LinearRegression\n",
        "from sklearn.tree import DecisionTreeRegressor\n",
        "from sklearn.ensemble import RandomForestRegressor, GradientBoostingRegressor\n",
        "from xgboost import XGBRegressor\n",
        "from lightgbm import LGBMRegressor\n",
        "from sklearn.model_selection import cross_val_score"
      ],
      "metadata": {
        "id": "qBXAv95POayf"
      },
      "execution_count": 223,
      "outputs": []
    },
    {
      "cell_type": "code",
      "source": [
        "def base_models():\n",
        "  models = dict()\n",
        "  models[\"LR\"] = LinearRegression()\n",
        "  models[\"Tree\"] = DecisionTreeRegressor()\n",
        "  models[\"RF\"] = RandomForestRegressor()\n",
        "  models[\"GBM\"] = GradientBoostingRegressor()\n",
        "  models[\"XGBOOST\"] = XGBRegressor()\n",
        "  models[\"LGBM\"] = LGBMRegressor()\n",
        "  return models"
      ],
      "metadata": {
        "id": "7CKUyA2sO4Df"
      },
      "execution_count": 224,
      "outputs": []
    },
    {
      "cell_type": "code",
      "source": [
        "# Function to evaluate the models...\n",
        "from sklearn.model_selection import KFold\n",
        "\n",
        "def eval_models(model):\n",
        "  cv = KFold(n_splits = 5, shuffle = True, random_state=4042024)\n",
        "  score = -cross_val_score(estimator = model,\n",
        "                           X = X, y = y,\n",
        "                           scoring = \"neg_root_mean_squared_error\", n_jobs = -1)\n",
        "  return(score)"
      ],
      "metadata": {
        "id": "04s19qx8P-T_"
      },
      "execution_count": 232,
      "outputs": []
    },
    {
      "cell_type": "code",
      "source": [
        "X = dummytrain.drop(\"Per Person Price\", axis = 1)\n",
        "y = dummytrain[\"Per Person Price\"]\n",
        "\n",
        "# Lets use the function to calculate the scores...\n",
        "models = base_models()\n",
        "results, modelname = list(), list()\n",
        "\n",
        "for name, mymodel in models.items():\n",
        "  finalscore = eval_models(mymodel)# it will evaluate the model on the data\n",
        "  results.append(finalscore) # append the final score....\n",
        "  modelname.append(name)\n",
        "  print(name, np.mean(finalscore))"
      ],
      "metadata": {
        "colab": {
          "base_uri": "https://localhost:8080/"
        },
        "id": "3ArlZNabQ8QH",
        "outputId": "667fb5f6-93a2-41ac-ec29-db646cb8ded0"
      },
      "execution_count": 238,
      "outputs": [
        {
          "output_type": "stream",
          "name": "stdout",
          "text": [
            "LR 8205.806519153997\n",
            "Tree 9446.113922524783\n",
            "RF 7364.826578058877\n",
            "GBM 7447.60015898337\n",
            "XGBOOST 7047.555781221827\n",
            "LGBM 7348.6927673965865\n"
          ]
        }
      ]
    },
    {
      "cell_type": "code",
      "source": [
        "plt.boxplot(x = results, labels = modelname, showmeans = True)\n",
        "plt.show()"
      ],
      "metadata": {
        "colab": {
          "base_uri": "https://localhost:8080/",
          "height": 430
        },
        "id": "wdFnM302Svin",
        "outputId": "7c536289-ffcd-429b-902b-d09216ffc49d"
      },
      "execution_count": 242,
      "outputs": [
        {
          "output_type": "display_data",
          "data": {
            "text/plain": [
              "<Figure size 640x480 with 1 Axes>"
            ],
            "image/png": "[encoded data removed]"
          },
          "metadata": {}
        }
      ]
    },
    {
      "cell_type": "code",
      "source": [
        "# Stacking Model\n",
        "\n",
        "from sklearn.ensemble import StackingRegressor\n",
        "\n",
        "rf = RandomForestRegressor()\n",
        "gbm = GradientBoostingRegressor()\n",
        "lgbm = LGBMRegressor()\n",
        "xgb = XGBRegressor()\n",
        "\n",
        "stack = StackingRegressor(estimators = [(\"RF\", rf), (\"GBM\", gbm),\n",
        " (\"LGBM\", lgbm)],final_estimator = xgb)\n",
        "\n",
        "prediction = stack.fit(X, y).predict(dummytest)"
      ],
      "metadata": {
        "colab": {
          "base_uri": "https://localhost:8080/"
        },
        "id": "DMGAxEDFS0y_",
        "outputId": "5c782e56-d58c-4afd-c71a-a1f276cd6699"
      },
      "execution_count": 244,
      "outputs": [
        {
          "output_type": "stream",
          "name": "stdout",
          "text": [
            "[LightGBM] [Warning] Found whitespace in feature_names, replace with underlines\n",
            "[LightGBM] [Info] Auto-choosing row-wise multi-threading, the overhead of testing was 0.003039 seconds.\n",
            "You can set `force_row_wise=true` to remove the overhead.\n",
            "And if memory is not enough, you can set `force_col_wise=true`.\n",
            "[LightGBM] [Info] Total Bins 172\n",
            "[LightGBM] [Info] Number of data points in the train set: 21000, number of used features: 24\n",
            "[LightGBM] [Info] Start training from score 20059.330381\n",
            "[LightGBM] [Warning] Found whitespace in feature_names, replace with underlines\n",
            "[LightGBM] [Info] Auto-choosing row-wise multi-threading, the overhead of testing was 0.002032 seconds.\n",
            "You can set `force_row_wise=true` to remove the overhead.\n",
            "And if memory is not enough, you can set `force_col_wise=true`.\n",
            "[LightGBM] [Info] Total Bins 171\n",
            "[LightGBM] [Info] Number of data points in the train set: 16800, number of used features: 24\n",
            "[LightGBM] [Info] Start training from score 20072.302351\n",
            "[LightGBM] [Warning] Found whitespace in feature_names, replace with underlines\n",
            "[LightGBM] [Info] Auto-choosing row-wise multi-threading, the overhead of testing was 0.002167 seconds.\n",
            "You can set `force_row_wise=true` to remove the overhead.\n",
            "And if memory is not enough, you can set `force_col_wise=true`.\n",
            "[LightGBM] [Info] Total Bins 171\n",
            "[LightGBM] [Info] Number of data points in the train set: 16800, number of used features: 24\n",
            "[LightGBM] [Info] Start training from score 20033.835268\n",
            "[LightGBM] [Warning] Found whitespace in feature_names, replace with underlines\n",
            "[LightGBM] [Info] Auto-choosing row-wise multi-threading, the overhead of testing was 0.002007 seconds.\n",
            "You can set `force_row_wise=true` to remove the overhead.\n",
            "And if memory is not enough, you can set `force_col_wise=true`.\n",
            "[LightGBM] [Info] Total Bins 170\n",
            "[LightGBM] [Info] Number of data points in the train set: 16800, number of used features: 24\n",
            "[LightGBM] [Info] Start training from score 20114.702976\n",
            "[LightGBM] [Warning] Found whitespace in feature_names, replace with underlines\n",
            "[LightGBM] [Info] Auto-choosing col-wise multi-threading, the overhead of testing was 0.005229 seconds.\n",
            "You can set `force_col_wise=true` to remove the overhead.\n",
            "[LightGBM] [Info] Total Bins 171\n",
            "[LightGBM] [Info] Number of data points in the train set: 16800, number of used features: 24\n",
            "[LightGBM] [Info] Start training from score 20018.249435\n",
            "[LightGBM] [Warning] Found whitespace in feature_names, replace with underlines\n",
            "[LightGBM] [Info] Auto-choosing row-wise multi-threading, the overhead of testing was 0.002211 seconds.\n",
            "You can set `force_row_wise=true` to remove the overhead.\n",
            "And if memory is not enough, you can set `force_col_wise=true`.\n",
            "[LightGBM] [Info] Total Bins 170\n",
            "[LightGBM] [Info] Number of data points in the train set: 16800, number of used features: 24\n",
            "[LightGBM] [Info] Start training from score 20057.561875\n"
          ]
        }
      ]
    },
    {
      "cell_type": "code",
      "source": [
        "# Submission File...\n",
        "submission = pd.DataFrame({\"Per Person Price\": prediction})\n",
        "submission.to_csv(\"submission_new.csv\", index = False)"
      ],
      "metadata": {
        "id": "QNuWeHouWF5m"
      },
      "execution_count": 249,
      "outputs": []
    },
    {
      "cell_type": "code",
      "source": [],
      "metadata": {
        "id": "WrML3HiQW-Pu"
      },
      "execution_count": null,
      "outputs": []
    }
  ]
}