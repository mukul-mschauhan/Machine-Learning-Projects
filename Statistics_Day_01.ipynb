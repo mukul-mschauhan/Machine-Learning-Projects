{
  "nbformat": 4,
  "nbformat_minor": 0,
  "metadata": {
    "colab": {
      "provenance": [],
      "authorship_tag": "ABX9TyMI/kw/yWqvcvpRQELkDm9T",
      "include_colab_link": true
    },
    "kernelspec": {
      "name": "python3",
      "display_name": "Python 3"
    },
    "language_info": {
      "name": "python"
    }
  },
  "cells": [
    {
      "cell_type": "markdown",
      "metadata": {
        "id": "view-in-github",
        "colab_type": "text"
      },
      "source": [
        "<a href=\"https://colab.research.google.com/github/mukul-mschauhan/Machine-Learning-Projects/blob/master/Statistics_Day_01.ipynb\" target=\"_parent\"><img src=\"https://colab.research.google.com/assets/colab-badge.svg\" alt=\"Open In Colab\"/></a>"
      ]
    },
    {
      "cell_type": "markdown",
      "source": [
        "### Understanding Probability Distributions...\n"
      ],
      "metadata": {
        "id": "zhkM9NgN3_C6"
      }
    },
    {
      "cell_type": "code",
      "execution_count": 1,
      "metadata": {
        "id": "tb8G-EGb33rJ"
      },
      "outputs": [],
      "source": [
        "import scipy.stats as stats # Statistical Library..."
      ]
    },
    {
      "cell_type": "markdown",
      "source": [
        "Five percent of all DVD players manufactured by a large electronics company are defective.\n",
        "A quality control inspector randomly selects three DVD players from the production line. What\n",
        "is the probability that exactly one of these three DVD players is defective?"
      ],
      "metadata": {
        "id": "UJ8zQDRy4b85"
      }
    },
    {
      "cell_type": "code",
      "source": [
        "# binom.pmf\n",
        "# pmf to calculate the probability in discrete prob distributions...\n",
        "# pmf: Probability Mass Function...\n",
        "n = 3\n",
        "x = 1\n",
        "p = 0.05\n",
        "\n",
        "stats.binom.pmf(x, n, p)"
      ],
      "metadata": {
        "colab": {
          "base_uri": "https://localhost:8080/"
        },
        "id": "hlzrKDbi4UzS",
        "outputId": "0a3ed9d2-19f2-4a2b-c15e-efe3b3563070"
      },
      "execution_count": null,
      "outputs": [
        {
          "output_type": "execute_result",
          "data": {
            "text/plain": [
              "0.135375"
            ]
          },
          "metadata": {},
          "execution_count": 2
        }
      ]
    },
    {
      "cell_type": "code",
      "source": [
        "# Heaven Furniture...\n",
        "p = 0.25\n",
        "n = 20\n",
        "x = 3\n",
        "\n",
        "# Prob of exactly 3 customers complain about the product is:-\n",
        "stats.binom.pmf(x, n, p)"
      ],
      "metadata": {
        "colab": {
          "base_uri": "https://localhost:8080/"
        },
        "id": "TZ0i3l9c5Gzq",
        "outputId": "8bd24448-de8c-4e06-a8d4-a35f79d25d39"
      },
      "execution_count": null,
      "outputs": [
        {
          "output_type": "execute_result",
          "data": {
            "text/plain": [
              "0.13389561519943532"
            ]
          },
          "metadata": {},
          "execution_count": 3
        }
      ]
    },
    {
      "cell_type": "code",
      "source": [
        "# More than 3 Customers\n",
        "\n",
        "# 1 - P(X<=3) => 1 - {P(X=0)+P(X=1)+P(X=2)+P(X=3)}\n",
        "\n",
        "# stats.binom.cdf()\n",
        "\n",
        "1 - stats.binom.cdf(x, n, p)"
      ],
      "metadata": {
        "colab": {
          "base_uri": "https://localhost:8080/"
        },
        "id": "gneFndWl6BUp",
        "outputId": "14c6da2a-c0d4-4cc5-d22f-6ef7a8f31052"
      },
      "execution_count": null,
      "outputs": [
        {
          "output_type": "execute_result",
          "data": {
            "text/plain": [
              "0.7748439523356865"
            ]
          },
          "metadata": {},
          "execution_count": 5
        }
      ]
    },
    {
      "cell_type": "code",
      "source": [
        "#Survey\n",
        "\n",
        "mew = 300\n",
        "sigma = 127\n",
        "# Prob of Spending Less than Equal to 100 Mins...\n",
        "Z_Score = (100 - mew)/sigma\n",
        "print(\"Z Score: \", Z_Score)\n",
        "\n",
        "# Calculating the probability\n",
        "prob = stats.norm.cdf(Z_Score)\n",
        "print(\"Probability: \", prob)"
      ],
      "metadata": {
        "colab": {
          "base_uri": "https://localhost:8080/"
        },
        "id": "nEvA45J67ICa",
        "outputId": "be1ce25a-6630-4922-d391-8c7d5092e291"
      },
      "execution_count": null,
      "outputs": [
        {
          "output_type": "stream",
          "name": "stdout",
          "text": [
            "Z Score:  -1.5748031496062993\n",
            "Probability:  0.057650944602972154\n"
          ]
        }
      ]
    },
    {
      "cell_type": "code",
      "source": [
        "# Direct Approach\n",
        "stats.norm.cdf(100, mew, sigma)"
      ],
      "metadata": {
        "colab": {
          "base_uri": "https://localhost:8080/"
        },
        "id": "EUxK_DkGOibf",
        "outputId": "6d483495-d3e9-43cc-d784-0dbf381f3527"
      },
      "execution_count": null,
      "outputs": [
        {
          "output_type": "execute_result",
          "data": {
            "text/plain": [
              "0.057650944602972154"
            ]
          },
          "metadata": {},
          "execution_count": 9
        }
      ]
    },
    {
      "cell_type": "code",
      "source": [
        "# Prob of People Spending More than 400 Mins on Shopping Website\n",
        "1 - stats.norm.cdf(400, mew, sigma) # 0.2155\n",
        "\n",
        "# Prb of People Spending Time Between 250 Mins to 350 Mins.\n",
        "\n",
        "stats.norm.cdf(350, mew, sigma)- stats.norm.cdf(250, mew, sigma) # 0.306"
      ],
      "metadata": {
        "colab": {
          "base_uri": "https://localhost:8080/"
        },
        "id": "dIcgn4fPQBE3",
        "outputId": "b0dc24e3-ae89-45b7-d7a3-48a88c3c681d"
      },
      "execution_count": null,
      "outputs": [
        {
          "output_type": "execute_result",
          "data": {
            "text/plain": [
              "0.3061980400393016"
            ]
          },
          "metadata": {},
          "execution_count": 12
        }
      ]
    },
    {
      "cell_type": "code",
      "source": [
        "# Given\n",
        "mew = 3173\n",
        "sigma = 800\n",
        "\n",
        "x1 = 2109\n",
        "x2 = 3605\n",
        "\n",
        "prob = stats.norm.cdf(x2, mew, sigma) - stats.norm.cdf(x1, mew, sigma)\n",
        "\n",
        "print(\"Prob: \", prob)"
      ],
      "metadata": {
        "id": "TUFytO4lTG2f",
        "colab": {
          "base_uri": "https://localhost:8080/"
        },
        "outputId": "c4e6a9ef-c314-4948-aeb8-213e89c5bcae"
      },
      "execution_count": 2,
      "outputs": [
        {
          "output_type": "stream",
          "name": "stdout",
          "text": [
            "Prob:  0.6136423481340212\n"
          ]
        }
      ]
    },
    {
      "cell_type": "code",
      "source": [
        "import seaborn as sns"
      ],
      "metadata": {
        "id": "prJHa01NRP4J"
      },
      "execution_count": 3,
      "outputs": []
    },
    {
      "cell_type": "code",
      "source": [
        "tips = sns.load_dataset(\"tips\")"
      ],
      "metadata": {
        "id": "HbKzojGNe6nA"
      },
      "execution_count": 5,
      "outputs": []
    },
    {
      "cell_type": "code",
      "source": [
        "sample1 = tips.sample(30)\n",
        "sample2 = tips.sample(50)\n",
        "sample3 = tips.sample(100)\n",
        "sample4 = tips.sample(150)"
      ],
      "metadata": {
        "id": "_qDrHSKje9lm"
      },
      "execution_count": 8,
      "outputs": []
    },
    {
      "cell_type": "code",
      "source": [
        "# mean of total bill\n",
        "import numpy as np\n",
        "print(\"Sample1 Mean:\", sample1.total_bill.mean())\n",
        "std_s1 = np.std(sample1.total_bill, ddof=1)\n",
        "se = std_s1/np.sqrt(sample1.shape[0])\n",
        "\n",
        "print(\"Sample1 SE:\", se)"
      ],
      "metadata": {
        "colab": {
          "base_uri": "https://localhost:8080/"
        },
        "id": "4HVCdbUWfEyO",
        "outputId": "f38a674a-9173-4355-a2db-a7d0e65b2a2d"
      },
      "execution_count": 9,
      "outputs": [
        {
          "output_type": "stream",
          "name": "stdout",
          "text": [
            "Sample1 Mean: 19.164666666666662\n",
            "Sample1 SE: 1.4191636466379407\n"
          ]
        }
      ]
    },
    {
      "cell_type": "code",
      "source": [
        "print(\"Sample2 Mean:\", sample2.total_bill.mean())\n",
        "std_s2 = np.std(sample2.total_bill, ddof=1)\n",
        "se = std_s2/np.sqrt(sample2.shape[0])\n",
        "\n",
        "print(\"Sample1 SE:\", se)\n",
        "print(\"Pop Mean:\", tips.total_bill.mean())"
      ],
      "metadata": {
        "colab": {
          "base_uri": "https://localhost:8080/"
        },
        "id": "OB9lXOXofvW-",
        "outputId": "eee92c46-8fbd-4e2b-ac75-15ff7758d1cd"
      },
      "execution_count": 12,
      "outputs": [
        {
          "output_type": "stream",
          "name": "stdout",
          "text": [
            "Sample2 Mean: 19.022000000000002\n",
            "Sample1 SE: 1.1787580804579443\n",
            "Pop Mean: 19.78594262295082\n"
          ]
        }
      ]
    },
    {
      "cell_type": "code",
      "source": [
        "print(\"Sample3 Mean:\", sample3.total_bill.mean())\n",
        "std_s3 = np.std(sample3.total_bill, ddof=1)\n",
        "se = std_s3/np.sqrt(sample3.shape[0])\n",
        "\n",
        "print(\"Sample1 SE:\", se)"
      ],
      "metadata": {
        "colab": {
          "base_uri": "https://localhost:8080/"
        },
        "id": "GDteuWzXf7tP",
        "outputId": "7d887229-e006-470f-9795-340646ad580a"
      },
      "execution_count": 13,
      "outputs": [
        {
          "output_type": "stream",
          "name": "stdout",
          "text": [
            "Sample3 Mean: 18.5219\n",
            "Sample1 SE: 0.8226791867693226\n"
          ]
        }
      ]
    },
    {
      "cell_type": "code",
      "source": [
        "print(\"Sample4 Mean:\", sample4.total_bill.mean())\n",
        "std_s4 = np.std(sample4.total_bill, ddof=1)\n",
        "se = std_s4/np.sqrt(sample4.shape[0])\n",
        "\n",
        "print(\"Sample1 SE:\", se)"
      ],
      "metadata": {
        "colab": {
          "base_uri": "https://localhost:8080/"
        },
        "id": "9bxfeP3ugYnn",
        "outputId": "cdcc5c25-23c5-4b0b-804d-04cddfe38955"
      },
      "execution_count": 14,
      "outputs": [
        {
          "output_type": "stream",
          "name": "stdout",
          "text": [
            "Sample4 Mean: 19.406866666666666\n",
            "Sample1 SE: 0.7273691930907027\n"
          ]
        }
      ]
    },
    {
      "cell_type": "code",
      "source": [
        "sample5 = tips.sample(200)\n",
        "print(\"Sample5 Mean:\", sample5.total_bill.mean())\n",
        "std_s5 = np.std(sample5.total_bill, ddof=1)\n",
        "se = std_s5/np.sqrt(sample5.shape[0])\n",
        "\n",
        "print(\"Sample1 SE:\", se)"
      ],
      "metadata": {
        "colab": {
          "base_uri": "https://localhost:8080/"
        },
        "id": "IOStDETZgme2",
        "outputId": "f944af01-e235-4f38-b81b-959aba85ab51"
      },
      "execution_count": 15,
      "outputs": [
        {
          "output_type": "stream",
          "name": "stdout",
          "text": [
            "Sample5 Mean: 19.5722\n",
            "Sample1 SE: 0.6162766141316965\n"
          ]
        }
      ]
    },
    {
      "cell_type": "markdown",
      "source": [
        "## Sampling\n",
        "\n",
        "\n",
        "* Sample Statistic vs Population Parameter\n",
        "\n",
        "* Sample Statistic is a terms used for Sample Data where as **Parameter** is a term used for Population.\n",
        "\n",
        "* The **Mean of all the sample means is equal to Population Mean**\n",
        "\n",
        "* The **SD of the Sampling Distribution is known as Standard Error**\n",
        "\n",
        "### About Standard Error\n",
        "\n",
        "* The Standard Error tells us how the **mean of the Sample** is related with the **Pop Mean**\n",
        "\n",
        "* **Higher the Standard Error** i.e. **mean is more spread out** and most likely the sample mean does not represent the Pop Mean/Data.\n",
        "\n",
        "* **SE decreases as the Sample Size Increases** - as the SE becomes lower and lower, the sample statistic holistically start representing the Pop Mean.\n",
        "\n",
        "\n",
        "### Sampling\n",
        "\n",
        "* sampling with replacement and sampling without replacment\n",
        "\n",
        "* **random.sample** - this function will draw the samples from the data but limited to the max data. This is **Sampling without Replacement**\n",
        "\n",
        "* **random.choices** - this function will draw the as many as samples from the data. This is **Sampling with Replacement**\n",
        "\n",
        "\n",
        "\n"
      ],
      "metadata": {
        "id": "YCtghLdFsSi2"
      }
    },
    {
      "cell_type": "code",
      "source": [
        "data = [18, 24, 50, 96, 45, 78, 12, 13, 64]\n",
        "\n",
        "# Sample without replacement\n",
        "import random\n",
        "#random.sample(data, k = 9)\n",
        "\n",
        "# Sample with replacement\n",
        "print(random.choices(data, k = 20))\n"
      ],
      "metadata": {
        "colab": {
          "base_uri": "https://localhost:8080/"
        },
        "id": "1sSdS8fSjHx9",
        "outputId": "55f0181a-5c9b-49e6-9bbc-06d0c87e2d51"
      },
      "execution_count": 23,
      "outputs": [
        {
          "output_type": "stream",
          "name": "stdout",
          "text": [
            "[64, 13, 64, 45, 64, 13, 78, 50, 12, 12, 50, 50, 18, 18, 50, 78, 45, 45, 96, 12]\n"
          ]
        }
      ]
    },
    {
      "cell_type": "code",
      "source": [
        "# Mean Wage of all 5000 employees is $27.50 with a SD of $3.70\n",
        "# If the Sample Size is 30 - sample mean and sd\n",
        "# Since the mean of all the sample means is equal to Pop Mean\n",
        "mew_xbar = 27.50\n",
        "print(\"SE_30Samples: \", 3.70/np.sqrt(30))\n",
        "\n",
        "# If the Sample Size is 75 - sample mean and sd\n",
        "print(\"SE_75Samples: \", 3.70/np.sqrt(75))\n",
        "\n",
        "# If the Sample Size is 200 - sample mean and sd\n",
        "print(\"SE_200Samples: \", 3.70/np.sqrt(200))"
      ],
      "metadata": {
        "colab": {
          "base_uri": "https://localhost:8080/"
        },
        "id": "fMrDWImrt_ol",
        "outputId": "c0a73293-a5af-450f-bc82-1a0ce9f8389f"
      },
      "execution_count": 24,
      "outputs": [
        {
          "output_type": "stream",
          "name": "stdout",
          "text": [
            "SE_30Samples:  0.6755244875897048\n",
            "SE_75Samples:  0.42723919920032305\n",
            "SE_200Samples:  0.2616295090390226\n"
          ]
        }
      ]
    },
    {
      "cell_type": "code",
      "source": [
        "# Mean Weight of Cookies...\n",
        "mew = 32\n",
        "sigma = 0.3\n",
        "n = 20\n",
        "\n",
        "# Out of 20 Samples, find the prob of mean weight between 31.8 to 31.9\n",
        "stats.norm.cdf(31.9, mew, sigma/np.sqrt(n))-\\\n",
        "stats.norm.cdf(31.8, mew, sigma/np.sqrt(n))"
      ],
      "metadata": {
        "colab": {
          "base_uri": "https://localhost:8080/"
        },
        "id": "eY6YHx51whdt",
        "outputId": "b64b2e15-15ca-4d72-f149-899483c1df16"
      },
      "execution_count": 25,
      "outputs": [
        {
          "output_type": "execute_result",
          "data": {
            "text/plain": [
              "0.06658400766103063"
            ]
          },
          "metadata": {},
          "execution_count": 25
        }
      ]
    },
    {
      "cell_type": "markdown",
      "source": [
        "## Central Limit theorem"
      ],
      "metadata": {
        "id": "MRdzpxOB0D4G"
      }
    },
    {
      "cell_type": "code",
      "source": [
        "import warnings\n",
        "warnings.filterwarnings(\"ignore\")\n",
        "\n",
        "# Sample Size 10\n",
        "from scipy.stats import skewnorm\n",
        "sns.distplot(skewnorm.rvs(0, size = 10, loc = 0, scale = 1),kde = False)\n"
      ],
      "metadata": {
        "colab": {
          "base_uri": "https://localhost:8080/",
          "height": 448
        },
        "id": "Jx3rv51Dzxfs",
        "outputId": "cae7898e-f4a4-4728-8d27-ee4aafcc1424"
      },
      "execution_count": 31,
      "outputs": [
        {
          "output_type": "execute_result",
          "data": {
            "text/plain": [
              "<Axes: >"
            ]
          },
          "metadata": {},
          "execution_count": 31
        },
        {
          "output_type": "display_data",
          "data": {
            "text/plain": [
              "<Figure size 640x480 with 1 Axes>"
            ],
            "image/png": "[encoded data removed]"
          },
          "metadata": {}
        }
      ]
    },
    {
      "cell_type": "code",
      "source": [
        "sns.distplot(skewnorm.rvs(0, size = 100, loc = 0, scale = 1),kde = False)"
      ],
      "metadata": {
        "colab": {
          "base_uri": "https://localhost:8080/",
          "height": 448
        },
        "id": "EmFCEdWq0Q-b",
        "outputId": "7da36d27-0fbd-4fd6-c1a0-0318ba7edebd"
      },
      "execution_count": 32,
      "outputs": [
        {
          "output_type": "execute_result",
          "data": {
            "text/plain": [
              "<Axes: >"
            ]
          },
          "metadata": {},
          "execution_count": 32
        },
        {
          "output_type": "display_data",
          "data": {
            "text/plain": [
              "<Figure size 640x480 with 1 Axes>"
            ],
            "image/png": "[encoded data removed]"
          },
          "metadata": {}
        }
      ]
    },
    {
      "cell_type": "code",
      "source": [
        "sns.distplot(skewnorm.rvs(0, size = 1000, loc = 0, scale = 1),kde = False)"
      ],
      "metadata": {
        "colab": {
          "base_uri": "https://localhost:8080/",
          "height": 448
        },
        "id": "zo3cf1nd6h1c",
        "outputId": "2fb2e0f1-99ae-4817-d832-552778a889fa"
      },
      "execution_count": 33,
      "outputs": [
        {
          "output_type": "execute_result",
          "data": {
            "text/plain": [
              "<Axes: >"
            ]
          },
          "metadata": {},
          "execution_count": 33
        },
        {
          "output_type": "display_data",
          "data": {
            "text/plain": [
              "<Figure size 640x480 with 1 Axes>"
            ],
            "image/png": "[encoded data removed]"
          },
          "metadata": {}
        }
      ]
    },
    {
      "cell_type": "code",
      "source": [
        "sns.distplot(skewnorm.rvs(0, size = 10000, loc = 0, scale = 1),kde = False)"
      ],
      "metadata": {
        "colab": {
          "base_uri": "https://localhost:8080/",
          "height": 448
        },
        "id": "w5vzKw8j6l78",
        "outputId": "5ab4afd6-5f41-4437-d9c1-db82cb1520ad"
      },
      "execution_count": 34,
      "outputs": [
        {
          "output_type": "execute_result",
          "data": {
            "text/plain": [
              "<Axes: >"
            ]
          },
          "metadata": {},
          "execution_count": 34
        },
        {
          "output_type": "display_data",
          "data": {
            "text/plain": [
              "<Figure size 640x480 with 1 Axes>"
            ],
            "image/png": "[encoded data removed]"
          },
          "metadata": {}
        }
      ]
    },
    {
      "cell_type": "code",
      "source": [],
      "metadata": {
        "id": "iK0MMVc66qab"
      },
      "execution_count": null,
      "outputs": []
    }
  ]
}